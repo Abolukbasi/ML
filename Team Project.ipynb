{
 "cells": [
  {
   "cell_type": "markdown",
   "id": "c62d46aa-0597-4b55-a184-954689b1668a",
   "metadata": {},
   "source": [
    "## Team Project with Insurance Dataset"
   ]
  },
  {
   "cell_type": "markdown",
   "id": "73c2a639-8a3e-4cd8-807a-dfedf343d3c9",
   "metadata": {},
   "source": [
    "## Import Library"
   ]
  },
  {
   "cell_type": "code",
   "execution_count": 198,
   "id": "76b2e5d6-59b0-4d8d-a5ea-08c462f01e53",
   "metadata": {},
   "outputs": [],
   "source": [
    "import numpy as np\n",
    "import pandas as pd\n",
    "import matplotlib.pyplot as plt\n",
    "import seaborn as sns\n",
    "plt.rcParams[\"figure.figsize\"] = (10, 6)\n",
    "pd.set_option(\"display.max_columns\", 100)\n",
    "\n",
    "import scipy.stats as stats\n",
    "\n",
    "import warnings\n",
    "warnings.filterwarnings(\"ignore\")"
   ]
  },
  {
   "cell_type": "markdown",
   "id": "ac2d5a09-3dd8-46c9-a3cf-6134df7646f5",
   "metadata": {},
   "source": [
    "## Load Dataset"
   ]
  },
  {
   "cell_type": "code",
   "execution_count": 199,
   "id": "9982393b-3732-46c8-a04c-9317232342be",
   "metadata": {},
   "outputs": [],
   "source": [
    "df = pd.read_csv(\"insurance.csv\")"
   ]
  },
  {
   "cell_type": "code",
   "execution_count": 200,
   "id": "c058fb9a-eb00-46a9-95ed-d81b9902a7c5",
   "metadata": {},
   "outputs": [
    {
     "data": {
      "text/html": [
       "<div>\n",
       "<style scoped>\n",
       "    .dataframe tbody tr th:only-of-type {\n",
       "        vertical-align: middle;\n",
       "    }\n",
       "\n",
       "    .dataframe tbody tr th {\n",
       "        vertical-align: top;\n",
       "    }\n",
       "\n",
       "    .dataframe thead th {\n",
       "        text-align: right;\n",
       "    }\n",
       "</style>\n",
       "<table border=\"1\" class=\"dataframe\">\n",
       "  <thead>\n",
       "    <tr style=\"text-align: right;\">\n",
       "      <th></th>\n",
       "      <th>age</th>\n",
       "      <th>sex</th>\n",
       "      <th>bmi</th>\n",
       "      <th>children</th>\n",
       "      <th>smoker</th>\n",
       "      <th>region</th>\n",
       "      <th>charges</th>\n",
       "    </tr>\n",
       "  </thead>\n",
       "  <tbody>\n",
       "    <tr>\n",
       "      <th>0</th>\n",
       "      <td>19</td>\n",
       "      <td>female</td>\n",
       "      <td>27.900</td>\n",
       "      <td>0</td>\n",
       "      <td>yes</td>\n",
       "      <td>southwest</td>\n",
       "      <td>16884.92400</td>\n",
       "    </tr>\n",
       "    <tr>\n",
       "      <th>1</th>\n",
       "      <td>18</td>\n",
       "      <td>male</td>\n",
       "      <td>33.770</td>\n",
       "      <td>1</td>\n",
       "      <td>no</td>\n",
       "      <td>southeast</td>\n",
       "      <td>1725.55230</td>\n",
       "    </tr>\n",
       "    <tr>\n",
       "      <th>2</th>\n",
       "      <td>28</td>\n",
       "      <td>male</td>\n",
       "      <td>33.000</td>\n",
       "      <td>3</td>\n",
       "      <td>no</td>\n",
       "      <td>southeast</td>\n",
       "      <td>4449.46200</td>\n",
       "    </tr>\n",
       "    <tr>\n",
       "      <th>3</th>\n",
       "      <td>33</td>\n",
       "      <td>male</td>\n",
       "      <td>22.705</td>\n",
       "      <td>0</td>\n",
       "      <td>no</td>\n",
       "      <td>northwest</td>\n",
       "      <td>21984.47061</td>\n",
       "    </tr>\n",
       "    <tr>\n",
       "      <th>4</th>\n",
       "      <td>32</td>\n",
       "      <td>male</td>\n",
       "      <td>28.880</td>\n",
       "      <td>0</td>\n",
       "      <td>no</td>\n",
       "      <td>northwest</td>\n",
       "      <td>3866.85520</td>\n",
       "    </tr>\n",
       "  </tbody>\n",
       "</table>\n",
       "</div>"
      ],
      "text/plain": [
       "   age     sex     bmi  children smoker     region      charges\n",
       "0   19  female  27.900         0    yes  southwest  16884.92400\n",
       "1   18    male  33.770         1     no  southeast   1725.55230\n",
       "2   28    male  33.000         3     no  southeast   4449.46200\n",
       "3   33    male  22.705         0     no  northwest  21984.47061\n",
       "4   32    male  28.880         0     no  northwest   3866.85520"
      ]
     },
     "execution_count": 200,
     "metadata": {},
     "output_type": "execute_result"
    }
   ],
   "source": [
    "df.head()"
   ]
  },
  {
   "cell_type": "code",
   "execution_count": 201,
   "id": "c718c7f7-7bfa-4d44-914a-6a5c42245516",
   "metadata": {},
   "outputs": [
    {
     "name": "stdout",
     "output_type": "stream",
     "text": [
      "<class 'pandas.core.frame.DataFrame'>\n",
      "RangeIndex: 1338 entries, 0 to 1337\n",
      "Data columns (total 7 columns):\n",
      " #   Column    Non-Null Count  Dtype  \n",
      "---  ------    --------------  -----  \n",
      " 0   age       1338 non-null   int64  \n",
      " 1   sex       1338 non-null   object \n",
      " 2   bmi       1338 non-null   float64\n",
      " 3   children  1338 non-null   int64  \n",
      " 4   smoker    1338 non-null   object \n",
      " 5   region    1338 non-null   object \n",
      " 6   charges   1338 non-null   float64\n",
      "dtypes: float64(2), int64(2), object(3)\n",
      "memory usage: 73.3+ KB\n"
     ]
    }
   ],
   "source": [
    "df.info()"
   ]
  },
  {
   "cell_type": "code",
   "execution_count": 202,
   "id": "9bf6083c-a621-4aaa-8684-559a1d220614",
   "metadata": {},
   "outputs": [
    {
     "data": {
      "text/html": [
       "<div>\n",
       "<style scoped>\n",
       "    .dataframe tbody tr th:only-of-type {\n",
       "        vertical-align: middle;\n",
       "    }\n",
       "\n",
       "    .dataframe tbody tr th {\n",
       "        vertical-align: top;\n",
       "    }\n",
       "\n",
       "    .dataframe thead th {\n",
       "        text-align: right;\n",
       "    }\n",
       "</style>\n",
       "<table border=\"1\" class=\"dataframe\">\n",
       "  <thead>\n",
       "    <tr style=\"text-align: right;\">\n",
       "      <th></th>\n",
       "      <th>age</th>\n",
       "      <th>bmi</th>\n",
       "      <th>children</th>\n",
       "      <th>charges</th>\n",
       "    </tr>\n",
       "  </thead>\n",
       "  <tbody>\n",
       "    <tr>\n",
       "      <th>age</th>\n",
       "      <td>1.000000</td>\n",
       "      <td>0.109272</td>\n",
       "      <td>0.042469</td>\n",
       "      <td>0.299008</td>\n",
       "    </tr>\n",
       "    <tr>\n",
       "      <th>bmi</th>\n",
       "      <td>0.109272</td>\n",
       "      <td>1.000000</td>\n",
       "      <td>0.012759</td>\n",
       "      <td>0.198341</td>\n",
       "    </tr>\n",
       "    <tr>\n",
       "      <th>children</th>\n",
       "      <td>0.042469</td>\n",
       "      <td>0.012759</td>\n",
       "      <td>1.000000</td>\n",
       "      <td>0.067998</td>\n",
       "    </tr>\n",
       "    <tr>\n",
       "      <th>charges</th>\n",
       "      <td>0.299008</td>\n",
       "      <td>0.198341</td>\n",
       "      <td>0.067998</td>\n",
       "      <td>1.000000</td>\n",
       "    </tr>\n",
       "  </tbody>\n",
       "</table>\n",
       "</div>"
      ],
      "text/plain": [
       "               age       bmi  children   charges\n",
       "age       1.000000  0.109272  0.042469  0.299008\n",
       "bmi       0.109272  1.000000  0.012759  0.198341\n",
       "children  0.042469  0.012759  1.000000  0.067998\n",
       "charges   0.299008  0.198341  0.067998  1.000000"
      ]
     },
     "execution_count": 202,
     "metadata": {},
     "output_type": "execute_result"
    }
   ],
   "source": [
    "df.corr()"
   ]
  },
  {
   "cell_type": "code",
   "execution_count": 203,
   "id": "c9de12bc-ff21-4e9a-b36c-d3d7fa605738",
   "metadata": {},
   "outputs": [
    {
     "data": {
      "image/png": "[encoded data removed]",
      "text/plain": [
       "<Figure size 720x432 with 4 Axes>"
      ]
     },
     "metadata": {
      "needs_background": "light"
     },
     "output_type": "display_data"
    }
   ],
   "source": [
    "df.hist()\n",
    "plt.show()"
   ]
  },
  {
   "cell_type": "code",
   "execution_count": 204,
   "id": "f76259fd-c641-43ad-9562-8caf9707114c",
   "metadata": {},
   "outputs": [
    {
     "data": {
      "text/plain": [
       "age         0\n",
       "sex         0\n",
       "bmi         0\n",
       "children    0\n",
       "smoker      0\n",
       "region      0\n",
       "charges     0\n",
       "dtype: int64"
      ]
     },
     "execution_count": 204,
     "metadata": {},
     "output_type": "execute_result"
    }
   ],
   "source": [
    "df.isnull().sum()"
   ]
  },
  {
   "cell_type": "code",
   "execution_count": 205,
   "id": "062f4d25-bdca-4cd4-9c19-27a1f5818a22",
   "metadata": {},
   "outputs": [
    {
     "data": {
      "text/html": [
       "<div>\n",
       "<style scoped>\n",
       "    .dataframe tbody tr th:only-of-type {\n",
       "        vertical-align: middle;\n",
       "    }\n",
       "\n",
       "    .dataframe tbody tr th {\n",
       "        vertical-align: top;\n",
       "    }\n",
       "\n",
       "    .dataframe thead th {\n",
       "        text-align: right;\n",
       "    }\n",
       "</style>\n",
       "<table border=\"1\" class=\"dataframe\">\n",
       "  <thead>\n",
       "    <tr style=\"text-align: right;\">\n",
       "      <th></th>\n",
       "      <th>age</th>\n",
       "      <th>bmi</th>\n",
       "      <th>children</th>\n",
       "      <th>charges</th>\n",
       "    </tr>\n",
       "  </thead>\n",
       "  <tbody>\n",
       "    <tr>\n",
       "      <th>count</th>\n",
       "      <td>1338.000000</td>\n",
       "      <td>1338.000000</td>\n",
       "      <td>1338.000000</td>\n",
       "      <td>1338.000000</td>\n",
       "    </tr>\n",
       "    <tr>\n",
       "      <th>mean</th>\n",
       "      <td>39.207025</td>\n",
       "      <td>30.663397</td>\n",
       "      <td>1.094918</td>\n",
       "      <td>13270.422265</td>\n",
       "    </tr>\n",
       "    <tr>\n",
       "      <th>std</th>\n",
       "      <td>14.049960</td>\n",
       "      <td>6.098187</td>\n",
       "      <td>1.205493</td>\n",
       "      <td>12110.011237</td>\n",
       "    </tr>\n",
       "    <tr>\n",
       "      <th>min</th>\n",
       "      <td>18.000000</td>\n",
       "      <td>15.960000</td>\n",
       "      <td>0.000000</td>\n",
       "      <td>1121.873900</td>\n",
       "    </tr>\n",
       "    <tr>\n",
       "      <th>25%</th>\n",
       "      <td>27.000000</td>\n",
       "      <td>26.296250</td>\n",
       "      <td>0.000000</td>\n",
       "      <td>4740.287150</td>\n",
       "    </tr>\n",
       "    <tr>\n",
       "      <th>50%</th>\n",
       "      <td>39.000000</td>\n",
       "      <td>30.400000</td>\n",
       "      <td>1.000000</td>\n",
       "      <td>9382.033000</td>\n",
       "    </tr>\n",
       "    <tr>\n",
       "      <th>75%</th>\n",
       "      <td>51.000000</td>\n",
       "      <td>34.693750</td>\n",
       "      <td>2.000000</td>\n",
       "      <td>16639.912515</td>\n",
       "    </tr>\n",
       "    <tr>\n",
       "      <th>max</th>\n",
       "      <td>64.000000</td>\n",
       "      <td>53.130000</td>\n",
       "      <td>5.000000</td>\n",
       "      <td>63770.428010</td>\n",
       "    </tr>\n",
       "  </tbody>\n",
       "</table>\n",
       "</div>"
      ],
      "text/plain": [
       "               age          bmi     children       charges\n",
       "count  1338.000000  1338.000000  1338.000000   1338.000000\n",
       "mean     39.207025    30.663397     1.094918  13270.422265\n",
       "std      14.049960     6.098187     1.205493  12110.011237\n",
       "min      18.000000    15.960000     0.000000   1121.873900\n",
       "25%      27.000000    26.296250     0.000000   4740.287150\n",
       "50%      39.000000    30.400000     1.000000   9382.033000\n",
       "75%      51.000000    34.693750     2.000000  16639.912515\n",
       "max      64.000000    53.130000     5.000000  63770.428010"
      ]
     },
     "execution_count": 205,
     "metadata": {},
     "output_type": "execute_result"
    }
   ],
   "source": [
    "df.describe()"
   ]
  },
  {
   "cell_type": "code",
   "execution_count": 206,
   "id": "bc732431-9702-4804-ad03-8a74e7820bcc",
   "metadata": {},
   "outputs": [
    {
     "data": {
      "text/html": [
       "<div>\n",
       "<style scoped>\n",
       "    .dataframe tbody tr th:only-of-type {\n",
       "        vertical-align: middle;\n",
       "    }\n",
       "\n",
       "    .dataframe tbody tr th {\n",
       "        vertical-align: top;\n",
       "    }\n",
       "\n",
       "    .dataframe thead th {\n",
       "        text-align: right;\n",
       "    }\n",
       "</style>\n",
       "<table border=\"1\" class=\"dataframe\">\n",
       "  <thead>\n",
       "    <tr style=\"text-align: right;\">\n",
       "      <th></th>\n",
       "      <th>age</th>\n",
       "      <th>sex</th>\n",
       "      <th>bmi</th>\n",
       "      <th>children</th>\n",
       "      <th>smoker</th>\n",
       "      <th>region</th>\n",
       "      <th>charges</th>\n",
       "    </tr>\n",
       "  </thead>\n",
       "  <tbody>\n",
       "    <tr>\n",
       "      <th>819</th>\n",
       "      <td>33</td>\n",
       "      <td>female</td>\n",
       "      <td>35.530</td>\n",
       "      <td>0</td>\n",
       "      <td>yes</td>\n",
       "      <td>northwest</td>\n",
       "      <td>55135.40209</td>\n",
       "    </tr>\n",
       "    <tr>\n",
       "      <th>577</th>\n",
       "      <td>31</td>\n",
       "      <td>female</td>\n",
       "      <td>38.095</td>\n",
       "      <td>1</td>\n",
       "      <td>yes</td>\n",
       "      <td>northeast</td>\n",
       "      <td>58571.07448</td>\n",
       "    </tr>\n",
       "    <tr>\n",
       "      <th>1230</th>\n",
       "      <td>52</td>\n",
       "      <td>male</td>\n",
       "      <td>34.485</td>\n",
       "      <td>3</td>\n",
       "      <td>yes</td>\n",
       "      <td>northwest</td>\n",
       "      <td>60021.39897</td>\n",
       "    </tr>\n",
       "    <tr>\n",
       "      <th>1300</th>\n",
       "      <td>45</td>\n",
       "      <td>male</td>\n",
       "      <td>30.360</td>\n",
       "      <td>0</td>\n",
       "      <td>yes</td>\n",
       "      <td>southeast</td>\n",
       "      <td>62592.87309</td>\n",
       "    </tr>\n",
       "    <tr>\n",
       "      <th>543</th>\n",
       "      <td>54</td>\n",
       "      <td>female</td>\n",
       "      <td>47.410</td>\n",
       "      <td>0</td>\n",
       "      <td>yes</td>\n",
       "      <td>southeast</td>\n",
       "      <td>63770.42801</td>\n",
       "    </tr>\n",
       "  </tbody>\n",
       "</table>\n",
       "</div>"
      ],
      "text/plain": [
       "      age     sex     bmi  children smoker     region      charges\n",
       "819    33  female  35.530         0    yes  northwest  55135.40209\n",
       "577    31  female  38.095         1    yes  northeast  58571.07448\n",
       "1230   52    male  34.485         3    yes  northwest  60021.39897\n",
       "1300   45    male  30.360         0    yes  southeast  62592.87309\n",
       "543    54  female  47.410         0    yes  southeast  63770.42801"
      ]
     },
     "execution_count": 206,
     "metadata": {},
     "output_type": "execute_result"
    }
   ],
   "source": [
    "df.sort_values(by=['charges']).tail()"
   ]
  },
  {
   "cell_type": "code",
   "execution_count": 207,
   "id": "07668974-b6bf-486c-acb5-4a670317be88",
   "metadata": {},
   "outputs": [],
   "source": [
    "# df=df[df[\"charges\"] <= 35000]  # otlayerleri çıkarınca anormalleşiyor."
   ]
  },
  {
   "cell_type": "code",
   "execution_count": 208,
   "id": "4b0f674d-931b-47d6-bead-c0d3b09af3bd",
   "metadata": {},
   "outputs": [
    {
     "data": {
      "text/html": [
       "<div>\n",
       "<style scoped>\n",
       "    .dataframe tbody tr th:only-of-type {\n",
       "        vertical-align: middle;\n",
       "    }\n",
       "\n",
       "    .dataframe tbody tr th {\n",
       "        vertical-align: top;\n",
       "    }\n",
       "\n",
       "    .dataframe thead th {\n",
       "        text-align: right;\n",
       "    }\n",
       "</style>\n",
       "<table border=\"1\" class=\"dataframe\">\n",
       "  <thead>\n",
       "    <tr style=\"text-align: right;\">\n",
       "      <th></th>\n",
       "      <th>age</th>\n",
       "      <th>sex</th>\n",
       "      <th>bmi</th>\n",
       "      <th>children</th>\n",
       "      <th>smoker</th>\n",
       "      <th>region</th>\n",
       "      <th>charges</th>\n",
       "    </tr>\n",
       "  </thead>\n",
       "  <tbody>\n",
       "    <tr>\n",
       "      <th>940</th>\n",
       "      <td>18</td>\n",
       "      <td>male</td>\n",
       "      <td>23.21</td>\n",
       "      <td>0</td>\n",
       "      <td>no</td>\n",
       "      <td>southeast</td>\n",
       "      <td>1121.8739</td>\n",
       "    </tr>\n",
       "    <tr>\n",
       "      <th>808</th>\n",
       "      <td>18</td>\n",
       "      <td>male</td>\n",
       "      <td>30.14</td>\n",
       "      <td>0</td>\n",
       "      <td>no</td>\n",
       "      <td>southeast</td>\n",
       "      <td>1131.5066</td>\n",
       "    </tr>\n",
       "    <tr>\n",
       "      <th>1244</th>\n",
       "      <td>18</td>\n",
       "      <td>male</td>\n",
       "      <td>33.33</td>\n",
       "      <td>0</td>\n",
       "      <td>no</td>\n",
       "      <td>southeast</td>\n",
       "      <td>1135.9407</td>\n",
       "    </tr>\n",
       "    <tr>\n",
       "      <th>663</th>\n",
       "      <td>18</td>\n",
       "      <td>male</td>\n",
       "      <td>33.66</td>\n",
       "      <td>0</td>\n",
       "      <td>no</td>\n",
       "      <td>southeast</td>\n",
       "      <td>1136.3994</td>\n",
       "    </tr>\n",
       "    <tr>\n",
       "      <th>22</th>\n",
       "      <td>18</td>\n",
       "      <td>male</td>\n",
       "      <td>34.10</td>\n",
       "      <td>0</td>\n",
       "      <td>no</td>\n",
       "      <td>southeast</td>\n",
       "      <td>1137.0110</td>\n",
       "    </tr>\n",
       "  </tbody>\n",
       "</table>\n",
       "</div>"
      ],
      "text/plain": [
       "      age   sex    bmi  children smoker     region    charges\n",
       "940    18  male  23.21         0     no  southeast  1121.8739\n",
       "808    18  male  30.14         0     no  southeast  1131.5066\n",
       "1244   18  male  33.33         0     no  southeast  1135.9407\n",
       "663    18  male  33.66         0     no  southeast  1136.3994\n",
       "22     18  male  34.10         0     no  southeast  1137.0110"
      ]
     },
     "execution_count": 208,
     "metadata": {},
     "output_type": "execute_result"
    }
   ],
   "source": [
    "df.sort_values(by=['charges']).head()"
   ]
  },
  {
   "cell_type": "code",
   "execution_count": 209,
   "id": "72f5eb29-e28a-46dc-8e90-5fdb224de34c",
   "metadata": {},
   "outputs": [
    {
     "data": {
      "image/png": "[encoded data removed]",
      "text/plain": [
       "<Figure size 720x432 with 1 Axes>"
      ]
     },
     "metadata": {
      "needs_background": "light"
     },
     "output_type": "display_data"
    }
   ],
   "source": [
    "plt.figure(figsize= (10,6))\n",
    "sns.scatterplot(x =df.index, y = df.charges) # residuals\n",
    "plt.axhline(y= 0, color = \"r\", linestyle = \"--\")\n",
    "plt.show()"
   ]
  },
  {
   "cell_type": "code",
   "execution_count": null,
   "id": "5783a230-f9db-498b-af11-2377de14848d",
   "metadata": {},
   "outputs": [],
   "source": []
  },
  {
   "cell_type": "markdown",
   "id": "f6ec4aa8-d066-4fe0-a39a-abe989745cc7",
   "metadata": {},
   "source": [
    "## EDA\n",
    "* Use Visualization Tools\n",
    "* Use Statistical Analysis"
   ]
  },
  {
   "cell_type": "code",
   "execution_count": 210,
   "id": "78e89fbb-b483-452a-9bb6-67cc1fc1a039",
   "metadata": {},
   "outputs": [
    {
     "name": "stdout",
     "output_type": "stream",
     "text": [
      "% of women who insranced: 0.4947683109118087  total women : 662\n"
     ]
    }
   ],
   "source": [
    "women = df.loc[df.sex == 'female']\n",
    "rate_women = len(women)/len(df.sex)\n",
    "\n",
    "print(f\"% of women who insranced: {rate_women}  total women : {len(women)}\")"
   ]
  },
  {
   "cell_type": "code",
   "execution_count": 211,
   "id": "3e8e6cae-5818-4ac9-a422-e1c64e964873",
   "metadata": {},
   "outputs": [
    {
     "name": "stdout",
     "output_type": "stream",
     "text": [
      "% of men who insuranced: 0.5052316890881914  total men : 676\n"
     ]
    }
   ],
   "source": [
    "men = df.loc[df.sex == 'male']\n",
    "rate_men = len(men)/len(df.sex)\n",
    "tot=men+women\n",
    "\n",
    "print(f\"% of men who insuranced: {rate_men}  total men : {len(men)}\")"
   ]
  },
  {
   "cell_type": "code",
   "execution_count": 212,
   "id": "80115b20-3b05-45a8-8226-bd0a54c9db52",
   "metadata": {},
   "outputs": [],
   "source": [
    "smoker_men=df.loc[df.sex=='male'][df.smoker=='yes']['smoker']\n",
    "nonsmoker_men=len(men)-len(smoker_men)\n",
    "smoker_women=df.loc[df.sex=='female'][df.smoker=='yes']['smoker']\n",
    "nonsmoker_women=len(women)-len(smoker_women)"
   ]
  },
  {
   "cell_type": "code",
   "execution_count": 213,
   "id": "325819a7-0957-4846-bda5-29f68eebd68b",
   "metadata": {},
   "outputs": [
    {
     "data": {
      "image/png": "[encoded data removed]",
      "text/plain": [
       "<Figure size 360x360 with 1 Axes>"
      ]
     },
     "metadata": {
      "needs_background": "light"
     },
     "output_type": "display_data"
    }
   ],
   "source": [
    "import matplotlib as mpl\n",
    "import matplotlib.pyplot as plt\n",
    "%matplotlib inline\n",
    "plt.figure(figsize= (5, 5))\n",
    "barWidth = 0.75\n",
    "# set height of bar\n",
    "y1 = np.array([len(women),len(men),len(tot)])\n",
    "y2 = np.array([len(women)/len(tot)*100,len(men)/len(tot)*100,len(tot)/len(tot)*100])\n",
    "\n",
    "# set position of bar on X axis\n",
    "pos1 = np.arange(3)\n",
    "pos=[x + barWidth  for x in pos1]\n",
    "pos=np.array(pos)\n",
    "\n",
    "# Make the plot\n",
    "plt.bar(pos, y1, color = [\"pink\",'y','lightsteelblue'], width = barWidth)\n",
    "\n",
    "for x, y in zip(pos,y1):\n",
    "        plt.text(x, y, \"%d\" % y, ha= \"center\", va = \"bottom\")     \n",
    "\n",
    "for x,y,z in zip(pos,y2,y1):\n",
    "         plt.text(x, z-10, \"%.2f%%\" % y, ha= \"center\", va = \"top\")     \n",
    " \n",
    "# Add xticks on the middle of group bars\n",
    "# plt.ylabel(\"Number of Insurance\", fontweight = \"bold\")\n",
    "plt.xticks([i  for i in pos], [\"Women\", \"Men\", \"Total\"])\n",
    "plt.title('Number of Insurances')\n",
    "\n",
    "# Create legend & show graphic\n",
    "#plt.legend()\n",
    "plt.show()"
   ]
  },
  {
   "cell_type": "code",
   "execution_count": 214,
   "id": "9ea47eb5-c807-41e4-bebe-7273de49c153",
   "metadata": {},
   "outputs": [
    {
     "data": {
      "image/png": "[encoded data removed]",
      "text/plain": [
       "<Figure size 432x432 with 1 Axes>"
      ]
     },
     "metadata": {},
     "output_type": "display_data"
    }
   ],
   "source": [
    "plt.figure(figsize= (6, 6))\n",
    "labels = [\"Women\", \"Men\"]\n",
    "colors = [\"pink\",\"y\"] \n",
    "\n",
    "ax3=plt.subplot(111)\n",
    "ax3.pie([len(women),len(men)], labels = labels, colors = colors, startangle = -90, shadow = True, autopct = \"%.2f%%\")\n",
    "ax3.set_title('Number of Insrances')\n",
    "\n",
    "plt.show()"
   ]
  },
  {
   "cell_type": "code",
   "execution_count": 215,
   "id": "63ee3f49-0bc0-4b40-af8e-bdaeeeb07b4b",
   "metadata": {},
   "outputs": [
    {
     "data": {
      "image/png": "[encoded data removed]",
      "text/plain": [
       "<Figure size 576x432 with 1 Axes>"
      ]
     },
     "metadata": {
      "needs_background": "light"
     },
     "output_type": "display_data"
    }
   ],
   "source": [
    "plt.figure(figsize= (8, 6))\n",
    "barWidth = 0.3\n",
    "# set height of bar\n",
    "y1 = np.array([len(smoker_women),len(smoker_men),len(smoker_women)+len(smoker_men)])\n",
    "y2 = np.array([nonsmoker_women, nonsmoker_men,(nonsmoker_women + nonsmoker_men) ])\n",
    "y3 = np.array([len(women), len(men), len(tot)])\n",
    "\n",
    "y11 = np.array([len(smoker_women)/len(women)*100,len(smoker_men)/len(men)*100,(len(smoker_women)+len(smoker_men)) /len(tot)*100])\n",
    "y12 = np.array([nonsmoker_women/len(women)*100, nonsmoker_men/len(men)*100,(nonsmoker_women + nonsmoker_men) /len(tot)*100])\n",
    "y13 = np.array([len(women)/len(women)*100, len(men)/len(men)*100, len(tot)/len(tot)*100])\n",
    "\n",
    "# set position of bar on X axis\n",
    "pos1 = np.arange(len(y1))\n",
    "pos2 = [x + barWidth for x in pos1]\n",
    "pos3 = [x + barWidth for x in pos2]\n",
    "\n",
    "# Make the plot\n",
    "plt.bar(pos1, y1, color = \"#F57F17\", width = barWidth, label = \"Smoker\")\n",
    "plt.bar(pos2, y2, color = \"#8BC34A\", width = barWidth, label = \"Nonsmoker\")\n",
    "plt.bar(pos3, y3, color = \"lightsteelblue\", width = barWidth, label = \"Total\")\n",
    "\n",
    "for x, y in zip(pos1, y1):\n",
    "    plt.text(x, y, \"%d\" % y, ha= \"center\", va = \"bottom\")     \n",
    "for x, y in zip(pos2, y2):\n",
    "    plt.text(x, y, \"%d\" % y, ha= \"center\", va = \"bottom\")  \n",
    "for x, y in zip(pos3, y3):\n",
    "    plt.text(x, y, \"%d\" % y, ha= \"center\", va = \"bottom\")  \n",
    "\n",
    "for x, y,z in zip(pos1, y11,y1):\n",
    "    plt.text(x, z-10, \"%.2f%%\" % y, ha= \"center\", va = \"top\")     \n",
    "for x, y,z in zip(pos2, y12,y2):\n",
    "    plt.text(x, z-10, \"%.2f%%\" % y, ha= \"center\", va = \"top\")  \n",
    "for x, y,z in zip(pos3, y13,y3):\n",
    "    plt.text(x, z-10, \"%0.2f%%\" % y, ha= \"center\", va = \"top\")  \n",
    "    \n",
    "    # Add xticks on the middle of group bars\n",
    "plt.ylabel(\"Number of Insurance\", fontweight = \"bold\")\n",
    "plt.xticks([i + barWidth for i in range(len(y1))], [\"Women\", \"Men\", \"Total\"])\n",
    "\n",
    "# Create legend & show graphic\n",
    "plt.legend()\n",
    "plt.show()"
   ]
  },
  {
   "cell_type": "code",
   "execution_count": 216,
   "id": "02a12f78-a335-406b-a02a-979e341f5bf4",
   "metadata": {},
   "outputs": [
    {
     "data": {
      "text/html": [
       "<div>\n",
       "<style scoped>\n",
       "    .dataframe tbody tr th:only-of-type {\n",
       "        vertical-align: middle;\n",
       "    }\n",
       "\n",
       "    .dataframe tbody tr th {\n",
       "        vertical-align: top;\n",
       "    }\n",
       "\n",
       "    .dataframe thead th {\n",
       "        text-align: right;\n",
       "    }\n",
       "</style>\n",
       "<table border=\"1\" class=\"dataframe\">\n",
       "  <thead>\n",
       "    <tr style=\"text-align: right;\">\n",
       "      <th></th>\n",
       "      <th></th>\n",
       "      <th>age</th>\n",
       "      <th>bmi</th>\n",
       "      <th>smoker</th>\n",
       "      <th>region</th>\n",
       "      <th>charges</th>\n",
       "    </tr>\n",
       "    <tr>\n",
       "      <th>children</th>\n",
       "      <th>sex</th>\n",
       "      <th></th>\n",
       "      <th></th>\n",
       "      <th></th>\n",
       "      <th></th>\n",
       "      <th></th>\n",
       "    </tr>\n",
       "  </thead>\n",
       "  <tbody>\n",
       "    <tr>\n",
       "      <th rowspan=\"2\" valign=\"top\">0</th>\n",
       "      <th>female</th>\n",
       "      <td>289</td>\n",
       "      <td>289</td>\n",
       "      <td>289</td>\n",
       "      <td>289</td>\n",
       "      <td>289</td>\n",
       "    </tr>\n",
       "    <tr>\n",
       "      <th>male</th>\n",
       "      <td>285</td>\n",
       "      <td>285</td>\n",
       "      <td>285</td>\n",
       "      <td>285</td>\n",
       "      <td>285</td>\n",
       "    </tr>\n",
       "    <tr>\n",
       "      <th rowspan=\"2\" valign=\"top\">1</th>\n",
       "      <th>female</th>\n",
       "      <td>158</td>\n",
       "      <td>158</td>\n",
       "      <td>158</td>\n",
       "      <td>158</td>\n",
       "      <td>158</td>\n",
       "    </tr>\n",
       "    <tr>\n",
       "      <th>male</th>\n",
       "      <td>166</td>\n",
       "      <td>166</td>\n",
       "      <td>166</td>\n",
       "      <td>166</td>\n",
       "      <td>166</td>\n",
       "    </tr>\n",
       "    <tr>\n",
       "      <th rowspan=\"2\" valign=\"top\">2</th>\n",
       "      <th>female</th>\n",
       "      <td>119</td>\n",
       "      <td>119</td>\n",
       "      <td>119</td>\n",
       "      <td>119</td>\n",
       "      <td>119</td>\n",
       "    </tr>\n",
       "    <tr>\n",
       "      <th>male</th>\n",
       "      <td>121</td>\n",
       "      <td>121</td>\n",
       "      <td>121</td>\n",
       "      <td>121</td>\n",
       "      <td>121</td>\n",
       "    </tr>\n",
       "    <tr>\n",
       "      <th rowspan=\"2\" valign=\"top\">3</th>\n",
       "      <th>female</th>\n",
       "      <td>77</td>\n",
       "      <td>77</td>\n",
       "      <td>77</td>\n",
       "      <td>77</td>\n",
       "      <td>77</td>\n",
       "    </tr>\n",
       "    <tr>\n",
       "      <th>male</th>\n",
       "      <td>80</td>\n",
       "      <td>80</td>\n",
       "      <td>80</td>\n",
       "      <td>80</td>\n",
       "      <td>80</td>\n",
       "    </tr>\n",
       "    <tr>\n",
       "      <th rowspan=\"2\" valign=\"top\">4</th>\n",
       "      <th>female</th>\n",
       "      <td>11</td>\n",
       "      <td>11</td>\n",
       "      <td>11</td>\n",
       "      <td>11</td>\n",
       "      <td>11</td>\n",
       "    </tr>\n",
       "    <tr>\n",
       "      <th>male</th>\n",
       "      <td>14</td>\n",
       "      <td>14</td>\n",
       "      <td>14</td>\n",
       "      <td>14</td>\n",
       "      <td>14</td>\n",
       "    </tr>\n",
       "    <tr>\n",
       "      <th rowspan=\"2\" valign=\"top\">5</th>\n",
       "      <th>female</th>\n",
       "      <td>8</td>\n",
       "      <td>8</td>\n",
       "      <td>8</td>\n",
       "      <td>8</td>\n",
       "      <td>8</td>\n",
       "    </tr>\n",
       "    <tr>\n",
       "      <th>male</th>\n",
       "      <td>10</td>\n",
       "      <td>10</td>\n",
       "      <td>10</td>\n",
       "      <td>10</td>\n",
       "      <td>10</td>\n",
       "    </tr>\n",
       "  </tbody>\n",
       "</table>\n",
       "</div>"
      ],
      "text/plain": [
       "                 age  bmi  smoker  region  charges\n",
       "children sex                                      \n",
       "0        female  289  289     289     289      289\n",
       "         male    285  285     285     285      285\n",
       "1        female  158  158     158     158      158\n",
       "         male    166  166     166     166      166\n",
       "2        female  119  119     119     119      119\n",
       "         male    121  121     121     121      121\n",
       "3        female   77   77      77      77       77\n",
       "         male     80   80      80      80       80\n",
       "4        female   11   11      11      11       11\n",
       "         male     14   14      14      14       14\n",
       "5        female    8    8       8       8        8\n",
       "         male     10   10      10      10       10"
      ]
     },
     "execution_count": 216,
     "metadata": {},
     "output_type": "execute_result"
    }
   ],
   "source": [
    "groped=df.groupby([\"children\",\"sex\"]).count()      \n",
    "groped"
   ]
  },
  {
   "cell_type": "code",
   "execution_count": 217,
   "id": "3270a2e6-b2d2-438b-8c7b-e14027ee4820",
   "metadata": {},
   "outputs": [
    {
     "data": {
      "image/png": "[encoded data removed]",
      "text/plain": [
       "<Figure size 360x360 with 1 Axes>"
      ]
     },
     "metadata": {
      "needs_background": "light"
     },
     "output_type": "display_data"
    }
   ],
   "source": [
    "groped=df.groupby([\"children\"]).count()   \n",
    "plt.figure(figsize= (5, 5))\n",
    "barWidth = 0.75\n",
    "# set height of bar\n",
    "y = groped[\"age\"]\n",
    "\n",
    "# set position of bar on X axis\n",
    "pos1 = np.arange(6)\n",
    "pos=[x + barWidth  for x in pos1]\n",
    "pos=np.array(pos)\n",
    "\n",
    "# Make the plot\n",
    "plt.bar(pos1, y, width = barWidth)\n",
    "\n",
    "# Add xticks on the middle of group bars\n",
    "plt.ylabel(\"Number of Insurance\")\n",
    "plt.xlabel(\"Number of Children\")\n",
    "\n",
    "# Create legend & show graphic\n",
    "#plt.legend()\n",
    "plt.show()"
   ]
  },
  {
   "cell_type": "code",
   "execution_count": 218,
   "id": "38ee5e5d-308c-45a9-8108-f51135598f78",
   "metadata": {},
   "outputs": [
    {
     "data": {
      "image/png": "[encoded data removed]",
      "text/plain": [
       "<Figure size 360x360 with 1 Axes>"
      ]
     },
     "metadata": {
      "needs_background": "light"
     },
     "output_type": "display_data"
    }
   ],
   "source": [
    " \n",
    "plt.figure(figsize= (5, 5))\n",
    "barWidth = 0.75\n",
    "# set height of bar\n",
    "y = df[\"charges\"]\n",
    "\n",
    "# set position of bar on X axis\n",
    "pos1 = df[\"bmi\"]\n",
    "pos=[x + barWidth  for x in pos1]\n",
    "pos=np.array(pos)\n",
    "\n",
    "# Make the plot\n",
    "plt.bar(pos1, y, width = barWidth)\n",
    "\n",
    "# Add xticks on the middle of group bars\n",
    "plt.ylabel(\"Charges\")\n",
    "plt.xlabel(\"bmi\")\n",
    "\n",
    "# Create legend & show graphic\n",
    "#plt.legend()\n",
    "plt.show()"
   ]
  },
  {
   "cell_type": "code",
   "execution_count": 219,
   "id": "26ca7764-5752-46f5-90a3-99ccfb4d1733",
   "metadata": {},
   "outputs": [
    {
     "data": {
      "image/png": "[encoded data removed]",
      "text/plain": [
       "<Figure size 360x360 with 1 Axes>"
      ]
     },
     "metadata": {
      "needs_background": "light"
     },
     "output_type": "display_data"
    }
   ],
   "source": [
    "plt.figure(figsize= (5, 5))\n",
    "barWidth = 0.75\n",
    "# set height of bar\n",
    "y = df[\"charges\"]\n",
    "\n",
    "# set position of bar on X axis\n",
    "pos1 = df[\"children\"]\n",
    "pos=[x + barWidth  for x in pos1]\n",
    "pos=np.array(pos)\n",
    "\n",
    "# Make the plot\n",
    "plt.bar(pos1, y, width = barWidth)\n",
    "\n",
    "# Add xticks on the middle of group bars\n",
    "plt.ylabel(\"Charges\")\n",
    "plt.xlabel(\"children\")\n",
    "\n",
    "# Create legend & show graphic\n",
    "#plt.legend()\n",
    "plt.show()"
   ]
  },
  {
   "cell_type": "code",
   "execution_count": 220,
   "id": "74fe90b6-1d45-4c51-9606-822176461191",
   "metadata": {},
   "outputs": [
    {
     "data": {
      "text/html": [
       "<div>\n",
       "<style scoped>\n",
       "    .dataframe tbody tr th:only-of-type {\n",
       "        vertical-align: middle;\n",
       "    }\n",
       "\n",
       "    .dataframe tbody tr th {\n",
       "        vertical-align: top;\n",
       "    }\n",
       "\n",
       "    .dataframe thead th {\n",
       "        text-align: right;\n",
       "    }\n",
       "</style>\n",
       "<table border=\"1\" class=\"dataframe\">\n",
       "  <thead>\n",
       "    <tr style=\"text-align: right;\">\n",
       "      <th>sex</th>\n",
       "      <th>female</th>\n",
       "      <th>male</th>\n",
       "    </tr>\n",
       "    <tr>\n",
       "      <th>children</th>\n",
       "      <th></th>\n",
       "      <th></th>\n",
       "    </tr>\n",
       "  </thead>\n",
       "  <tbody>\n",
       "    <tr>\n",
       "      <th>0</th>\n",
       "      <td>289</td>\n",
       "      <td>285</td>\n",
       "    </tr>\n",
       "    <tr>\n",
       "      <th>1</th>\n",
       "      <td>158</td>\n",
       "      <td>166</td>\n",
       "    </tr>\n",
       "    <tr>\n",
       "      <th>2</th>\n",
       "      <td>119</td>\n",
       "      <td>121</td>\n",
       "    </tr>\n",
       "    <tr>\n",
       "      <th>3</th>\n",
       "      <td>77</td>\n",
       "      <td>80</td>\n",
       "    </tr>\n",
       "    <tr>\n",
       "      <th>4</th>\n",
       "      <td>11</td>\n",
       "      <td>14</td>\n",
       "    </tr>\n",
       "    <tr>\n",
       "      <th>5</th>\n",
       "      <td>8</td>\n",
       "      <td>10</td>\n",
       "    </tr>\n",
       "  </tbody>\n",
       "</table>\n",
       "</div>"
      ],
      "text/plain": [
       "sex       female  male\n",
       "children              \n",
       "0            289   285\n",
       "1            158   166\n",
       "2            119   121\n",
       "3             77    80\n",
       "4             11    14\n",
       "5              8    10"
      ]
     },
     "execution_count": 220,
     "metadata": {},
     "output_type": "execute_result"
    }
   ],
   "source": [
    "a=pd.DataFrame(df.groupby(['children', 'sex']).count())\n",
    "b = a.pivot_table(index=['children'], columns=['sex'], values='age') \n",
    "b"
   ]
  },
  {
   "cell_type": "markdown",
   "id": "d28c8488-b2c6-45ad-9056-d830b7524787",
   "metadata": {},
   "source": [
    "## Data Preparation"
   ]
  },
  {
   "cell_type": "code",
   "execution_count": 221,
   "id": "51614d6d-161e-4c42-ac55-4ecbcd78e900",
   "metadata": {},
   "outputs": [
    {
     "data": {
      "text/plain": [
       "(1338, 7)"
      ]
     },
     "execution_count": 221,
     "metadata": {},
     "output_type": "execute_result"
    }
   ],
   "source": [
    "df.shape"
   ]
  },
  {
   "cell_type": "code",
   "execution_count": 222,
   "id": "2bc41254-0cd9-4771-9977-0e9833fa93e7",
   "metadata": {},
   "outputs": [
    {
     "data": {
      "image/png": "[encoded data removed]",
      "text/plain": [
       "<Figure size 432x288 with 2 Axes>"
      ]
     },
     "metadata": {
      "needs_background": "light"
     },
     "output_type": "display_data"
    }
   ],
   "source": [
    "sns.heatmap(df.corr(), annot= True)\n",
    "plt.show()"
   ]
  },
  {
   "cell_type": "code",
   "execution_count": 223,
   "id": "2326a94c-c341-4369-854e-b5c1ab264d2e",
   "metadata": {},
   "outputs": [],
   "source": [
    "from scipy.stats import skew  "
   ]
  },
  {
   "cell_type": "code",
   "execution_count": 224,
   "id": "2bdf7d7f-2d84-4da6-9cdb-4bc61a8d5c2e",
   "metadata": {},
   "outputs": [
    {
     "name": "stdout",
     "output_type": "stream",
     "text": [
      "age 0.055610083072599126\n",
      "bmi 0.28372857291709386\n",
      "children 0.9373281163874423\n",
      "charges 1.5141797118745743\n"
     ]
    }
   ],
   "source": [
    "for i in df.drop(columns = [\"sex\",\"smoker\",\"region\"]).columns:   #target vale ile ğraşmayın, bağımsızlarla uğraşın\n",
    "    print(i, skew(df[i])) "
   ]
  },
  {
   "cell_type": "code",
   "execution_count": 225,
   "id": "598b20bd-e97f-4f02-ac53-dc6cdb7b025e",
   "metadata": {},
   "outputs": [
    {
     "data": {
      "image/png": "[encoded data removed]",
      "text/plain": [
       "<Figure size 432x288 with 1 Axes>"
      ]
     },
     "metadata": {
      "needs_background": "light"
     },
     "output_type": "display_data"
    },
    {
     "data": {
      "image/png": "[encoded data removed]",
      "text/plain": [
       "<Figure size 432x288 with 1 Axes>"
      ]
     },
     "metadata": {
      "needs_background": "light"
     },
     "output_type": "display_data"
    },
    {
     "data": {
      "image/png": "[encoded data removed]",
      "text/plain": [
       "<Figure size 432x288 with 1 Axes>"
      ]
     },
     "metadata": {
      "needs_background": "light"
     },
     "output_type": "display_data"
    },
    {
     "data": {
      "image/png": "[encoded data removed]",
      "text/plain": [
       "<Figure size 432x288 with 1 Axes>"
      ]
     },
     "metadata": {
      "needs_background": "light"
     },
     "output_type": "display_data"
    }
   ],
   "source": [
    "for j in df.drop(columns = [\"sex\",\"smoker\",\"region\"]).columns:\n",
    "    g = sns.histplot(df[j], color= \"b\", label= \"Skewness : %.2f\"%(df[j].skew()),kde=True)\n",
    "    g = g.legend(loc= \"best\")   # en iyi yere koy\n",
    "    plt.show()"
   ]
  },
  {
   "cell_type": "code",
   "execution_count": 226,
   "id": "c6bae657-a7f6-40a6-8dcd-8fcf97cbc85f",
   "metadata": {},
   "outputs": [
    {
     "data": {
      "image/png": "[encoded data removed]",
      "text/plain": [
       "<Figure size 720x720 with 20 Axes>"
      ]
     },
     "metadata": {
      "needs_background": "light"
     },
     "output_type": "display_data"
    }
   ],
   "source": [
    "sns.pairplot(df)\n",
    "plt.show()"
   ]
  },
  {
   "cell_type": "markdown",
   "id": "7eac9bd4-6b1e-4948-9169-cc53f376200f",
   "metadata": {},
   "source": [
    "## Change string value to numerical\n",
    "* Sex will change 1 - 0\n",
    "* Smoker will change 1- 0\n",
    "* Drop Region Column"
   ]
  },
  {
   "cell_type": "code",
   "execution_count": 227,
   "id": "15f166e2-0228-426f-9984-2246943f34a6",
   "metadata": {},
   "outputs": [],
   "source": [
    "df.replace({'female':0,'male':1,'no':0,'yes':1},inplace=True) \n",
    "df.drop(columns=[\"region\"],axis=1,inplace=True)"
   ]
  },
  {
   "cell_type": "code",
   "execution_count": 228,
   "id": "7742fa31-e26e-46c2-9a2b-26e5a1b6574d",
   "metadata": {},
   "outputs": [
    {
     "name": "stdout",
     "output_type": "stream",
     "text": [
      "<class 'pandas.core.frame.DataFrame'>\n",
      "RangeIndex: 1338 entries, 0 to 1337\n",
      "Data columns (total 6 columns):\n",
      " #   Column    Non-Null Count  Dtype  \n",
      "---  ------    --------------  -----  \n",
      " 0   age       1338 non-null   int64  \n",
      " 1   sex       1338 non-null   int64  \n",
      " 2   bmi       1338 non-null   float64\n",
      " 3   children  1338 non-null   int64  \n",
      " 4   smoker    1338 non-null   int64  \n",
      " 5   charges   1338 non-null   float64\n",
      "dtypes: float64(2), int64(4)\n",
      "memory usage: 62.8 KB\n"
     ]
    }
   ],
   "source": [
    "df.info()"
   ]
  },
  {
   "cell_type": "markdown",
   "id": "4a75f2c8-0a01-476f-bda0-17ff1ea51b12",
   "metadata": {},
   "source": [
    "## Train-Test Split"
   ]
  },
  {
   "cell_type": "code",
   "execution_count": 229,
   "id": "526de149-ed80-47f2-8867-0b6cbce676a5",
   "metadata": {},
   "outputs": [
    {
     "name": "stdout",
     "output_type": "stream",
     "text": [
      "      age  sex     bmi  children  smoker\n",
      "0      19    0  27.900         0       1\n",
      "1      18    1  33.770         1       0\n",
      "2      28    1  33.000         3       0\n",
      "3      33    1  22.705         0       0\n",
      "4      32    1  28.880         0       0\n",
      "...   ...  ...     ...       ...     ...\n",
      "1333   50    1  30.970         3       0\n",
      "1334   18    0  31.920         0       0\n",
      "1335   18    0  36.850         0       0\n",
      "1336   21    0  25.800         0       0\n",
      "1337   61    0  29.070         0       1\n",
      "\n",
      "[1338 rows x 5 columns] 0       16884.92400\n",
      "1        1725.55230\n",
      "2        4449.46200\n",
      "3       21984.47061\n",
      "4        3866.85520\n",
      "           ...     \n",
      "1333    10600.54830\n",
      "1334     2205.98080\n",
      "1335     1629.83350\n",
      "1336     2007.94500\n",
      "1337    29141.36030\n",
      "Name: charges, Length: 1338, dtype: float64\n"
     ]
    }
   ],
   "source": [
    "X = df.drop(columns = \"charges\")\n",
    "y = df[\"charges\"]\n",
    "print(X,y)"
   ]
  },
  {
   "cell_type": "code",
   "execution_count": 230,
   "id": "d653dc59-6444-496c-8b4e-12b1e436aff3",
   "metadata": {},
   "outputs": [],
   "source": [
    "from sklearn.model_selection import train_test_split\n",
    "X_train, X_test, y_train, y_test = train_test_split(X, y, test_size = 0.3, random_state= 42)\n",
    "# test sayısı % 10 olarak kabul edildi."
   ]
  },
  {
   "cell_type": "code",
   "execution_count": 231,
   "id": "8394e3a5-5c5e-4d73-8688-b19b70ee8d23",
   "metadata": {},
   "outputs": [
    {
     "name": "stdout",
     "output_type": "stream",
     "text": [
      "X Train Features Shape: (936, 5)\n",
      "Y Train Features Shape: (936,)\n",
      "X Test Features Shape: (402, 5)\n",
      "X Train Features Shape: (402,)\n"
     ]
    }
   ],
   "source": [
    "print(\"X Train Features Shape: {}\\nY Train Features Shape: {}\\nX Test Features Shape: {}\\nX Train Features Shape: {}\".format(\n",
    "            X_train.shape, y_train.shape, X_test.shape, y_test.shape))"
   ]
  },
  {
   "cell_type": "code",
   "execution_count": null,
   "id": "214f4c73-1d1b-4516-ae14-4f1500abb9ac",
   "metadata": {},
   "outputs": [],
   "source": []
  },
  {
   "cell_type": "markdown",
   "id": "76104247-65b8-404d-9692-5d2f9ad7829f",
   "metadata": {},
   "source": [
    "## Model Fitting and Compare Actual and Predicted Labels"
   ]
  },
  {
   "cell_type": "code",
   "execution_count": 232,
   "id": "fce18b3b-ccb9-4d4b-bf9e-d21d12b84017",
   "metadata": {},
   "outputs": [],
   "source": [
    "from sklearn.linear_model import LinearRegression\n",
    "model = LinearRegression()"
   ]
  },
  {
   "cell_type": "code",
   "execution_count": 233,
   "id": "047dca0b-8c84-4d8e-ac86-34de4a4b958f",
   "metadata": {},
   "outputs": [
    {
     "data": {
      "text/plain": [
       "LinearRegression()"
      ]
     },
     "execution_count": 233,
     "metadata": {},
     "output_type": "execute_result"
    }
   ],
   "source": [
    "model.fit(X_train, y_train)"
   ]
  },
  {
   "cell_type": "code",
   "execution_count": 234,
   "id": "f57b1cd5-edd8-493b-b470-0b7875617926",
   "metadata": {},
   "outputs": [
    {
     "data": {
      "text/plain": [
       "-12538.439849853112"
      ]
     },
     "execution_count": 234,
     "metadata": {},
     "output_type": "execute_result"
    }
   ],
   "source": [
    "model.intercept_ "
   ]
  },
  {
   "cell_type": "code",
   "execution_count": 235,
   "id": "9458b0c7-3709-4fea-877c-e8ee1fb9e692",
   "metadata": {},
   "outputs": [
    {
     "data": {
      "text/plain": [
       "array([  261.91061673,   136.65119758,   333.36099462,   432.1792927 ,\n",
       "       23618.76182167])"
      ]
     },
     "execution_count": 235,
     "metadata": {},
     "output_type": "execute_result"
    }
   ],
   "source": [
    "model.coef_  "
   ]
  },
  {
   "cell_type": "code",
   "execution_count": 236,
   "id": "d78fcf9b-7847-4fae-aaf9-7d705ff6e05a",
   "metadata": {},
   "outputs": [],
   "source": [
    "y_pred = model.predict(X_test)"
   ]
  },
  {
   "cell_type": "code",
   "execution_count": 237,
   "id": "1d88858b-ac9b-4a56-adbb-29ce7f169969",
   "metadata": {},
   "outputs": [],
   "source": [
    "my_dict = {\"Actual\": y_test, \"pred\": y_pred, \"residual\": y_test - y_pred}"
   ]
  },
  {
   "cell_type": "code",
   "execution_count": 238,
   "id": "393dbaf3-d177-41fe-91a3-257ae2ea5679",
   "metadata": {},
   "outputs": [
    {
     "data": {
      "text/html": [
       "<div>\n",
       "<style scoped>\n",
       "    .dataframe tbody tr th:only-of-type {\n",
       "        vertical-align: middle;\n",
       "    }\n",
       "\n",
       "    .dataframe tbody tr th {\n",
       "        vertical-align: top;\n",
       "    }\n",
       "\n",
       "    .dataframe thead th {\n",
       "        text-align: right;\n",
       "    }\n",
       "</style>\n",
       "<table border=\"1\" class=\"dataframe\">\n",
       "  <thead>\n",
       "    <tr style=\"text-align: right;\">\n",
       "      <th></th>\n",
       "      <th>Actual</th>\n",
       "      <th>pred</th>\n",
       "      <th>residual</th>\n",
       "    </tr>\n",
       "  </thead>\n",
       "  <tbody>\n",
       "    <tr>\n",
       "      <th>764</th>\n",
       "      <td>9095.06825</td>\n",
       "      <td>8504.259528</td>\n",
       "      <td>590.808722</td>\n",
       "    </tr>\n",
       "    <tr>\n",
       "      <th>887</th>\n",
       "      <td>5272.17580</td>\n",
       "      <td>6897.839411</td>\n",
       "      <td>-1625.663611</td>\n",
       "    </tr>\n",
       "    <tr>\n",
       "      <th>890</th>\n",
       "      <td>29330.98315</td>\n",
       "      <td>36805.011783</td>\n",
       "      <td>-7474.028633</td>\n",
       "    </tr>\n",
       "    <tr>\n",
       "      <th>1293</th>\n",
       "      <td>9301.89355</td>\n",
       "      <td>9525.016402</td>\n",
       "      <td>-223.122852</td>\n",
       "    </tr>\n",
       "    <tr>\n",
       "      <th>259</th>\n",
       "      <td>33750.29180</td>\n",
       "      <td>26834.157836</td>\n",
       "      <td>6916.133964</td>\n",
       "    </tr>\n",
       "  </tbody>\n",
       "</table>\n",
       "</div>"
      ],
      "text/plain": [
       "           Actual          pred     residual\n",
       "764    9095.06825   8504.259528   590.808722\n",
       "887    5272.17580   6897.839411 -1625.663611\n",
       "890   29330.98315  36805.011783 -7474.028633\n",
       "1293   9301.89355   9525.016402  -223.122852\n",
       "259   33750.29180  26834.157836  6916.133964"
      ]
     },
     "execution_count": 238,
     "metadata": {},
     "output_type": "execute_result"
    }
   ],
   "source": [
    "comparing = pd.DataFrame(my_dict)\n",
    "comparing.head()"
   ]
  },
  {
   "cell_type": "code",
   "execution_count": 239,
   "id": "e7bf6297-31a0-449c-b7e8-c6e8c1e7e8b1",
   "metadata": {},
   "outputs": [
    {
     "data": {
      "text/html": [
       "<div>\n",
       "<style scoped>\n",
       "    .dataframe tbody tr th:only-of-type {\n",
       "        vertical-align: middle;\n",
       "    }\n",
       "\n",
       "    .dataframe tbody tr th {\n",
       "        vertical-align: top;\n",
       "    }\n",
       "\n",
       "    .dataframe thead th {\n",
       "        text-align: right;\n",
       "    }\n",
       "</style>\n",
       "<table border=\"1\" class=\"dataframe\">\n",
       "  <thead>\n",
       "    <tr style=\"text-align: right;\">\n",
       "      <th></th>\n",
       "      <th>Actual</th>\n",
       "      <th>pred</th>\n",
       "      <th>residual</th>\n",
       "    </tr>\n",
       "  </thead>\n",
       "  <tbody>\n",
       "    <tr>\n",
       "      <th>764</th>\n",
       "      <td>9095.06825</td>\n",
       "      <td>8504.259528</td>\n",
       "      <td>590.808722</td>\n",
       "    </tr>\n",
       "    <tr>\n",
       "      <th>887</th>\n",
       "      <td>5272.17580</td>\n",
       "      <td>6897.839411</td>\n",
       "      <td>-1625.663611</td>\n",
       "    </tr>\n",
       "    <tr>\n",
       "      <th>890</th>\n",
       "      <td>29330.98315</td>\n",
       "      <td>36805.011783</td>\n",
       "      <td>-7474.028633</td>\n",
       "    </tr>\n",
       "    <tr>\n",
       "      <th>1293</th>\n",
       "      <td>9301.89355</td>\n",
       "      <td>9525.016402</td>\n",
       "      <td>-223.122852</td>\n",
       "    </tr>\n",
       "    <tr>\n",
       "      <th>259</th>\n",
       "      <td>33750.29180</td>\n",
       "      <td>26834.157836</td>\n",
       "      <td>6916.133964</td>\n",
       "    </tr>\n",
       "  </tbody>\n",
       "</table>\n",
       "</div>"
      ],
      "text/plain": [
       "           Actual          pred     residual\n",
       "764    9095.06825   8504.259528   590.808722\n",
       "887    5272.17580   6897.839411 -1625.663611\n",
       "890   29330.98315  36805.011783 -7474.028633\n",
       "1293   9301.89355   9525.016402  -223.122852\n",
       "259   33750.29180  26834.157836  6916.133964"
      ]
     },
     "execution_count": 239,
     "metadata": {},
     "output_type": "execute_result"
    }
   ],
   "source": [
    "result_sample = comparing.head(15)\n",
    "result_sample.head()"
   ]
  },
  {
   "cell_type": "code",
   "execution_count": 240,
   "id": "6ab6d65a-ae7f-48df-8d21-6bdf414a30e7",
   "metadata": {},
   "outputs": [
    {
     "data": {
      "image/png": "[encoded data removed]",
      "text/plain": [
       "<Figure size 864x432 with 1 Axes>"
      ]
     },
     "metadata": {
      "needs_background": "light"
     },
     "output_type": "display_data"
    }
   ],
   "source": [
    "result_sample.plot(kind = \"bar\", figsize = (12, 6))\n",
    "plt.show()"
   ]
  },
  {
   "cell_type": "markdown",
   "id": "f48fee65-55a1-4ec1-8f0f-462d83e8e9a4",
   "metadata": {},
   "source": [
    "## Error Metrics"
   ]
  },
  {
   "cell_type": "code",
   "execution_count": 241,
   "id": "e24b3c1a-613b-43c4-86ec-4168cc154572",
   "metadata": {},
   "outputs": [
    {
     "data": {
      "text/plain": [
       "0.7680881643600721"
      ]
     },
     "execution_count": 241,
     "metadata": {},
     "output_type": "execute_result"
    }
   ],
   "source": [
    "from sklearn.metrics import mean_absolute_error, mean_squared_error, r2_score\n",
    "R2_score = r2_score(y_test, y_pred)\n",
    "R2_score"
   ]
  },
  {
   "cell_type": "code",
   "execution_count": 242,
   "id": "030595db-dccb-46da-9e27-3fdcac17e08b",
   "metadata": {},
   "outputs": [
    {
     "data": {
      "text/plain": [
       "4171.013084093713"
      ]
     },
     "execution_count": 242,
     "metadata": {},
     "output_type": "execute_result"
    }
   ],
   "source": [
    "mae = mean_absolute_error(y_test, y_pred)\n",
    "mae"
   ]
  },
  {
   "cell_type": "code",
   "execution_count": 243,
   "id": "daa1427a-8678-4800-b104-d8eed74e420c",
   "metadata": {},
   "outputs": [
    {
     "data": {
      "text/plain": [
       "34003912.39316076"
      ]
     },
     "execution_count": 243,
     "metadata": {},
     "output_type": "execute_result"
    }
   ],
   "source": [
    "mse = mean_squared_error(y_test, y_pred)\n",
    "mse"
   ]
  },
  {
   "cell_type": "code",
   "execution_count": 244,
   "id": "29a01d6e-ccbd-487a-8611-01572899c6eb",
   "metadata": {},
   "outputs": [
    {
     "data": {
      "text/plain": [
       "13270.422265141257"
      ]
     },
     "execution_count": 244,
     "metadata": {},
     "output_type": "execute_result"
    }
   ],
   "source": [
    "sales_mean = df[\"charges\"].mean()\n",
    "sales_mean"
   ]
  },
  {
   "cell_type": "code",
   "execution_count": null,
   "id": "80532a6e-3fbc-4511-b358-8776b5010888",
   "metadata": {},
   "outputs": [],
   "source": []
  },
  {
   "cell_type": "markdown",
   "id": "d6f2a2b5-b7b5-4d25-9293-3aa9c52254ee",
   "metadata": {},
   "source": [
    "## Evaluation Model"
   ]
  },
  {
   "cell_type": "code",
   "execution_count": 245,
   "id": "837c3340-bec7-4bec-a60e-41b8dcfd6f58",
   "metadata": {},
   "outputs": [],
   "source": [
    "def eval_metric(actual, pred):\n",
    "    mae = mean_absolute_error(actual, pred)\n",
    "    mse = mean_squared_error(actual, pred)\n",
    "    rmse = np.sqrt(mean_squared_error(actual, pred))\n",
    "    R2_score = r2_score(actual, pred)\n",
    "    print(\"Model testing performance: \")\n",
    "    print(\"---------------------------\")\n",
    "    print(f\"R2_score \\t: {R2_score}\")\n",
    "    print(f\"MAE \\t\\t: {mae}\")\n",
    "    print(f\"MSE \\t\\t: {mse}\")\n",
    "    print(f\"RMSE \\t\\t: {rmse}\")"
   ]
  },
  {
   "cell_type": "code",
   "execution_count": 246,
   "id": "a5820cba-5959-43c9-bd32-a0a02691fcc7",
   "metadata": {},
   "outputs": [
    {
     "name": "stdout",
     "output_type": "stream",
     "text": [
      "Model testing performance: \n",
      "---------------------------\n",
      "R2_score \t: 0.7680881643600721\n",
      "MAE \t\t: 4171.013084093713\n",
      "MSE \t\t: 34003912.39316076\n",
      "RMSE \t\t: 5831.287370140556\n"
     ]
    }
   ],
   "source": [
    "eval_metric(y_test, y_pred)"
   ]
  },
  {
   "cell_type": "code",
   "execution_count": 247,
   "id": "7e410719-51b9-4013-b33c-8ee3eb811aa0",
   "metadata": {},
   "outputs": [],
   "source": [
    "y_train_pred = model.predict(X_train)"
   ]
  },
  {
   "cell_type": "code",
   "execution_count": 248,
   "id": "5af73ef0-8bfa-472e-a9fc-0c3b82e84986",
   "metadata": {},
   "outputs": [
    {
     "name": "stdout",
     "output_type": "stream",
     "text": [
      "Model testing performance: \n",
      "---------------------------\n",
      "R2_score \t: 0.7413880155089707\n",
      "MAE \t\t: 4253.809194427619\n",
      "MSE \t\t: 37878481.85624296\n",
      "RMSE \t\t: 6154.549687527347\n"
     ]
    }
   ],
   "source": [
    "eval_metric(y_train, y_train_pred) "
   ]
  },
  {
   "cell_type": "code",
   "execution_count": 249,
   "id": "9aacf2f8-3f99-480a-b58a-5869b87cf839",
   "metadata": {},
   "outputs": [],
   "source": [
    "# nderfittings var"
   ]
  },
  {
   "cell_type": "markdown",
   "id": "3340937d-89f7-46a9-ad35-9710f64eba6d",
   "metadata": {},
   "source": [
    "## Is data suitable for linear regression?"
   ]
  },
  {
   "cell_type": "code",
   "execution_count": 250,
   "id": "3c4cba13-1702-4820-bf7f-1702d39068a3",
   "metadata": {},
   "outputs": [],
   "source": [
    "residuals = y_test - y_pred"
   ]
  },
  {
   "cell_type": "code",
   "execution_count": 251,
   "id": "bbb0fb2b-cdb4-406a-9c6d-deea13d1e063",
   "metadata": {},
   "outputs": [
    {
     "data": {
      "image/png": "[encoded data removed]",
      "text/plain": [
       "<Figure size 720x432 with 1 Axes>"
      ]
     },
     "metadata": {
      "needs_background": "light"
     },
     "output_type": "display_data"
    }
   ],
   "source": [
    "plt.figure(figsize= (10,6))\n",
    "sns.scatterplot(x = y_test, y = residuals) # residuals\n",
    "plt.axhline(y= 0, color = \"r\", linestyle = \"--\")\n",
    "plt.show()"
   ]
  },
  {
   "cell_type": "markdown",
   "id": "bfa885e2-8ec1-45ba-91d3-4fdcd7e5be2c",
   "metadata": {},
   "source": [
    "* Residal dağılımı simetrik bir dağılım değil. Lineer regression uygun değil. "
   ]
  },
  {
   "cell_type": "code",
   "execution_count": 252,
   "id": "5d82a76f-ece2-486c-9a30-709d33de1c4e",
   "metadata": {},
   "outputs": [
    {
     "data": {
      "image/png": "[encoded data removed]",
      "text/plain": [
       "<Figure size 432x288 with 1 Axes>"
      ]
     },
     "metadata": {
      "needs_background": "light"
     },
     "output_type": "display_data"
    }
   ],
   "source": [
    "sns.kdeplot(residuals)\n",
    "plt.show() "
   ]
  },
  {
   "cell_type": "code",
   "execution_count": 253,
   "id": "4ab02a9d-4b95-45f3-b0bf-86601cc8540a",
   "metadata": {},
   "outputs": [
    {
     "data": {
      "text/plain": [
       "1.1318580788301589"
      ]
     },
     "execution_count": 253,
     "metadata": {},
     "output_type": "execute_result"
    }
   ],
   "source": [
    "skew(residuals)"
   ]
  },
  {
   "cell_type": "code",
   "execution_count": 254,
   "id": "ac7f63df-0cd6-4a97-a0e7-80d35af20677",
   "metadata": {},
   "outputs": [
    {
     "data": {
      "image/png": "[encoded data removed]",
      "text/plain": [
       "<Figure size 432x288 with 1 Axes>"
      ]
     },
     "metadata": {
      "needs_background": "light"
     },
     "output_type": "display_data"
    }
   ],
   "source": [
    "stats.probplot(residuals, dist= \"norm\", plot= plt);"
   ]
  },
  {
   "cell_type": "markdown",
   "id": "117f03a9-b75f-4020-b940-6fdcdb1894e9",
   "metadata": {},
   "source": [
    "* Multilinear regression is not suitable."
   ]
  },
  {
   "cell_type": "markdown",
   "id": "14ef8a47-dbe3-4704-a185-da068c831f57",
   "metadata": {},
   "source": [
    "## Polinomial Conversion Degree = 3"
   ]
  },
  {
   "cell_type": "code",
   "execution_count": 255,
   "id": "c26e6f65-3fee-4f8e-8af4-ea504044d44a",
   "metadata": {},
   "outputs": [],
   "source": [
    "from sklearn.preprocessing import PolynomialFeatures\n",
    "polinomial_converter = PolynomialFeatures(degree = 3, include_bias= False)\n",
    "poly_features = polinomial_converter.fit_transform(X)"
   ]
  },
  {
   "cell_type": "code",
   "execution_count": 256,
   "id": "9f1c7d03-357a-4104-b569-f65f8222648a",
   "metadata": {},
   "outputs": [
    {
     "data": {
      "text/plain": [
       "(1338, 55)"
      ]
     },
     "execution_count": 256,
     "metadata": {},
     "output_type": "execute_result"
    }
   ],
   "source": [
    "poly_features.shape"
   ]
  },
  {
   "cell_type": "code",
   "execution_count": 257,
   "id": "eeda1aee-7e3d-4365-83e0-a029b5c1928f",
   "metadata": {},
   "outputs": [
    {
     "data": {
      "text/html": [
       "<div>\n",
       "<style scoped>\n",
       "    .dataframe tbody tr th:only-of-type {\n",
       "        vertical-align: middle;\n",
       "    }\n",
       "\n",
       "    .dataframe tbody tr th {\n",
       "        vertical-align: top;\n",
       "    }\n",
       "\n",
       "    .dataframe thead th {\n",
       "        text-align: right;\n",
       "    }\n",
       "</style>\n",
       "<table border=\"1\" class=\"dataframe\">\n",
       "  <thead>\n",
       "    <tr style=\"text-align: right;\">\n",
       "      <th></th>\n",
       "      <th>age</th>\n",
       "      <th>sex</th>\n",
       "      <th>bmi</th>\n",
       "      <th>children</th>\n",
       "      <th>smoker</th>\n",
       "    </tr>\n",
       "  </thead>\n",
       "  <tbody>\n",
       "    <tr>\n",
       "      <th>0</th>\n",
       "      <td>19</td>\n",
       "      <td>0</td>\n",
       "      <td>27.900</td>\n",
       "      <td>0</td>\n",
       "      <td>1</td>\n",
       "    </tr>\n",
       "    <tr>\n",
       "      <th>1</th>\n",
       "      <td>18</td>\n",
       "      <td>1</td>\n",
       "      <td>33.770</td>\n",
       "      <td>1</td>\n",
       "      <td>0</td>\n",
       "    </tr>\n",
       "    <tr>\n",
       "      <th>2</th>\n",
       "      <td>28</td>\n",
       "      <td>1</td>\n",
       "      <td>33.000</td>\n",
       "      <td>3</td>\n",
       "      <td>0</td>\n",
       "    </tr>\n",
       "    <tr>\n",
       "      <th>3</th>\n",
       "      <td>33</td>\n",
       "      <td>1</td>\n",
       "      <td>22.705</td>\n",
       "      <td>0</td>\n",
       "      <td>0</td>\n",
       "    </tr>\n",
       "    <tr>\n",
       "      <th>4</th>\n",
       "      <td>32</td>\n",
       "      <td>1</td>\n",
       "      <td>28.880</td>\n",
       "      <td>0</td>\n",
       "      <td>0</td>\n",
       "    </tr>\n",
       "    <tr>\n",
       "      <th>...</th>\n",
       "      <td>...</td>\n",
       "      <td>...</td>\n",
       "      <td>...</td>\n",
       "      <td>...</td>\n",
       "      <td>...</td>\n",
       "    </tr>\n",
       "    <tr>\n",
       "      <th>1333</th>\n",
       "      <td>50</td>\n",
       "      <td>1</td>\n",
       "      <td>30.970</td>\n",
       "      <td>3</td>\n",
       "      <td>0</td>\n",
       "    </tr>\n",
       "    <tr>\n",
       "      <th>1334</th>\n",
       "      <td>18</td>\n",
       "      <td>0</td>\n",
       "      <td>31.920</td>\n",
       "      <td>0</td>\n",
       "      <td>0</td>\n",
       "    </tr>\n",
       "    <tr>\n",
       "      <th>1335</th>\n",
       "      <td>18</td>\n",
       "      <td>0</td>\n",
       "      <td>36.850</td>\n",
       "      <td>0</td>\n",
       "      <td>0</td>\n",
       "    </tr>\n",
       "    <tr>\n",
       "      <th>1336</th>\n",
       "      <td>21</td>\n",
       "      <td>0</td>\n",
       "      <td>25.800</td>\n",
       "      <td>0</td>\n",
       "      <td>0</td>\n",
       "    </tr>\n",
       "    <tr>\n",
       "      <th>1337</th>\n",
       "      <td>61</td>\n",
       "      <td>0</td>\n",
       "      <td>29.070</td>\n",
       "      <td>0</td>\n",
       "      <td>1</td>\n",
       "    </tr>\n",
       "  </tbody>\n",
       "</table>\n",
       "<p>1338 rows × 5 columns</p>\n",
       "</div>"
      ],
      "text/plain": [
       "      age  sex     bmi  children  smoker\n",
       "0      19    0  27.900         0       1\n",
       "1      18    1  33.770         1       0\n",
       "2      28    1  33.000         3       0\n",
       "3      33    1  22.705         0       0\n",
       "4      32    1  28.880         0       0\n",
       "...   ...  ...     ...       ...     ...\n",
       "1333   50    1  30.970         3       0\n",
       "1334   18    0  31.920         0       0\n",
       "1335   18    0  36.850         0       0\n",
       "1336   21    0  25.800         0       0\n",
       "1337   61    0  29.070         0       1\n",
       "\n",
       "[1338 rows x 5 columns]"
      ]
     },
     "execution_count": 257,
     "metadata": {},
     "output_type": "execute_result"
    }
   ],
   "source": [
    "X"
   ]
  },
  {
   "cell_type": "markdown",
   "id": "6d337627-5874-4888-b3e9-6794cdf4b726",
   "metadata": {},
   "source": [
    "## Train | Test Split"
   ]
  },
  {
   "cell_type": "code",
   "execution_count": 258,
   "id": "5ea4fac7-58e8-48b2-8d20-d67ab02b97bd",
   "metadata": {},
   "outputs": [],
   "source": [
    "from sklearn.model_selection import train_test_split"
   ]
  },
  {
   "cell_type": "code",
   "execution_count": 259,
   "id": "c7999a77-1f61-4eb4-aeb7-08241701ae3f",
   "metadata": {},
   "outputs": [],
   "source": [
    "X_train, X_test, y_train, y_test = train_test_split(poly_features, y, test_size = 0.2, random_state= 101)"
   ]
  },
  {
   "cell_type": "markdown",
   "id": "af77a30c-9426-43ea-a291-34a41f53ea8e",
   "metadata": {},
   "source": [
    "## Scaling the Data"
   ]
  },
  {
   "cell_type": "code",
   "execution_count": 260,
   "id": "cc624aa8-260e-4595-a005-42ecfed414a4",
   "metadata": {},
   "outputs": [],
   "source": [
    "from sklearn.preprocessing import StandardScaler, normalize, MinMaxScaler, RobustScaler"
   ]
  },
  {
   "cell_type": "code",
   "execution_count": 261,
   "id": "42aa3724-6695-4466-a786-acb3356fbece",
   "metadata": {},
   "outputs": [],
   "source": [
    "scaler = StandardScaler()"
   ]
  },
  {
   "cell_type": "code",
   "execution_count": 262,
   "id": "5b89989c-c7d7-4d16-b826-90d5a6ca3bc7",
   "metadata": {},
   "outputs": [
    {
     "data": {
      "text/plain": [
       "array([[23.   ,  1.   , 26.51 , ...,  0.   ,  0.   ,  0.   ],\n",
       "       [18.   ,  0.   , 38.28 , ...,  0.   ,  0.   ,  0.   ],\n",
       "       [50.   ,  1.   , 44.77 , ...,  0.   ,  0.   ,  0.   ],\n",
       "       ...,\n",
       "       [57.   ,  1.   , 34.01 , ...,  0.   ,  0.   ,  0.   ],\n",
       "       [52.   ,  0.   , 37.525, ...,  0.   ,  0.   ,  0.   ],\n",
       "       [36.   ,  0.   , 19.855, ...,  0.   ,  0.   ,  0.   ]])"
      ]
     },
     "execution_count": 262,
     "metadata": {},
     "output_type": "execute_result"
    }
   ],
   "source": [
    "scaler.fit(X_train)\n",
    "X_train"
   ]
  },
  {
   "cell_type": "code",
   "execution_count": 263,
   "id": "c8eeb4ef-20e5-42ac-8b77-8e7221126941",
   "metadata": {},
   "outputs": [
    {
     "data": {
      "text/plain": [
       "array([[-1.15786012,  0.99626864, -0.68882801, ..., -0.28268476,\n",
       "        -0.34984074, -0.5174674 ],\n",
       "       [-1.51663179, -1.00374533,  1.24518419, ..., -0.28268476,\n",
       "        -0.34984074, -0.5174674 ],\n",
       "       [ 0.77950689,  0.99626864,  2.31160214, ..., -0.28268476,\n",
       "        -0.34984074, -0.5174674 ],\n",
       "       ...,\n",
       "       [ 1.28178723,  0.99626864,  0.5435502 , ..., -0.28268476,\n",
       "        -0.34984074, -0.5174674 ],\n",
       "       [ 0.92301556, -1.00374533,  1.12112479, ..., -0.28268476,\n",
       "        -0.34984074, -0.5174674 ],\n",
       "       [-0.22505378, -1.00374533, -1.78235828, ..., -0.28268476,\n",
       "        -0.34984074, -0.5174674 ]])"
      ]
     },
     "execution_count": 263,
     "metadata": {},
     "output_type": "execute_result"
    }
   ],
   "source": [
    "X_train = scaler.transform(X_train)\n",
    "X_train"
   ]
  },
  {
   "cell_type": "code",
   "execution_count": 264,
   "id": "76221c8e-3cbc-43b2-b06a-20a52268f5ae",
   "metadata": {},
   "outputs": [],
   "source": [
    "X_test = scaler.transform(X_test)"
   ]
  },
  {
   "cell_type": "code",
   "execution_count": 265,
   "id": "6a82bf0c-b329-42ff-a83c-1d0078abc985",
   "metadata": {},
   "outputs": [
    {
     "data": {
      "text/plain": [
       "array([[-0.08154511,  0.99626864,  1.04307417, ..., -0.28268476,\n",
       "        -0.34984074, -0.5174674 ],\n",
       "       [-1.37312312, -1.00374533, -0.31500662, ..., -0.28268476,\n",
       "        -0.34984074, -0.5174674 ],\n",
       "       [ 1.06652423,  0.99626864, -0.86136096, ..., -0.28268476,\n",
       "        -0.34984074, -0.5174674 ],\n",
       "       ...,\n",
       "       [-1.15786012,  0.99626864, -2.1882215 , ..., -0.28268476,\n",
       "        -0.34984074, -0.5174674 ],\n",
       "       [ 1.35354156, -1.00374533,  0.39402164, ..., -0.28268476,\n",
       "        -0.34984074, -0.5174674 ],\n",
       "       [ 1.28178723, -1.00374533, -0.03402439, ..., -0.28268476,\n",
       "        -0.34984074, -0.5174674 ]])"
      ]
     },
     "execution_count": 265,
     "metadata": {},
     "output_type": "execute_result"
    }
   ],
   "source": [
    "X_test"
   ]
  },
  {
   "cell_type": "code",
   "execution_count": 266,
   "id": "d618d482-6879-4117-b234-eb5582075627",
   "metadata": {},
   "outputs": [
    {
     "data": {
      "text/html": [
       "<div>\n",
       "<style scoped>\n",
       "    .dataframe tbody tr th:only-of-type {\n",
       "        vertical-align: middle;\n",
       "    }\n",
       "\n",
       "    .dataframe tbody tr th {\n",
       "        vertical-align: top;\n",
       "    }\n",
       "\n",
       "    .dataframe thead th {\n",
       "        text-align: right;\n",
       "    }\n",
       "</style>\n",
       "<table border=\"1\" class=\"dataframe\">\n",
       "  <thead>\n",
       "    <tr style=\"text-align: right;\">\n",
       "      <th></th>\n",
       "      <th>0</th>\n",
       "      <th>1</th>\n",
       "      <th>2</th>\n",
       "      <th>3</th>\n",
       "      <th>4</th>\n",
       "      <th>5</th>\n",
       "      <th>6</th>\n",
       "      <th>7</th>\n",
       "      <th>8</th>\n",
       "      <th>9</th>\n",
       "      <th>10</th>\n",
       "      <th>11</th>\n",
       "      <th>12</th>\n",
       "      <th>13</th>\n",
       "      <th>14</th>\n",
       "      <th>15</th>\n",
       "      <th>16</th>\n",
       "      <th>17</th>\n",
       "      <th>18</th>\n",
       "      <th>19</th>\n",
       "      <th>20</th>\n",
       "      <th>21</th>\n",
       "      <th>22</th>\n",
       "      <th>23</th>\n",
       "      <th>24</th>\n",
       "      <th>25</th>\n",
       "      <th>26</th>\n",
       "      <th>27</th>\n",
       "      <th>28</th>\n",
       "      <th>29</th>\n",
       "      <th>30</th>\n",
       "      <th>31</th>\n",
       "      <th>32</th>\n",
       "      <th>33</th>\n",
       "      <th>34</th>\n",
       "      <th>35</th>\n",
       "      <th>36</th>\n",
       "      <th>37</th>\n",
       "      <th>38</th>\n",
       "      <th>39</th>\n",
       "      <th>40</th>\n",
       "      <th>41</th>\n",
       "      <th>42</th>\n",
       "      <th>43</th>\n",
       "      <th>44</th>\n",
       "      <th>45</th>\n",
       "      <th>46</th>\n",
       "      <th>47</th>\n",
       "      <th>48</th>\n",
       "      <th>49</th>\n",
       "      <th>50</th>\n",
       "      <th>51</th>\n",
       "      <th>52</th>\n",
       "      <th>53</th>\n",
       "      <th>54</th>\n",
       "    </tr>\n",
       "  </thead>\n",
       "  <tbody>\n",
       "    <tr>\n",
       "      <th>mean</th>\n",
       "      <td>0.0</td>\n",
       "      <td>-0.0</td>\n",
       "      <td>0.0</td>\n",
       "      <td>0.0</td>\n",
       "      <td>-0.0</td>\n",
       "      <td>0.0</td>\n",
       "      <td>0.0</td>\n",
       "      <td>0.0</td>\n",
       "      <td>0.0</td>\n",
       "      <td>0.0</td>\n",
       "      <td>-0.0</td>\n",
       "      <td>-0.0</td>\n",
       "      <td>-0.0</td>\n",
       "      <td>-0.0</td>\n",
       "      <td>-0.0</td>\n",
       "      <td>0.0</td>\n",
       "      <td>0.0</td>\n",
       "      <td>-0.0</td>\n",
       "      <td>-0.0</td>\n",
       "      <td>-0.0</td>\n",
       "      <td>-0.0</td>\n",
       "      <td>-0.0</td>\n",
       "      <td>0.0</td>\n",
       "      <td>0.0</td>\n",
       "      <td>-0.0</td>\n",
       "      <td>0.0</td>\n",
       "      <td>-0.0</td>\n",
       "      <td>-0.0</td>\n",
       "      <td>-0.0</td>\n",
       "      <td>-0.0</td>\n",
       "      <td>0.0</td>\n",
       "      <td>0.0</td>\n",
       "      <td>0.0</td>\n",
       "      <td>0.0</td>\n",
       "      <td>0.0</td>\n",
       "      <td>-0.0</td>\n",
       "      <td>-0.0</td>\n",
       "      <td>-0.0</td>\n",
       "      <td>-0.0</td>\n",
       "      <td>0.0</td>\n",
       "      <td>-0.0</td>\n",
       "      <td>-0.0</td>\n",
       "      <td>-0.0</td>\n",
       "      <td>-0.0</td>\n",
       "      <td>-0.0</td>\n",
       "      <td>0.0</td>\n",
       "      <td>0.0</td>\n",
       "      <td>0.0</td>\n",
       "      <td>-0.0</td>\n",
       "      <td>0.0</td>\n",
       "      <td>0.0</td>\n",
       "      <td>0.0</td>\n",
       "      <td>-0.0</td>\n",
       "      <td>-0.0</td>\n",
       "      <td>-0.0</td>\n",
       "    </tr>\n",
       "    <tr>\n",
       "      <th>std</th>\n",
       "      <td>1.0</td>\n",
       "      <td>1.0</td>\n",
       "      <td>1.0</td>\n",
       "      <td>1.0</td>\n",
       "      <td>1.0</td>\n",
       "      <td>1.0</td>\n",
       "      <td>1.0</td>\n",
       "      <td>1.0</td>\n",
       "      <td>1.0</td>\n",
       "      <td>1.0</td>\n",
       "      <td>1.0</td>\n",
       "      <td>1.0</td>\n",
       "      <td>1.0</td>\n",
       "      <td>1.0</td>\n",
       "      <td>1.0</td>\n",
       "      <td>1.0</td>\n",
       "      <td>1.0</td>\n",
       "      <td>1.0</td>\n",
       "      <td>1.0</td>\n",
       "      <td>1.0</td>\n",
       "      <td>1.0</td>\n",
       "      <td>1.0</td>\n",
       "      <td>1.0</td>\n",
       "      <td>1.0</td>\n",
       "      <td>1.0</td>\n",
       "      <td>1.0</td>\n",
       "      <td>1.0</td>\n",
       "      <td>1.0</td>\n",
       "      <td>1.0</td>\n",
       "      <td>1.0</td>\n",
       "      <td>1.0</td>\n",
       "      <td>1.0</td>\n",
       "      <td>1.0</td>\n",
       "      <td>1.0</td>\n",
       "      <td>1.0</td>\n",
       "      <td>1.0</td>\n",
       "      <td>1.0</td>\n",
       "      <td>1.0</td>\n",
       "      <td>1.0</td>\n",
       "      <td>1.0</td>\n",
       "      <td>1.0</td>\n",
       "      <td>1.0</td>\n",
       "      <td>1.0</td>\n",
       "      <td>1.0</td>\n",
       "      <td>1.0</td>\n",
       "      <td>1.0</td>\n",
       "      <td>1.0</td>\n",
       "      <td>1.0</td>\n",
       "      <td>1.0</td>\n",
       "      <td>1.0</td>\n",
       "      <td>1.0</td>\n",
       "      <td>1.0</td>\n",
       "      <td>1.0</td>\n",
       "      <td>1.0</td>\n",
       "      <td>1.0</td>\n",
       "    </tr>\n",
       "  </tbody>\n",
       "</table>\n",
       "</div>"
      ],
      "text/plain": [
       "       0    1    2    3    4    5    6    7    8    9    10   11   12   13  \\\n",
       "mean  0.0 -0.0  0.0  0.0 -0.0  0.0  0.0  0.0  0.0  0.0 -0.0 -0.0 -0.0 -0.0   \n",
       "std   1.0  1.0  1.0  1.0  1.0  1.0  1.0  1.0  1.0  1.0  1.0  1.0  1.0  1.0   \n",
       "\n",
       "       14   15   16   17   18   19   20   21   22   23   24   25   26   27  \\\n",
       "mean -0.0  0.0  0.0 -0.0 -0.0 -0.0 -0.0 -0.0  0.0  0.0 -0.0  0.0 -0.0 -0.0   \n",
       "std   1.0  1.0  1.0  1.0  1.0  1.0  1.0  1.0  1.0  1.0  1.0  1.0  1.0  1.0   \n",
       "\n",
       "       28   29   30   31   32   33   34   35   36   37   38   39   40   41  \\\n",
       "mean -0.0 -0.0  0.0  0.0  0.0  0.0  0.0 -0.0 -0.0 -0.0 -0.0  0.0 -0.0 -0.0   \n",
       "std   1.0  1.0  1.0  1.0  1.0  1.0  1.0  1.0  1.0  1.0  1.0  1.0  1.0  1.0   \n",
       "\n",
       "       42   43   44   45   46   47   48   49   50   51   52   53   54  \n",
       "mean -0.0 -0.0 -0.0  0.0  0.0  0.0 -0.0  0.0  0.0  0.0 -0.0 -0.0 -0.0  \n",
       "std   1.0  1.0  1.0  1.0  1.0  1.0  1.0  1.0  1.0  1.0  1.0  1.0  1.0  "
      ]
     },
     "execution_count": 266,
     "metadata": {},
     "output_type": "execute_result"
    }
   ],
   "source": [
    "pd.DataFrame(X_train).agg([\"mean\", \"std\"]).round()"
   ]
  },
  {
   "cell_type": "code",
   "execution_count": 267,
   "id": "7faa989a-59e1-4354-92f6-4d8351f55cdf",
   "metadata": {},
   "outputs": [
    {
     "data": {
      "text/html": [
       "<div>\n",
       "<style scoped>\n",
       "    .dataframe tbody tr th:only-of-type {\n",
       "        vertical-align: middle;\n",
       "    }\n",
       "\n",
       "    .dataframe tbody tr th {\n",
       "        vertical-align: top;\n",
       "    }\n",
       "\n",
       "    .dataframe thead th {\n",
       "        text-align: right;\n",
       "    }\n",
       "</style>\n",
       "<table border=\"1\" class=\"dataframe\">\n",
       "  <thead>\n",
       "    <tr style=\"text-align: right;\">\n",
       "      <th></th>\n",
       "      <th>0</th>\n",
       "      <th>1</th>\n",
       "      <th>2</th>\n",
       "      <th>3</th>\n",
       "      <th>4</th>\n",
       "      <th>5</th>\n",
       "      <th>6</th>\n",
       "      <th>7</th>\n",
       "      <th>8</th>\n",
       "      <th>9</th>\n",
       "      <th>10</th>\n",
       "      <th>11</th>\n",
       "      <th>12</th>\n",
       "      <th>13</th>\n",
       "      <th>14</th>\n",
       "      <th>15</th>\n",
       "      <th>16</th>\n",
       "      <th>17</th>\n",
       "      <th>18</th>\n",
       "      <th>19</th>\n",
       "      <th>20</th>\n",
       "      <th>21</th>\n",
       "      <th>22</th>\n",
       "      <th>23</th>\n",
       "      <th>24</th>\n",
       "      <th>25</th>\n",
       "      <th>26</th>\n",
       "      <th>27</th>\n",
       "      <th>28</th>\n",
       "      <th>29</th>\n",
       "      <th>30</th>\n",
       "      <th>31</th>\n",
       "      <th>32</th>\n",
       "      <th>33</th>\n",
       "      <th>34</th>\n",
       "      <th>35</th>\n",
       "      <th>36</th>\n",
       "      <th>37</th>\n",
       "      <th>38</th>\n",
       "      <th>39</th>\n",
       "      <th>40</th>\n",
       "      <th>41</th>\n",
       "      <th>42</th>\n",
       "      <th>43</th>\n",
       "      <th>44</th>\n",
       "      <th>45</th>\n",
       "      <th>46</th>\n",
       "      <th>47</th>\n",
       "      <th>48</th>\n",
       "      <th>49</th>\n",
       "      <th>50</th>\n",
       "      <th>51</th>\n",
       "      <th>52</th>\n",
       "      <th>53</th>\n",
       "      <th>54</th>\n",
       "    </tr>\n",
       "  </thead>\n",
       "  <tbody>\n",
       "    <tr>\n",
       "      <th>mean</th>\n",
       "      <td>0.0</td>\n",
       "      <td>0.0</td>\n",
       "      <td>-0.0</td>\n",
       "      <td>-0.0</td>\n",
       "      <td>-0.0</td>\n",
       "      <td>0.0</td>\n",
       "      <td>0.0</td>\n",
       "      <td>0.0</td>\n",
       "      <td>-0.0</td>\n",
       "      <td>-0.0</td>\n",
       "      <td>0.0</td>\n",
       "      <td>0.0</td>\n",
       "      <td>-0.0</td>\n",
       "      <td>-0.0</td>\n",
       "      <td>-0.0</td>\n",
       "      <td>-0.0</td>\n",
       "      <td>-0.0</td>\n",
       "      <td>-0.0</td>\n",
       "      <td>-0.0</td>\n",
       "      <td>-0.0</td>\n",
       "      <td>0.0</td>\n",
       "      <td>0.0</td>\n",
       "      <td>0.0</td>\n",
       "      <td>-0.0</td>\n",
       "      <td>-0.0</td>\n",
       "      <td>0.0</td>\n",
       "      <td>0.0</td>\n",
       "      <td>-0.0</td>\n",
       "      <td>-0.0</td>\n",
       "      <td>0.0</td>\n",
       "      <td>-0.0</td>\n",
       "      <td>-0.0</td>\n",
       "      <td>-0.0</td>\n",
       "      <td>-0.0</td>\n",
       "      <td>-0.0</td>\n",
       "      <td>0.0</td>\n",
       "      <td>0.0</td>\n",
       "      <td>-0.0</td>\n",
       "      <td>-0.0</td>\n",
       "      <td>0.0</td>\n",
       "      <td>-0.0</td>\n",
       "      <td>-0.0</td>\n",
       "      <td>-0.0</td>\n",
       "      <td>-0.0</td>\n",
       "      <td>-0.0</td>\n",
       "      <td>-0.0</td>\n",
       "      <td>-0.0</td>\n",
       "      <td>-0.0</td>\n",
       "      <td>-0.0</td>\n",
       "      <td>-0.0</td>\n",
       "      <td>-0.0</td>\n",
       "      <td>-0.0</td>\n",
       "      <td>-0.0</td>\n",
       "      <td>-0.0</td>\n",
       "      <td>-0.0</td>\n",
       "    </tr>\n",
       "    <tr>\n",
       "      <th>std</th>\n",
       "      <td>1.0</td>\n",
       "      <td>1.0</td>\n",
       "      <td>1.0</td>\n",
       "      <td>1.0</td>\n",
       "      <td>1.0</td>\n",
       "      <td>1.0</td>\n",
       "      <td>1.0</td>\n",
       "      <td>1.0</td>\n",
       "      <td>1.0</td>\n",
       "      <td>1.0</td>\n",
       "      <td>1.0</td>\n",
       "      <td>1.0</td>\n",
       "      <td>1.0</td>\n",
       "      <td>1.0</td>\n",
       "      <td>1.0</td>\n",
       "      <td>1.0</td>\n",
       "      <td>1.0</td>\n",
       "      <td>1.0</td>\n",
       "      <td>1.0</td>\n",
       "      <td>1.0</td>\n",
       "      <td>1.0</td>\n",
       "      <td>1.0</td>\n",
       "      <td>1.0</td>\n",
       "      <td>1.0</td>\n",
       "      <td>1.0</td>\n",
       "      <td>1.0</td>\n",
       "      <td>1.0</td>\n",
       "      <td>1.0</td>\n",
       "      <td>1.0</td>\n",
       "      <td>1.0</td>\n",
       "      <td>1.0</td>\n",
       "      <td>1.0</td>\n",
       "      <td>1.0</td>\n",
       "      <td>1.0</td>\n",
       "      <td>1.0</td>\n",
       "      <td>1.0</td>\n",
       "      <td>1.0</td>\n",
       "      <td>1.0</td>\n",
       "      <td>1.0</td>\n",
       "      <td>1.0</td>\n",
       "      <td>1.0</td>\n",
       "      <td>1.0</td>\n",
       "      <td>1.0</td>\n",
       "      <td>1.0</td>\n",
       "      <td>1.0</td>\n",
       "      <td>1.0</td>\n",
       "      <td>1.0</td>\n",
       "      <td>1.0</td>\n",
       "      <td>1.0</td>\n",
       "      <td>1.0</td>\n",
       "      <td>1.0</td>\n",
       "      <td>1.0</td>\n",
       "      <td>1.0</td>\n",
       "      <td>1.0</td>\n",
       "      <td>1.0</td>\n",
       "    </tr>\n",
       "  </tbody>\n",
       "</table>\n",
       "</div>"
      ],
      "text/plain": [
       "       0    1    2    3    4    5    6    7    8    9    10   11   12   13  \\\n",
       "mean  0.0  0.0 -0.0 -0.0 -0.0  0.0  0.0  0.0 -0.0 -0.0  0.0  0.0 -0.0 -0.0   \n",
       "std   1.0  1.0  1.0  1.0  1.0  1.0  1.0  1.0  1.0  1.0  1.0  1.0  1.0  1.0   \n",
       "\n",
       "       14   15   16   17   18   19   20   21   22   23   24   25   26   27  \\\n",
       "mean -0.0 -0.0 -0.0 -0.0 -0.0 -0.0  0.0  0.0  0.0 -0.0 -0.0  0.0  0.0 -0.0   \n",
       "std   1.0  1.0  1.0  1.0  1.0  1.0  1.0  1.0  1.0  1.0  1.0  1.0  1.0  1.0   \n",
       "\n",
       "       28   29   30   31   32   33   34   35   36   37   38   39   40   41  \\\n",
       "mean -0.0  0.0 -0.0 -0.0 -0.0 -0.0 -0.0  0.0  0.0 -0.0 -0.0  0.0 -0.0 -0.0   \n",
       "std   1.0  1.0  1.0  1.0  1.0  1.0  1.0  1.0  1.0  1.0  1.0  1.0  1.0  1.0   \n",
       "\n",
       "       42   43   44   45   46   47   48   49   50   51   52   53   54  \n",
       "mean -0.0 -0.0 -0.0 -0.0 -0.0 -0.0 -0.0 -0.0 -0.0 -0.0 -0.0 -0.0 -0.0  \n",
       "std   1.0  1.0  1.0  1.0  1.0  1.0  1.0  1.0  1.0  1.0  1.0  1.0  1.0  "
      ]
     },
     "execution_count": 267,
     "metadata": {},
     "output_type": "execute_result"
    }
   ],
   "source": [
    "pd.DataFrame(X_test).agg([\"mean\", \"std\"]).round()"
   ]
  },
  {
   "cell_type": "code",
   "execution_count": null,
   "id": "ed764ad3-a8bf-4597-8fcb-d748088a8202",
   "metadata": {},
   "outputs": [],
   "source": []
  },
  {
   "cell_type": "markdown",
   "id": "6fd97669-9221-4a30-9bc5-778abec6c89d",
   "metadata": {},
   "source": [
    "## Linear Regression"
   ]
  },
  {
   "cell_type": "code",
   "execution_count": 268,
   "id": "12136ca5-9923-41ef-8cea-b7576ec0fd24",
   "metadata": {},
   "outputs": [],
   "source": [
    "from sklearn.linear_model import LinearRegression\n",
    "lm = LinearRegression()"
   ]
  },
  {
   "cell_type": "code",
   "execution_count": 269,
   "id": "cf56d353-c298-4d60-beca-6e08ed29493f",
   "metadata": {},
   "outputs": [
    {
     "data": {
      "text/plain": [
       "LinearRegression()"
      ]
     },
     "execution_count": 269,
     "metadata": {},
     "output_type": "execute_result"
    }
   ],
   "source": [
    "lm.fit(X_train, y_train)"
   ]
  },
  {
   "cell_type": "code",
   "execution_count": 270,
   "id": "a0ff51e1-5aa8-4543-bfe1-d92cba5f6648",
   "metadata": {},
   "outputs": [],
   "source": [
    "y_pred = lm.predict(X_test)"
   ]
  },
  {
   "cell_type": "code",
   "execution_count": 271,
   "id": "61ac4c32-402a-446a-ada1-f5f8db1cd81b",
   "metadata": {},
   "outputs": [],
   "source": [
    "#y_pred"
   ]
  },
  {
   "cell_type": "code",
   "execution_count": null,
   "id": "136b85c9-695c-4b16-8b20-5066fc66b01d",
   "metadata": {},
   "outputs": [],
   "source": []
  },
  {
   "cell_type": "markdown",
   "id": "fddbc13e-a0ae-446e-958e-989bb10b00be",
   "metadata": {},
   "source": [
    "## Evaluate Model"
   ]
  },
  {
   "cell_type": "code",
   "execution_count": 272,
   "id": "ec5ca2d5-493f-4779-b953-b2b7551287d2",
   "metadata": {},
   "outputs": [],
   "source": [
    "from sklearn.metrics import mean_absolute_error, mean_squared_error, r2_score"
   ]
  },
  {
   "cell_type": "code",
   "execution_count": 273,
   "id": "48dd9de4-a04f-4b72-85eb-6a40a0f6cd93",
   "metadata": {},
   "outputs": [],
   "source": [
    "def eval_metrics(actual, pred):\n",
    "    mae = mean_absolute_error(actual, pred)\n",
    "    mse = mean_squared_error(actual, pred)\n",
    "    rmse = np.sqrt(mean_squared_error(actual, pred))\n",
    "    R2_score = r2_score(actual, pred)\n",
    "    print(\"Model testing performance:\")\n",
    "    print(\"--------------------------\")\n",
    "    print(f\"R2_score \\t: {R2_score}\")\n",
    "    print(f\"MAE \\t\\t: {mae}\")\n",
    "    print(f\"MSE \\t\\t: {mse}\")\n",
    "    print(f\"RMSE \\t\\t: {rmse}\")"
   ]
  },
  {
   "cell_type": "code",
   "execution_count": 274,
   "id": "9d0e9eb2-0a2b-44df-8038-fefd4d56da86",
   "metadata": {},
   "outputs": [],
   "source": [
    "y_train_pred = lm.predict(X_train)"
   ]
  },
  {
   "cell_type": "code",
   "execution_count": 275,
   "id": "b1e8aaeb-aae5-41ac-ac2b-dd72623686ef",
   "metadata": {},
   "outputs": [],
   "source": [
    "#y_train_pred"
   ]
  },
  {
   "cell_type": "code",
   "execution_count": 276,
   "id": "f68081e1-54a3-43b3-ac76-676a94fe1fa9",
   "metadata": {},
   "outputs": [
    {
     "name": "stdout",
     "output_type": "stream",
     "text": [
      "Model testing performance:\n",
      "--------------------------\n",
      "R2_score \t: 0.8486177880348178\n",
      "MAE \t\t: 2815.603094212928\n",
      "MSE \t\t: 22380533.546464074\n",
      "RMSE \t\t: 4730.806859983197\n"
     ]
    }
   ],
   "source": [
    "eval_metrics(y_train, y_train_pred)"
   ]
  },
  {
   "cell_type": "code",
   "execution_count": 277,
   "id": "26144128-3a3c-4ea5-a9d6-19b79c50c52f",
   "metadata": {},
   "outputs": [
    {
     "name": "stdout",
     "output_type": "stream",
     "text": [
      "Model testing performance:\n",
      "--------------------------\n",
      "R2_score \t: 0.8445274372637275\n",
      "MAE \t\t: 2791.8651088232677\n",
      "MSE \t\t: 21938810.023841843\n",
      "RMSE \t\t: 4683.888344510557\n"
     ]
    }
   ],
   "source": [
    "eval_metrics(y_test, y_pred)"
   ]
  },
  {
   "cell_type": "markdown",
   "id": "f52ddfc9-9502-450e-973e-1d4e4c5e02b9",
   "metadata": {},
   "source": [
    "## Multicolineratiy"
   ]
  },
  {
   "cell_type": "code",
   "execution_count": 278,
   "id": "8100968e-f1fc-46b5-934b-4da1bcad8b08",
   "metadata": {},
   "outputs": [],
   "source": [
    "def color_red(val):\n",
    "    if val > 0.9 and val < 0.99:\n",
    "        color = \"red\"\n",
    "    else:\n",
    "        color = \"black\"\n",
    "    return f\"color: {color}\"\n",
    "\n",
    "# 90 and +90 are muticolineraty"
   ]
  },
  {
   "cell_type": "code",
   "execution_count": 279,
   "id": "0d1674fa-a628-483e-abae-dceea637f5b3",
   "metadata": {},
   "outputs": [],
   "source": [
    "#pd.DataFrame(poly_features).corr().style.applymap(color_red)"
   ]
  },
  {
   "cell_type": "code",
   "execution_count": null,
   "id": "8655761b-10af-4391-a6f3-a26da546b35b",
   "metadata": {},
   "outputs": [],
   "source": []
  },
  {
   "cell_type": "markdown",
   "id": "75481238-45d1-4413-a1f7-012da98e4207",
   "metadata": {},
   "source": [
    "## Cross Validate"
   ]
  },
  {
   "cell_type": "code",
   "execution_count": 280,
   "id": "27765b79-9f1c-4661-9aa1-c0cbf0c26894",
   "metadata": {},
   "outputs": [],
   "source": [
    "from sklearn.metrics import SCORERS\n",
    "#list(SCORERS.keys())"
   ]
  },
  {
   "cell_type": "code",
   "execution_count": 281,
   "id": "0bcad9af-39ca-4bf2-a442-449582772078",
   "metadata": {},
   "outputs": [],
   "source": [
    "from sklearn.model_selection import cross_validate, cross_val_score"
   ]
  },
  {
   "cell_type": "code",
   "execution_count": 282,
   "id": "090db6ed-c284-40da-bfb4-9898b2c6869d",
   "metadata": {},
   "outputs": [],
   "source": [
    "model = LinearRegression()"
   ]
  },
  {
   "cell_type": "code",
   "execution_count": 283,
   "id": "f5c0aea1-fef9-455e-990b-5cb392a16f94",
   "metadata": {},
   "outputs": [],
   "source": [
    "scores = cross_validate(model, X_train, y_train, scoring = [\"r2\", \"neg_mean_absolute_error\", \"neg_mean_squared_error\", \\\n",
    "                                                           \"neg_root_mean_squared_error\"], cv = 10)"
   ]
  },
  {
   "cell_type": "code",
   "execution_count": 284,
   "id": "48b77b33-0e0b-41f5-b5d4-7bfaded57c3b",
   "metadata": {},
   "outputs": [
    {
     "data": {
      "text/html": [
       "<div>\n",
       "<style scoped>\n",
       "    .dataframe tbody tr th:only-of-type {\n",
       "        vertical-align: middle;\n",
       "    }\n",
       "\n",
       "    .dataframe tbody tr th {\n",
       "        vertical-align: top;\n",
       "    }\n",
       "\n",
       "    .dataframe thead th {\n",
       "        text-align: right;\n",
       "    }\n",
       "</style>\n",
       "<table border=\"1\" class=\"dataframe\">\n",
       "  <thead>\n",
       "    <tr style=\"text-align: right;\">\n",
       "      <th></th>\n",
       "      <th>fit_time</th>\n",
       "      <th>score_time</th>\n",
       "      <th>test_r2</th>\n",
       "      <th>test_neg_mean_absolute_error</th>\n",
       "      <th>test_neg_mean_squared_error</th>\n",
       "      <th>test_neg_root_mean_squared_error</th>\n",
       "    </tr>\n",
       "  </thead>\n",
       "  <tbody>\n",
       "    <tr>\n",
       "      <th>1</th>\n",
       "      <td>0.004996</td>\n",
       "      <td>0.002999</td>\n",
       "      <td>0.806384</td>\n",
       "      <td>-2826.390401</td>\n",
       "      <td>-2.524258e+07</td>\n",
       "      <td>-5024.198986</td>\n",
       "    </tr>\n",
       "    <tr>\n",
       "      <th>2</th>\n",
       "      <td>0.003999</td>\n",
       "      <td>0.002999</td>\n",
       "      <td>0.900578</td>\n",
       "      <td>-2657.976653</td>\n",
       "      <td>-1.413990e+07</td>\n",
       "      <td>-3760.305267</td>\n",
       "    </tr>\n",
       "    <tr>\n",
       "      <th>3</th>\n",
       "      <td>0.002996</td>\n",
       "      <td>0.001998</td>\n",
       "      <td>0.864173</td>\n",
       "      <td>-2738.156434</td>\n",
       "      <td>-2.022577e+07</td>\n",
       "      <td>-4497.306427</td>\n",
       "    </tr>\n",
       "    <tr>\n",
       "      <th>4</th>\n",
       "      <td>0.003000</td>\n",
       "      <td>0.001998</td>\n",
       "      <td>0.785382</td>\n",
       "      <td>-3085.068487</td>\n",
       "      <td>-2.432549e+07</td>\n",
       "      <td>-4932.087628</td>\n",
       "    </tr>\n",
       "    <tr>\n",
       "      <th>5</th>\n",
       "      <td>0.003997</td>\n",
       "      <td>0.001999</td>\n",
       "      <td>0.857813</td>\n",
       "      <td>-3054.475392</td>\n",
       "      <td>-2.562912e+07</td>\n",
       "      <td>-5062.520792</td>\n",
       "    </tr>\n",
       "    <tr>\n",
       "      <th>6</th>\n",
       "      <td>0.009010</td>\n",
       "      <td>0.002982</td>\n",
       "      <td>0.836057</td>\n",
       "      <td>-2970.603914</td>\n",
       "      <td>-2.553907e+07</td>\n",
       "      <td>-5053.619567</td>\n",
       "    </tr>\n",
       "    <tr>\n",
       "      <th>7</th>\n",
       "      <td>0.003998</td>\n",
       "      <td>0.004997</td>\n",
       "      <td>0.798595</td>\n",
       "      <td>-3117.357820</td>\n",
       "      <td>-2.942804e+07</td>\n",
       "      <td>-5424.762200</td>\n",
       "    </tr>\n",
       "    <tr>\n",
       "      <th>8</th>\n",
       "      <td>0.003997</td>\n",
       "      <td>0.001998</td>\n",
       "      <td>0.841721</td>\n",
       "      <td>-3088.811972</td>\n",
       "      <td>-2.669276e+07</td>\n",
       "      <td>-5166.503916</td>\n",
       "    </tr>\n",
       "    <tr>\n",
       "      <th>9</th>\n",
       "      <td>0.004996</td>\n",
       "      <td>0.002998</td>\n",
       "      <td>0.834975</td>\n",
       "      <td>-3009.017264</td>\n",
       "      <td>-2.479791e+07</td>\n",
       "      <td>-4979.749543</td>\n",
       "    </tr>\n",
       "    <tr>\n",
       "      <th>10</th>\n",
       "      <td>0.004997</td>\n",
       "      <td>0.001999</td>\n",
       "      <td>0.756689</td>\n",
       "      <td>-3197.843315</td>\n",
       "      <td>-3.178944e+07</td>\n",
       "      <td>-5638.212757</td>\n",
       "    </tr>\n",
       "  </tbody>\n",
       "</table>\n",
       "</div>"
      ],
      "text/plain": [
       "    fit_time  score_time   test_r2  test_neg_mean_absolute_error  \\\n",
       "1   0.004996    0.002999  0.806384                  -2826.390401   \n",
       "2   0.003999    0.002999  0.900578                  -2657.976653   \n",
       "3   0.002996    0.001998  0.864173                  -2738.156434   \n",
       "4   0.003000    0.001998  0.785382                  -3085.068487   \n",
       "5   0.003997    0.001999  0.857813                  -3054.475392   \n",
       "6   0.009010    0.002982  0.836057                  -2970.603914   \n",
       "7   0.003998    0.004997  0.798595                  -3117.357820   \n",
       "8   0.003997    0.001998  0.841721                  -3088.811972   \n",
       "9   0.004996    0.002998  0.834975                  -3009.017264   \n",
       "10  0.004997    0.001999  0.756689                  -3197.843315   \n",
       "\n",
       "    test_neg_mean_squared_error  test_neg_root_mean_squared_error  \n",
       "1                 -2.524258e+07                      -5024.198986  \n",
       "2                 -1.413990e+07                      -3760.305267  \n",
       "3                 -2.022577e+07                      -4497.306427  \n",
       "4                 -2.432549e+07                      -4932.087628  \n",
       "5                 -2.562912e+07                      -5062.520792  \n",
       "6                 -2.553907e+07                      -5053.619567  \n",
       "7                 -2.942804e+07                      -5424.762200  \n",
       "8                 -2.669276e+07                      -5166.503916  \n",
       "9                 -2.479791e+07                      -4979.749543  \n",
       "10                -3.178944e+07                      -5638.212757  "
      ]
     },
     "execution_count": 284,
     "metadata": {},
     "output_type": "execute_result"
    }
   ],
   "source": [
    "pd.DataFrame(scores, index = range(1, 11))"
   ]
  },
  {
   "cell_type": "code",
   "execution_count": 285,
   "id": "bca3135a-bbf3-4b5a-989b-6125f3c8ca6a",
   "metadata": {},
   "outputs": [
    {
     "data": {
      "text/plain": [
       "test_r2                             8.282367e-01\n",
       "test_neg_mean_absolute_error       -2.974570e+03\n",
       "test_neg_mean_squared_error        -2.478101e+07\n",
       "test_neg_root_mean_squared_error   -4.953927e+03\n",
       "dtype: float64"
      ]
     },
     "execution_count": 285,
     "metadata": {},
     "output_type": "execute_result"
    }
   ],
   "source": [
    "scores = pd.DataFrame(scores, index = range(1, 11))\n",
    "scores.iloc[:, 2:].mean()"
   ]
  },
  {
   "cell_type": "code",
   "execution_count": 286,
   "id": "463703cb-458f-4971-8cbf-51a1a478fb1a",
   "metadata": {},
   "outputs": [
    {
     "name": "stdout",
     "output_type": "stream",
     "text": [
      "Model testing performance:\n",
      "--------------------------\n",
      "R2_score \t: 0.8445274372637275\n",
      "MAE \t\t: 2791.8651088232677\n",
      "MSE \t\t: 21938810.023841843\n",
      "RMSE \t\t: 4683.888344510557\n"
     ]
    }
   ],
   "source": [
    "eval_metrics(y_test, y_pred)"
   ]
  },
  {
   "cell_type": "code",
   "execution_count": 287,
   "id": "a7983abe-b0f7-46b1-8170-6cea0fa1538a",
   "metadata": {},
   "outputs": [
    {
     "data": {
      "text/html": [
       "<div>\n",
       "<style scoped>\n",
       "    .dataframe tbody tr th:only-of-type {\n",
       "        vertical-align: middle;\n",
       "    }\n",
       "\n",
       "    .dataframe tbody tr th {\n",
       "        vertical-align: top;\n",
       "    }\n",
       "\n",
       "    .dataframe thead th {\n",
       "        text-align: right;\n",
       "    }\n",
       "</style>\n",
       "<table border=\"1\" class=\"dataframe\">\n",
       "  <thead>\n",
       "    <tr style=\"text-align: right;\">\n",
       "      <th></th>\n",
       "      <th>p_train</th>\n",
       "      <th>pe_test</th>\n",
       "    </tr>\n",
       "  </thead>\n",
       "  <tbody>\n",
       "    <tr>\n",
       "      <th>rmse</th>\n",
       "      <td>4.730807e+03</td>\n",
       "      <td>4.683888e+03</td>\n",
       "    </tr>\n",
       "    <tr>\n",
       "      <th>mae</th>\n",
       "      <td>2.815603e+03</td>\n",
       "      <td>2.791865e+03</td>\n",
       "    </tr>\n",
       "    <tr>\n",
       "      <th>mse</th>\n",
       "      <td>2.238053e+07</td>\n",
       "      <td>2.193881e+07</td>\n",
       "    </tr>\n",
       "    <tr>\n",
       "      <th>R2</th>\n",
       "      <td>8.486178e-01</td>\n",
       "      <td>8.445274e-01</td>\n",
       "    </tr>\n",
       "  </tbody>\n",
       "</table>\n",
       "</div>"
      ],
      "text/plain": [
       "           p_train       pe_test\n",
       "rmse  4.730807e+03  4.683888e+03\n",
       "mae   2.815603e+03  2.791865e+03\n",
       "mse   2.238053e+07  2.193881e+07\n",
       "R2    8.486178e-01  8.445274e-01"
      ]
     },
     "execution_count": 287,
     "metadata": {},
     "output_type": "execute_result"
    }
   ],
   "source": [
    "ps = {\"p_train\": {\"rmse\" : np.sqrt(mean_squared_error(y_train, y_train_pred)),\n",
    "                               \"mae\" : mean_absolute_error(y_train, y_train_pred),\n",
    "                               \"mse\" : mean_squared_error(y_train, y_train_pred),\n",
    "                               \"R2\" : r2_score(y_train, y_train_pred)},\n",
    "               \n",
    "               \"pe_test\":  {\"rmse\" : np.sqrt(mean_squared_error(y_test, y_pred)),\n",
    "                               \"mae\" : mean_absolute_error(y_test, y_pred),\n",
    "                               \"mse\" : mean_squared_error(y_test, y_pred),\n",
    "                               \"R2\" : r2_score(y_test, y_pred)}}\n",
    "\n",
    "ps = pd.DataFrame(ps)\n",
    "ps"
   ]
  },
  {
   "cell_type": "code",
   "execution_count": 288,
   "id": "807dd328-7f18-4343-ab05-0a09c01d783d",
   "metadata": {},
   "outputs": [
    {
     "data": {
      "image/png": "[encoded data removed]",
      "text/plain": [
       "<Figure size 432x288 with 1 Axes>"
      ]
     },
     "metadata": {
      "needs_background": "light"
     },
     "output_type": "display_data"
    }
   ],
   "source": [
    "sns.lineplot(data = scores.iloc[:, 2:]);"
   ]
  },
  {
   "cell_type": "code",
   "execution_count": 289,
   "id": "3a6d5285-a208-47b7-8a41-c5e661d6e77c",
   "metadata": {},
   "outputs": [],
   "source": [
    "lm_df = pd.DataFrame(lm.coef_, columns = [\"lm_coef\"])\n"
   ]
  },
  {
   "cell_type": "code",
   "execution_count": null,
   "id": "6cbda304-8cec-4630-8646-eca070944fae",
   "metadata": {},
   "outputs": [],
   "source": []
  },
  {
   "cell_type": "markdown",
   "id": "e6358624-f25e-4934-8dc8-bbd5a0802da6",
   "metadata": {},
   "source": [
    "## Ridge Regression"
   ]
  },
  {
   "cell_type": "code",
   "execution_count": 290,
   "id": "d248e8f3-896d-4aca-ac0a-42e221a10153",
   "metadata": {},
   "outputs": [],
   "source": [
    "from sklearn.linear_model import Ridge"
   ]
  },
  {
   "cell_type": "code",
   "execution_count": 291,
   "id": "c648c05a-4c98-4df9-89af-4df66d8ab058",
   "metadata": {},
   "outputs": [],
   "source": [
    "ridge_model = Ridge(alpha = 1)"
   ]
  },
  {
   "cell_type": "code",
   "execution_count": 292,
   "id": "9627cc9d-f69d-4b16-8ee0-f1c12a979b2d",
   "metadata": {},
   "outputs": [
    {
     "data": {
      "text/plain": [
       "Ridge(alpha=1)"
      ]
     },
     "execution_count": 292,
     "metadata": {},
     "output_type": "execute_result"
    }
   ],
   "source": [
    "ridge_model.fit(X_train, y_train)"
   ]
  },
  {
   "cell_type": "code",
   "execution_count": 293,
   "id": "c5274eb1-c84d-4b0c-af3f-59950026139a",
   "metadata": {},
   "outputs": [],
   "source": [
    "y_pred = ridge_model.predict(X_test)\n",
    "#y_pred"
   ]
  },
  {
   "cell_type": "code",
   "execution_count": 294,
   "id": "dda62a0f-002e-40c9-95ba-a55f4fc1ae5d",
   "metadata": {},
   "outputs": [
    {
     "name": "stdout",
     "output_type": "stream",
     "text": [
      "Model testing performance:\n",
      "--------------------------\n",
      "R2_score \t: 0.8493843285692572\n",
      "MAE \t\t: 2778.213274636654\n",
      "MSE \t\t: 21253451.69576686\n",
      "RMSE \t\t: 4610.146602415899\n"
     ]
    }
   ],
   "source": [
    "eval_metrics(y_test, y_pred)"
   ]
  },
  {
   "cell_type": "code",
   "execution_count": 295,
   "id": "fe147668-177d-4920-9aeb-f4f3866466e6",
   "metadata": {},
   "outputs": [
    {
     "name": "stdout",
     "output_type": "stream",
     "text": [
      "Model testing performance:\n",
      "--------------------------\n",
      "R2_score \t: 0.845371252224312\n",
      "MAE \t\t: 2875.510741057064\n",
      "MSE \t\t: 22860505.418149587\n",
      "RMSE \t\t: 4781.266089452624\n"
     ]
    }
   ],
   "source": [
    "y_train_pred = ridge_model.predict(X_train)\n",
    "eval_metrics(y_train, y_train_pred)"
   ]
  },
  {
   "cell_type": "code",
   "execution_count": 296,
   "id": "bf9dd467-2534-4621-8532-b807060eeea0",
   "metadata": {},
   "outputs": [
    {
     "data": {
      "text/html": [
       "<div>\n",
       "<style scoped>\n",
       "    .dataframe tbody tr th:only-of-type {\n",
       "        vertical-align: middle;\n",
       "    }\n",
       "\n",
       "    .dataframe tbody tr th {\n",
       "        vertical-align: top;\n",
       "    }\n",
       "\n",
       "    .dataframe thead th {\n",
       "        text-align: right;\n",
       "    }\n",
       "</style>\n",
       "<table border=\"1\" class=\"dataframe\">\n",
       "  <thead>\n",
       "    <tr style=\"text-align: right;\">\n",
       "      <th></th>\n",
       "      <th>ridge_train</th>\n",
       "      <th>ridge_test</th>\n",
       "    </tr>\n",
       "  </thead>\n",
       "  <tbody>\n",
       "    <tr>\n",
       "      <th>rmse</th>\n",
       "      <td>4.781266e+03</td>\n",
       "      <td>4.610147e+03</td>\n",
       "    </tr>\n",
       "    <tr>\n",
       "      <th>mae</th>\n",
       "      <td>2.875511e+03</td>\n",
       "      <td>2.778213e+03</td>\n",
       "    </tr>\n",
       "    <tr>\n",
       "      <th>mse</th>\n",
       "      <td>2.286051e+07</td>\n",
       "      <td>2.125345e+07</td>\n",
       "    </tr>\n",
       "    <tr>\n",
       "      <th>R2</th>\n",
       "      <td>8.453713e-01</td>\n",
       "      <td>8.493843e-01</td>\n",
       "    </tr>\n",
       "  </tbody>\n",
       "</table>\n",
       "</div>"
      ],
      "text/plain": [
       "       ridge_train    ridge_test\n",
       "rmse  4.781266e+03  4.610147e+03\n",
       "mae   2.875511e+03  2.778213e+03\n",
       "mse   2.286051e+07  2.125345e+07\n",
       "R2    8.453713e-01  8.493843e-01"
      ]
     },
     "execution_count": 296,
     "metadata": {},
     "output_type": "execute_result"
    }
   ],
   "source": [
    "ridge_scores = {\"ridge_train\": {\"rmse\" : np.sqrt(mean_squared_error(y_train, y_train_pred)),\n",
    "                               \"mae\" : mean_absolute_error(y_train, y_train_pred),\n",
    "                               \"mse\" : mean_squared_error(y_train, y_train_pred),\n",
    "                               \"R2\" : r2_score(y_train, y_train_pred)},\n",
    "               \n",
    "               \"ridge_test\":  {\"rmse\" : np.sqrt(mean_squared_error(y_test, y_pred)),\n",
    "                               \"mae\" : mean_absolute_error(y_test, y_pred),\n",
    "                               \"mse\" : mean_squared_error(y_test, y_pred),\n",
    "                               \"R2\" : r2_score(y_test, y_pred)}}\n",
    "\n",
    "rs = pd.DataFrame(ridge_scores)\n",
    "rs"
   ]
  },
  {
   "cell_type": "code",
   "execution_count": 297,
   "id": "0192654c-4e9c-4637-aaa7-a7843e5a4b34",
   "metadata": {},
   "outputs": [
    {
     "data": {
      "text/html": [
       "<div>\n",
       "<style scoped>\n",
       "    .dataframe tbody tr th:only-of-type {\n",
       "        vertical-align: middle;\n",
       "    }\n",
       "\n",
       "    .dataframe tbody tr th {\n",
       "        vertical-align: top;\n",
       "    }\n",
       "\n",
       "    .dataframe thead th {\n",
       "        text-align: right;\n",
       "    }\n",
       "</style>\n",
       "<table border=\"1\" class=\"dataframe\">\n",
       "  <thead>\n",
       "    <tr style=\"text-align: right;\">\n",
       "      <th></th>\n",
       "      <th>p_train</th>\n",
       "      <th>pe_test</th>\n",
       "      <th>ridge_train</th>\n",
       "      <th>ridge_test</th>\n",
       "    </tr>\n",
       "  </thead>\n",
       "  <tbody>\n",
       "    <tr>\n",
       "      <th>rmse</th>\n",
       "      <td>4.730807e+03</td>\n",
       "      <td>4.683888e+03</td>\n",
       "      <td>4.781266e+03</td>\n",
       "      <td>4.610147e+03</td>\n",
       "    </tr>\n",
       "    <tr>\n",
       "      <th>mae</th>\n",
       "      <td>2.815603e+03</td>\n",
       "      <td>2.791865e+03</td>\n",
       "      <td>2.875511e+03</td>\n",
       "      <td>2.778213e+03</td>\n",
       "    </tr>\n",
       "    <tr>\n",
       "      <th>mse</th>\n",
       "      <td>2.238053e+07</td>\n",
       "      <td>2.193881e+07</td>\n",
       "      <td>2.286051e+07</td>\n",
       "      <td>2.125345e+07</td>\n",
       "    </tr>\n",
       "    <tr>\n",
       "      <th>R2</th>\n",
       "      <td>8.486178e-01</td>\n",
       "      <td>8.445274e-01</td>\n",
       "      <td>8.453713e-01</td>\n",
       "      <td>8.493843e-01</td>\n",
       "    </tr>\n",
       "  </tbody>\n",
       "</table>\n",
       "</div>"
      ],
      "text/plain": [
       "           p_train       pe_test   ridge_train    ridge_test\n",
       "rmse  4.730807e+03  4.683888e+03  4.781266e+03  4.610147e+03\n",
       "mae   2.815603e+03  2.791865e+03  2.875511e+03  2.778213e+03\n",
       "mse   2.238053e+07  2.193881e+07  2.286051e+07  2.125345e+07\n",
       "R2    8.486178e-01  8.445274e-01  8.453713e-01  8.493843e-01"
      ]
     },
     "execution_count": 297,
     "metadata": {},
     "output_type": "execute_result"
    }
   ],
   "source": [
    "pd.concat([ps, rs], axis = 1)"
   ]
  },
  {
   "cell_type": "markdown",
   "id": "4d1e8fc2-08de-4fdc-b2f0-d46fac9856fe",
   "metadata": {},
   "source": [
    "## Choosing best alpha value with Cross-Validation"
   ]
  },
  {
   "cell_type": "code",
   "execution_count": 298,
   "id": "440ae976-1517-4b53-a1b1-37a6317a9f2c",
   "metadata": {},
   "outputs": [],
   "source": [
    "from sklearn.linear_model import RidgeCV"
   ]
  },
  {
   "cell_type": "code",
   "execution_count": 299,
   "id": "a2676612-f948-4f97-8a20-18807c31e954",
   "metadata": {},
   "outputs": [],
   "source": [
    "alpha_space = np.linspace(0.001, 1, 100)\n",
    "#alpha_space"
   ]
  },
  {
   "cell_type": "code",
   "execution_count": 300,
   "id": "6d622147-ef78-4d3b-a99f-0fc15a438bd6",
   "metadata": {},
   "outputs": [],
   "source": [
    "ridge_cv_model = RidgeCV(alphas= alpha_space, cv = 10, scoring = \"neg_root_mean_squared_error\")"
   ]
  },
  {
   "cell_type": "code",
   "execution_count": 301,
   "id": "20b363da-34e8-4b8b-9e56-d8b39e41e8f7",
   "metadata": {},
   "outputs": [
    {
     "data": {
      "text/plain": [
       "RidgeCV(alphas=array([0.001     , 0.01109091, 0.02118182, 0.03127273, 0.04136364,\n",
       "       0.05145455, 0.06154545, 0.07163636, 0.08172727, 0.09181818,\n",
       "       0.10190909, 0.112     , 0.12209091, 0.13218182, 0.14227273,\n",
       "       0.15236364, 0.16245455, 0.17254545, 0.18263636, 0.19272727,\n",
       "       0.20281818, 0.21290909, 0.223     , 0.23309091, 0.24318182,\n",
       "       0.25327273, 0.26336364, 0.27345455, 0.28354545, 0.29363636,\n",
       "       0.30372727, 0....\n",
       "       0.70736364, 0.71745455, 0.72754545, 0.73763636, 0.74772727,\n",
       "       0.75781818, 0.76790909, 0.778     , 0.78809091, 0.79818182,\n",
       "       0.80827273, 0.81836364, 0.82845455, 0.83854545, 0.84863636,\n",
       "       0.85872727, 0.86881818, 0.87890909, 0.889     , 0.89909091,\n",
       "       0.90918182, 0.91927273, 0.92936364, 0.93945455, 0.94954545,\n",
       "       0.95963636, 0.96972727, 0.97981818, 0.98990909, 1.        ]),\n",
       "        cv=10, scoring='neg_root_mean_squared_error')"
      ]
     },
     "execution_count": 301,
     "metadata": {},
     "output_type": "execute_result"
    }
   ],
   "source": [
    "ridge_cv_model.fit(X_train, y_train)"
   ]
  },
  {
   "cell_type": "code",
   "execution_count": 302,
   "id": "bae04616-a18c-4c7f-9171-a05e1b3a34e0",
   "metadata": {},
   "outputs": [
    {
     "data": {
      "text/plain": [
       "0.05145454545454546"
      ]
     },
     "execution_count": 302,
     "metadata": {},
     "output_type": "execute_result"
    }
   ],
   "source": [
    "ridge_cv_model.alpha_"
   ]
  },
  {
   "cell_type": "code",
   "execution_count": 303,
   "id": "f7928f37-ae43-44ca-90c5-3d2a2431c633",
   "metadata": {},
   "outputs": [],
   "source": [
    "y_pred = ridge_cv_model.predict(X_test)"
   ]
  },
  {
   "cell_type": "code",
   "execution_count": 304,
   "id": "80e630fe-615f-4e19-9790-6a1f8126e467",
   "metadata": {},
   "outputs": [
    {
     "name": "stdout",
     "output_type": "stream",
     "text": [
      "Model testing performance:\n",
      "--------------------------\n",
      "R2_score \t: 0.8463675349645072\n",
      "MAE \t\t: 2769.5933966412413\n",
      "MSE \t\t: 21679152.929546725\n",
      "RMSE \t\t: 4656.087727861957\n"
     ]
    }
   ],
   "source": [
    "eval_metrics(y_test, y_pred)"
   ]
  },
  {
   "cell_type": "code",
   "execution_count": 305,
   "id": "bc20499b-5c8f-4200-bd84-0de7c8ce17e9",
   "metadata": {},
   "outputs": [
    {
     "name": "stdout",
     "output_type": "stream",
     "text": [
      "Model testing performance:\n",
      "--------------------------\n",
      "R2_score \t: 0.8483421989944132\n",
      "MAE \t\t: 2814.6600585066453\n",
      "MSE \t\t: 22421276.97122808\n",
      "RMSE \t\t: 4735.111083303968\n"
     ]
    }
   ],
   "source": [
    "y_train_pred = ridge_cv_model.predict(X_train)\n",
    "eval_metrics(y_train, y_train_pred)"
   ]
  },
  {
   "cell_type": "code",
   "execution_count": 306,
   "id": "cf5be021-a711-4310-9750-2a80abd9d7c0",
   "metadata": {},
   "outputs": [
    {
     "data": {
      "text/html": [
       "<div>\n",
       "<style scoped>\n",
       "    .dataframe tbody tr th:only-of-type {\n",
       "        vertical-align: middle;\n",
       "    }\n",
       "\n",
       "    .dataframe tbody tr th {\n",
       "        vertical-align: top;\n",
       "    }\n",
       "\n",
       "    .dataframe thead th {\n",
       "        text-align: right;\n",
       "    }\n",
       "</style>\n",
       "<table border=\"1\" class=\"dataframe\">\n",
       "  <thead>\n",
       "    <tr style=\"text-align: right;\">\n",
       "      <th></th>\n",
       "      <th>ridge_cv_train</th>\n",
       "      <th>ridge_cv_test</th>\n",
       "    </tr>\n",
       "  </thead>\n",
       "  <tbody>\n",
       "    <tr>\n",
       "      <th>rmse</th>\n",
       "      <td>4.735111e+03</td>\n",
       "      <td>4.656088e+03</td>\n",
       "    </tr>\n",
       "    <tr>\n",
       "      <th>mae</th>\n",
       "      <td>2.814660e+03</td>\n",
       "      <td>2.769593e+03</td>\n",
       "    </tr>\n",
       "    <tr>\n",
       "      <th>mse</th>\n",
       "      <td>2.242128e+07</td>\n",
       "      <td>2.167915e+07</td>\n",
       "    </tr>\n",
       "    <tr>\n",
       "      <th>R2</th>\n",
       "      <td>8.483422e-01</td>\n",
       "      <td>8.463675e-01</td>\n",
       "    </tr>\n",
       "  </tbody>\n",
       "</table>\n",
       "</div>"
      ],
      "text/plain": [
       "      ridge_cv_train  ridge_cv_test\n",
       "rmse    4.735111e+03   4.656088e+03\n",
       "mae     2.814660e+03   2.769593e+03\n",
       "mse     2.242128e+07   2.167915e+07\n",
       "R2      8.483422e-01   8.463675e-01"
      ]
     },
     "execution_count": 306,
     "metadata": {},
     "output_type": "execute_result"
    }
   ],
   "source": [
    "ridge_cv_scores = {\"ridge_cv_train\": {\"rmse\" : np.sqrt(mean_squared_error(y_train, y_train_pred)),\n",
    "    \"mae\" : mean_absolute_error(y_train, y_train_pred),\n",
    "    \"mse\" : mean_squared_error(y_train, y_train_pred),\n",
    "    \"R2\" : r2_score(y_train, y_train_pred)}, \n",
    "\n",
    "    \"ridge_cv_test\": {\"rmse\" : np.sqrt(mean_squared_error(y_test, y_pred)),\n",
    "    \"mae\" : mean_absolute_error(y_test, y_pred),\n",
    "    \"mse\" : mean_squared_error(y_test, y_pred),\n",
    "    \"R2\" : r2_score(y_test, y_pred)}}\n",
    "rcs = pd.DataFrame(ridge_cv_scores)\n",
    "rcs"
   ]
  },
  {
   "cell_type": "code",
   "execution_count": 307,
   "id": "90d9e545-b0fe-4fe7-b1ae-714cc26a92a6",
   "metadata": {},
   "outputs": [
    {
     "data": {
      "text/html": [
       "<div>\n",
       "<style scoped>\n",
       "    .dataframe tbody tr th:only-of-type {\n",
       "        vertical-align: middle;\n",
       "    }\n",
       "\n",
       "    .dataframe tbody tr th {\n",
       "        vertical-align: top;\n",
       "    }\n",
       "\n",
       "    .dataframe thead th {\n",
       "        text-align: right;\n",
       "    }\n",
       "</style>\n",
       "<table border=\"1\" class=\"dataframe\">\n",
       "  <thead>\n",
       "    <tr style=\"text-align: right;\">\n",
       "      <th></th>\n",
       "      <th>p_train</th>\n",
       "      <th>pe_test</th>\n",
       "      <th>ridge_train</th>\n",
       "      <th>ridge_test</th>\n",
       "      <th>ridge_cv_train</th>\n",
       "      <th>ridge_cv_test</th>\n",
       "    </tr>\n",
       "  </thead>\n",
       "  <tbody>\n",
       "    <tr>\n",
       "      <th>rmse</th>\n",
       "      <td>4.730807e+03</td>\n",
       "      <td>4.683888e+03</td>\n",
       "      <td>4.781266e+03</td>\n",
       "      <td>4.610147e+03</td>\n",
       "      <td>4.735111e+03</td>\n",
       "      <td>4.656088e+03</td>\n",
       "    </tr>\n",
       "    <tr>\n",
       "      <th>mae</th>\n",
       "      <td>2.815603e+03</td>\n",
       "      <td>2.791865e+03</td>\n",
       "      <td>2.875511e+03</td>\n",
       "      <td>2.778213e+03</td>\n",
       "      <td>2.814660e+03</td>\n",
       "      <td>2.769593e+03</td>\n",
       "    </tr>\n",
       "    <tr>\n",
       "      <th>mse</th>\n",
       "      <td>2.238053e+07</td>\n",
       "      <td>2.193881e+07</td>\n",
       "      <td>2.286051e+07</td>\n",
       "      <td>2.125345e+07</td>\n",
       "      <td>2.242128e+07</td>\n",
       "      <td>2.167915e+07</td>\n",
       "    </tr>\n",
       "    <tr>\n",
       "      <th>R2</th>\n",
       "      <td>8.486178e-01</td>\n",
       "      <td>8.445274e-01</td>\n",
       "      <td>8.453713e-01</td>\n",
       "      <td>8.493843e-01</td>\n",
       "      <td>8.483422e-01</td>\n",
       "      <td>8.463675e-01</td>\n",
       "    </tr>\n",
       "  </tbody>\n",
       "</table>\n",
       "</div>"
      ],
      "text/plain": [
       "           p_train       pe_test   ridge_train    ridge_test  ridge_cv_train  \\\n",
       "rmse  4.730807e+03  4.683888e+03  4.781266e+03  4.610147e+03    4.735111e+03   \n",
       "mae   2.815603e+03  2.791865e+03  2.875511e+03  2.778213e+03    2.814660e+03   \n",
       "mse   2.238053e+07  2.193881e+07  2.286051e+07  2.125345e+07    2.242128e+07   \n",
       "R2    8.486178e-01  8.445274e-01  8.453713e-01  8.493843e-01    8.483422e-01   \n",
       "\n",
       "      ridge_cv_test  \n",
       "rmse   4.656088e+03  \n",
       "mae    2.769593e+03  \n",
       "mse    2.167915e+07  \n",
       "R2     8.463675e-01  "
      ]
     },
     "execution_count": 307,
     "metadata": {},
     "output_type": "execute_result"
    }
   ],
   "source": [
    "pd.concat([ps, rs, rcs], axis = 1)"
   ]
  },
  {
   "cell_type": "code",
   "execution_count": 308,
   "id": "5c25bf2a-77b0-4357-aa08-6d8b4eedba5e",
   "metadata": {},
   "outputs": [],
   "source": [
    "#ridge_cv_model.coef_"
   ]
  },
  {
   "cell_type": "markdown",
   "id": "bf15f80b-cc55-4594-beda-8e325cabea29",
   "metadata": {},
   "source": [
    "## LASSO"
   ]
  },
  {
   "cell_type": "markdown",
   "id": "257bfe21-80e7-4030-838c-0768fa25ac83",
   "metadata": {},
   "source": [
    "* lasso acımasızdır. ancak bizim datalar iyi bir r2 vermese lasso dan başka çıkar yol yyok. "
   ]
  },
  {
   "cell_type": "code",
   "execution_count": 309,
   "id": "ed22fd94-bb7c-41d2-bf1e-b40c199678ff",
   "metadata": {},
   "outputs": [],
   "source": [
    "from sklearn.linear_model import Lasso, LassoCV"
   ]
  },
  {
   "cell_type": "code",
   "execution_count": 310,
   "id": "5ecb8d3e-ee6d-4d2d-b329-c828d6e1dc2a",
   "metadata": {},
   "outputs": [
    {
     "data": {
      "text/plain": [
       "Lasso(alpha=1)"
      ]
     },
     "execution_count": 310,
     "metadata": {},
     "output_type": "execute_result"
    }
   ],
   "source": [
    "lasso_model = Lasso(alpha = 1)\n",
    "lasso_model.fit(X_train, y_train)"
   ]
  },
  {
   "cell_type": "code",
   "execution_count": 311,
   "id": "d31befc6-0d3c-434d-95df-15f1b7f888ef",
   "metadata": {},
   "outputs": [],
   "source": [
    "y_train_pred = lasso_model.predict(X_train)"
   ]
  },
  {
   "cell_type": "code",
   "execution_count": 312,
   "id": "4754f565-ba45-448c-88a8-29fc3d6e9f94",
   "metadata": {},
   "outputs": [
    {
     "name": "stdout",
     "output_type": "stream",
     "text": [
      "Model testing performance:\n",
      "--------------------------\n",
      "R2_score \t: 0.8461458374204841\n",
      "MAE \t\t: 2861.104219382755\n",
      "MSE \t\t: 22745989.784228798\n",
      "RMSE \t\t: 4769.275603718955\n"
     ]
    }
   ],
   "source": [
    "eval_metrics(y_train, y_train_pred)"
   ]
  },
  {
   "cell_type": "code",
   "execution_count": 313,
   "id": "52ffc923-df0f-461f-8e4a-b1f38664d0fe",
   "metadata": {},
   "outputs": [],
   "source": [
    "y_pred = lasso_model.predict(X_test)"
   ]
  },
  {
   "cell_type": "code",
   "execution_count": 314,
   "id": "f8f7a332-c894-485e-aabb-f82acb1c0ac1",
   "metadata": {},
   "outputs": [
    {
     "name": "stdout",
     "output_type": "stream",
     "text": [
      "Model testing performance:\n",
      "--------------------------\n",
      "R2_score \t: 0.8481977681195227\n",
      "MAE \t\t: 2774.6510345426186\n",
      "MSE \t\t: 21420887.826170694\n",
      "RMSE \t\t: 4628.270500540207\n"
     ]
    }
   ],
   "source": [
    "eval_metrics(y_test, y_pred)"
   ]
  },
  {
   "cell_type": "code",
   "execution_count": 315,
   "id": "c3b03a83-66d6-4a7f-b248-3d5aebe1901f",
   "metadata": {},
   "outputs": [
    {
     "data": {
      "text/html": [
       "<div>\n",
       "<style scoped>\n",
       "    .dataframe tbody tr th:only-of-type {\n",
       "        vertical-align: middle;\n",
       "    }\n",
       "\n",
       "    .dataframe tbody tr th {\n",
       "        vertical-align: top;\n",
       "    }\n",
       "\n",
       "    .dataframe thead th {\n",
       "        text-align: right;\n",
       "    }\n",
       "</style>\n",
       "<table border=\"1\" class=\"dataframe\">\n",
       "  <thead>\n",
       "    <tr style=\"text-align: right;\">\n",
       "      <th></th>\n",
       "      <th>lasso_train</th>\n",
       "      <th>lasso_test</th>\n",
       "    </tr>\n",
       "  </thead>\n",
       "  <tbody>\n",
       "    <tr>\n",
       "      <th>rmse</th>\n",
       "      <td>4.769276e+03</td>\n",
       "      <td>4.628271e+03</td>\n",
       "    </tr>\n",
       "    <tr>\n",
       "      <th>mae</th>\n",
       "      <td>2.861104e+03</td>\n",
       "      <td>2.774651e+03</td>\n",
       "    </tr>\n",
       "    <tr>\n",
       "      <th>mse</th>\n",
       "      <td>2.274599e+07</td>\n",
       "      <td>2.142089e+07</td>\n",
       "    </tr>\n",
       "    <tr>\n",
       "      <th>R2</th>\n",
       "      <td>8.461458e-01</td>\n",
       "      <td>8.481978e-01</td>\n",
       "    </tr>\n",
       "  </tbody>\n",
       "</table>\n",
       "</div>"
      ],
      "text/plain": [
       "       lasso_train    lasso_test\n",
       "rmse  4.769276e+03  4.628271e+03\n",
       "mae   2.861104e+03  2.774651e+03\n",
       "mse   2.274599e+07  2.142089e+07\n",
       "R2    8.461458e-01  8.481978e-01"
      ]
     },
     "execution_count": 315,
     "metadata": {},
     "output_type": "execute_result"
    }
   ],
   "source": [
    "lasso_scores = {\"lasso_train\": {\"rmse\" : np.sqrt(mean_squared_error(y_train, y_train_pred)),\n",
    "    \"mae\" : mean_absolute_error(y_train, y_train_pred),\n",
    "    \"mse\" : mean_squared_error(y_train, y_train_pred),\n",
    "    \"R2\" : r2_score(y_train, y_train_pred)}, \n",
    "\n",
    "    \"lasso_test\": {\"rmse\" : np.sqrt(mean_squared_error(y_test, y_pred)),\n",
    "    \"mae\" : mean_absolute_error(y_test, y_pred),\n",
    "    \"mse\" : mean_squared_error(y_test, y_pred),\n",
    "    \"R2\" : r2_score(y_test, y_pred)}}\n",
    "lss = pd.DataFrame(lasso_scores)\n",
    "lss"
   ]
  },
  {
   "cell_type": "code",
   "execution_count": 316,
   "id": "1c2a30e9-9de1-4a25-8b82-237a7c1f27f2",
   "metadata": {},
   "outputs": [
    {
     "data": {
      "text/html": [
       "<div>\n",
       "<style scoped>\n",
       "    .dataframe tbody tr th:only-of-type {\n",
       "        vertical-align: middle;\n",
       "    }\n",
       "\n",
       "    .dataframe tbody tr th {\n",
       "        vertical-align: top;\n",
       "    }\n",
       "\n",
       "    .dataframe thead th {\n",
       "        text-align: right;\n",
       "    }\n",
       "</style>\n",
       "<table border=\"1\" class=\"dataframe\">\n",
       "  <thead>\n",
       "    <tr style=\"text-align: right;\">\n",
       "      <th></th>\n",
       "      <th>p_train</th>\n",
       "      <th>pe_test</th>\n",
       "      <th>ridge_train</th>\n",
       "      <th>ridge_test</th>\n",
       "      <th>ridge_cv_train</th>\n",
       "      <th>ridge_cv_test</th>\n",
       "      <th>lasso_train</th>\n",
       "      <th>lasso_test</th>\n",
       "    </tr>\n",
       "  </thead>\n",
       "  <tbody>\n",
       "    <tr>\n",
       "      <th>rmse</th>\n",
       "      <td>4.730807e+03</td>\n",
       "      <td>4.683888e+03</td>\n",
       "      <td>4.781266e+03</td>\n",
       "      <td>4.610147e+03</td>\n",
       "      <td>4.735111e+03</td>\n",
       "      <td>4.656088e+03</td>\n",
       "      <td>4.769276e+03</td>\n",
       "      <td>4.628271e+03</td>\n",
       "    </tr>\n",
       "    <tr>\n",
       "      <th>mae</th>\n",
       "      <td>2.815603e+03</td>\n",
       "      <td>2.791865e+03</td>\n",
       "      <td>2.875511e+03</td>\n",
       "      <td>2.778213e+03</td>\n",
       "      <td>2.814660e+03</td>\n",
       "      <td>2.769593e+03</td>\n",
       "      <td>2.861104e+03</td>\n",
       "      <td>2.774651e+03</td>\n",
       "    </tr>\n",
       "    <tr>\n",
       "      <th>mse</th>\n",
       "      <td>2.238053e+07</td>\n",
       "      <td>2.193881e+07</td>\n",
       "      <td>2.286051e+07</td>\n",
       "      <td>2.125345e+07</td>\n",
       "      <td>2.242128e+07</td>\n",
       "      <td>2.167915e+07</td>\n",
       "      <td>2.274599e+07</td>\n",
       "      <td>2.142089e+07</td>\n",
       "    </tr>\n",
       "    <tr>\n",
       "      <th>R2</th>\n",
       "      <td>8.486178e-01</td>\n",
       "      <td>8.445274e-01</td>\n",
       "      <td>8.453713e-01</td>\n",
       "      <td>8.493843e-01</td>\n",
       "      <td>8.483422e-01</td>\n",
       "      <td>8.463675e-01</td>\n",
       "      <td>8.461458e-01</td>\n",
       "      <td>8.481978e-01</td>\n",
       "    </tr>\n",
       "  </tbody>\n",
       "</table>\n",
       "</div>"
      ],
      "text/plain": [
       "           p_train       pe_test   ridge_train    ridge_test  ridge_cv_train  \\\n",
       "rmse  4.730807e+03  4.683888e+03  4.781266e+03  4.610147e+03    4.735111e+03   \n",
       "mae   2.815603e+03  2.791865e+03  2.875511e+03  2.778213e+03    2.814660e+03   \n",
       "mse   2.238053e+07  2.193881e+07  2.286051e+07  2.125345e+07    2.242128e+07   \n",
       "R2    8.486178e-01  8.445274e-01  8.453713e-01  8.493843e-01    8.483422e-01   \n",
       "\n",
       "      ridge_cv_test   lasso_train    lasso_test  \n",
       "rmse   4.656088e+03  4.769276e+03  4.628271e+03  \n",
       "mae    2.769593e+03  2.861104e+03  2.774651e+03  \n",
       "mse    2.167915e+07  2.274599e+07  2.142089e+07  \n",
       "R2     8.463675e-01  8.461458e-01  8.481978e-01  "
      ]
     },
     "execution_count": 316,
     "metadata": {},
     "output_type": "execute_result"
    }
   ],
   "source": [
    "pd.concat([ps, rs, rcs, lss], axis = 1)"
   ]
  },
  {
   "cell_type": "code",
   "execution_count": null,
   "id": "e55f0804-ce6f-460f-b927-15bc2364ddd0",
   "metadata": {},
   "outputs": [],
   "source": []
  },
  {
   "cell_type": "markdown",
   "id": "2ffa8605-d267-4b7f-9bbe-e5cb527d3d28",
   "metadata": {},
   "source": [
    "## Choosing best alpha value with Cross-Validation"
   ]
  },
  {
   "cell_type": "code",
   "execution_count": 317,
   "id": "7322d405-c6aa-4d0f-9563-d98abcae1910",
   "metadata": {},
   "outputs": [],
   "source": [
    "lasso_cv_model = LassoCV(alphas= alpha_space, cv = 10, max_iter = 100000)   #alfayı daha önceden 100 parça olarak aldık."
   ]
  },
  {
   "cell_type": "code",
   "execution_count": 318,
   "id": "8036a7b5-8e31-4b91-bdf4-bf966ed1af5b",
   "metadata": {},
   "outputs": [
    {
     "data": {
      "text/plain": [
       "LassoCV(alphas=array([0.001     , 0.01109091, 0.02118182, 0.03127273, 0.04136364,\n",
       "       0.05145455, 0.06154545, 0.07163636, 0.08172727, 0.09181818,\n",
       "       0.10190909, 0.112     , 0.12209091, 0.13218182, 0.14227273,\n",
       "       0.15236364, 0.16245455, 0.17254545, 0.18263636, 0.19272727,\n",
       "       0.20281818, 0.21290909, 0.223     , 0.23309091, 0.24318182,\n",
       "       0.25327273, 0.26336364, 0.27345455, 0.28354545, 0.29363636,\n",
       "       0.30372727, 0....\n",
       "       0.65690909, 0.667     , 0.67709091, 0.68718182, 0.69727273,\n",
       "       0.70736364, 0.71745455, 0.72754545, 0.73763636, 0.74772727,\n",
       "       0.75781818, 0.76790909, 0.778     , 0.78809091, 0.79818182,\n",
       "       0.80827273, 0.81836364, 0.82845455, 0.83854545, 0.84863636,\n",
       "       0.85872727, 0.86881818, 0.87890909, 0.889     , 0.89909091,\n",
       "       0.90918182, 0.91927273, 0.92936364, 0.93945455, 0.94954545,\n",
       "       0.95963636, 0.96972727, 0.97981818, 0.98990909, 1.        ]),\n",
       "        cv=10, max_iter=100000)"
      ]
     },
     "execution_count": 318,
     "metadata": {},
     "output_type": "execute_result"
    }
   ],
   "source": [
    "lasso_cv_model.fit(X_train, y_train)"
   ]
  },
  {
   "cell_type": "code",
   "execution_count": 319,
   "id": "ebdc8920-ac9d-4c24-bd19-cabeaef02ca9",
   "metadata": {},
   "outputs": [
    {
     "data": {
      "text/plain": [
       "1.0"
      ]
     },
     "execution_count": 319,
     "metadata": {},
     "output_type": "execute_result"
    }
   ],
   "source": [
    "lasso_cv_model.alpha_"
   ]
  },
  {
   "cell_type": "code",
   "execution_count": 320,
   "id": "a2ebb22b-a8c0-4c48-b12e-05f740c3a826",
   "metadata": {},
   "outputs": [
    {
     "name": "stdout",
     "output_type": "stream",
     "text": [
      "Model testing performance:\n",
      "--------------------------\n",
      "R2_score \t: 0.8480576697035875\n",
      "MAE \t\t: 2818.0089209302946\n",
      "MSE \t\t: 22463342.133677553\n",
      "RMSE \t\t: 4739.5508367014645\n"
     ]
    }
   ],
   "source": [
    "y_train_pred = lasso_cv_model.predict(X_train)\n",
    "eval_metrics(y_train, y_train_pred)"
   ]
  },
  {
   "cell_type": "code",
   "execution_count": 321,
   "id": "f33ab285-60b4-4619-9741-9e2cabc30791",
   "metadata": {},
   "outputs": [
    {
     "name": "stdout",
     "output_type": "stream",
     "text": [
      "Model testing performance:\n",
      "--------------------------\n",
      "R2_score \t: 0.8469635899054602\n",
      "MAE \t\t: 2758.7164146811474\n",
      "MSE \t\t: 21595043.322789162\n",
      "RMSE \t\t: 4647.046731289579\n"
     ]
    }
   ],
   "source": [
    "y_pred = lasso_cv_model.predict(X_test)\n",
    "eval_metrics(y_test, y_pred)"
   ]
  },
  {
   "cell_type": "code",
   "execution_count": 322,
   "id": "26f8ed33-9baf-48b5-bbca-69cf0f1666ac",
   "metadata": {},
   "outputs": [
    {
     "data": {
      "text/html": [
       "<div>\n",
       "<style scoped>\n",
       "    .dataframe tbody tr th:only-of-type {\n",
       "        vertical-align: middle;\n",
       "    }\n",
       "\n",
       "    .dataframe tbody tr th {\n",
       "        vertical-align: top;\n",
       "    }\n",
       "\n",
       "    .dataframe thead th {\n",
       "        text-align: right;\n",
       "    }\n",
       "</style>\n",
       "<table border=\"1\" class=\"dataframe\">\n",
       "  <thead>\n",
       "    <tr style=\"text-align: right;\">\n",
       "      <th></th>\n",
       "      <th>lasso_cv_train</th>\n",
       "      <th>lasso_cv_test</th>\n",
       "    </tr>\n",
       "  </thead>\n",
       "  <tbody>\n",
       "    <tr>\n",
       "      <th>rmse</th>\n",
       "      <td>4.739551e+03</td>\n",
       "      <td>4.647047e+03</td>\n",
       "    </tr>\n",
       "    <tr>\n",
       "      <th>mae</th>\n",
       "      <td>2.818009e+03</td>\n",
       "      <td>2.758716e+03</td>\n",
       "    </tr>\n",
       "    <tr>\n",
       "      <th>mse</th>\n",
       "      <td>2.246334e+07</td>\n",
       "      <td>2.159504e+07</td>\n",
       "    </tr>\n",
       "    <tr>\n",
       "      <th>R2</th>\n",
       "      <td>8.480577e-01</td>\n",
       "      <td>8.469636e-01</td>\n",
       "    </tr>\n",
       "  </tbody>\n",
       "</table>\n",
       "</div>"
      ],
      "text/plain": [
       "      lasso_cv_train  lasso_cv_test\n",
       "rmse    4.739551e+03   4.647047e+03\n",
       "mae     2.818009e+03   2.758716e+03\n",
       "mse     2.246334e+07   2.159504e+07\n",
       "R2      8.480577e-01   8.469636e-01"
      ]
     },
     "execution_count": 322,
     "metadata": {},
     "output_type": "execute_result"
    }
   ],
   "source": [
    "lasso_cv_scores = {\"lasso_cv_train\": {\"rmse\" : np.sqrt(mean_squared_error(y_train, y_train_pred)),\n",
    "    \"mae\" : mean_absolute_error(y_train, y_train_pred),\n",
    "    \"mse\" : mean_squared_error(y_train, y_train_pred),\n",
    "    \"R2\" : r2_score(y_train, y_train_pred)}, \n",
    "\n",
    "    \"lasso_cv_test\": {\"rmse\" : np.sqrt(mean_squared_error(y_test, y_pred)),\n",
    "    \"mae\" : mean_absolute_error(y_test, y_pred),\n",
    "    \"mse\" : mean_squared_error(y_test, y_pred),\n",
    "    \"R2\" : r2_score(y_test, y_pred)}}\n",
    "lcs = pd.DataFrame(lasso_cv_scores)\n",
    "lcs"
   ]
  },
  {
   "cell_type": "code",
   "execution_count": 323,
   "id": "f6d37dc6-31ee-481a-93c8-1cb43de9912a",
   "metadata": {},
   "outputs": [
    {
     "data": {
      "text/html": [
       "<div>\n",
       "<style scoped>\n",
       "    .dataframe tbody tr th:only-of-type {\n",
       "        vertical-align: middle;\n",
       "    }\n",
       "\n",
       "    .dataframe tbody tr th {\n",
       "        vertical-align: top;\n",
       "    }\n",
       "\n",
       "    .dataframe thead th {\n",
       "        text-align: right;\n",
       "    }\n",
       "</style>\n",
       "<table border=\"1\" class=\"dataframe\">\n",
       "  <thead>\n",
       "    <tr style=\"text-align: right;\">\n",
       "      <th></th>\n",
       "      <th>p_train</th>\n",
       "      <th>pe_test</th>\n",
       "      <th>ridge_train</th>\n",
       "      <th>ridge_test</th>\n",
       "      <th>ridge_cv_train</th>\n",
       "      <th>ridge_cv_test</th>\n",
       "      <th>lasso_train</th>\n",
       "      <th>lasso_test</th>\n",
       "      <th>lasso_cv_train</th>\n",
       "      <th>lasso_cv_test</th>\n",
       "    </tr>\n",
       "  </thead>\n",
       "  <tbody>\n",
       "    <tr>\n",
       "      <th>rmse</th>\n",
       "      <td>4.730807e+03</td>\n",
       "      <td>4.683888e+03</td>\n",
       "      <td>4.781266e+03</td>\n",
       "      <td>4.610147e+03</td>\n",
       "      <td>4.735111e+03</td>\n",
       "      <td>4.656088e+03</td>\n",
       "      <td>4.769276e+03</td>\n",
       "      <td>4.628271e+03</td>\n",
       "      <td>4.739551e+03</td>\n",
       "      <td>4.647047e+03</td>\n",
       "    </tr>\n",
       "    <tr>\n",
       "      <th>mae</th>\n",
       "      <td>2.815603e+03</td>\n",
       "      <td>2.791865e+03</td>\n",
       "      <td>2.875511e+03</td>\n",
       "      <td>2.778213e+03</td>\n",
       "      <td>2.814660e+03</td>\n",
       "      <td>2.769593e+03</td>\n",
       "      <td>2.861104e+03</td>\n",
       "      <td>2.774651e+03</td>\n",
       "      <td>2.818009e+03</td>\n",
       "      <td>2.758716e+03</td>\n",
       "    </tr>\n",
       "    <tr>\n",
       "      <th>mse</th>\n",
       "      <td>2.238053e+07</td>\n",
       "      <td>2.193881e+07</td>\n",
       "      <td>2.286051e+07</td>\n",
       "      <td>2.125345e+07</td>\n",
       "      <td>2.242128e+07</td>\n",
       "      <td>2.167915e+07</td>\n",
       "      <td>2.274599e+07</td>\n",
       "      <td>2.142089e+07</td>\n",
       "      <td>2.246334e+07</td>\n",
       "      <td>2.159504e+07</td>\n",
       "    </tr>\n",
       "    <tr>\n",
       "      <th>R2</th>\n",
       "      <td>8.486178e-01</td>\n",
       "      <td>8.445274e-01</td>\n",
       "      <td>8.453713e-01</td>\n",
       "      <td>8.493843e-01</td>\n",
       "      <td>8.483422e-01</td>\n",
       "      <td>8.463675e-01</td>\n",
       "      <td>8.461458e-01</td>\n",
       "      <td>8.481978e-01</td>\n",
       "      <td>8.480577e-01</td>\n",
       "      <td>8.469636e-01</td>\n",
       "    </tr>\n",
       "  </tbody>\n",
       "</table>\n",
       "</div>"
      ],
      "text/plain": [
       "           p_train       pe_test   ridge_train    ridge_test  ridge_cv_train  \\\n",
       "rmse  4.730807e+03  4.683888e+03  4.781266e+03  4.610147e+03    4.735111e+03   \n",
       "mae   2.815603e+03  2.791865e+03  2.875511e+03  2.778213e+03    2.814660e+03   \n",
       "mse   2.238053e+07  2.193881e+07  2.286051e+07  2.125345e+07    2.242128e+07   \n",
       "R2    8.486178e-01  8.445274e-01  8.453713e-01  8.493843e-01    8.483422e-01   \n",
       "\n",
       "      ridge_cv_test   lasso_train    lasso_test  lasso_cv_train  lasso_cv_test  \n",
       "rmse   4.656088e+03  4.769276e+03  4.628271e+03    4.739551e+03   4.647047e+03  \n",
       "mae    2.769593e+03  2.861104e+03  2.774651e+03    2.818009e+03   2.758716e+03  \n",
       "mse    2.167915e+07  2.274599e+07  2.142089e+07    2.246334e+07   2.159504e+07  \n",
       "R2     8.463675e-01  8.461458e-01  8.481978e-01    8.480577e-01   8.469636e-01  "
      ]
     },
     "execution_count": 323,
     "metadata": {},
     "output_type": "execute_result"
    }
   ],
   "source": [
    "pd.concat([ps, rs, rcs, lss, lcs], axis = 1)"
   ]
  },
  {
   "cell_type": "code",
   "execution_count": 324,
   "id": "0ac07697-3bfb-4c07-9c4e-dbf6a8a4c21c",
   "metadata": {},
   "outputs": [
    {
     "data": {
      "text/plain": [
       "array([-0.00000000e+00, -9.25373097e+02, -1.16969395e+04,  5.80179623e+03,\n",
       "       -9.06748480e+00,  3.78168682e+03,  3.29218363e+03,  0.00000000e+00,\n",
       "       -1.21355859e+04,  0.00000000e+00, -3.24605034e+02,  0.00000000e+00,\n",
       "       -0.00000000e+00, -0.00000000e+00,  2.68078819e+04,  7.98618301e+02,\n",
       "        1.59687262e+04, -0.00000000e+00,  1.46186559e+01, -5.93279533e+03,\n",
       "       -3.02096960e+02, -6.75527451e+02,  2.45488829e+02,  5.66581838e+03,\n",
       "       -2.63728892e+03,  7.60540940e+00, -2.55231145e+03,  0.00000000e+00,\n",
       "        1.05082249e+03, -0.00000000e+00,  1.58476168e+03,  3.02293976e+03,\n",
       "        2.02546396e+03,  2.44776733e+02,  0.00000000e+00, -0.00000000e+00,\n",
       "        0.00000000e+00, -1.16005948e+02, -5.79481041e+02,  9.24333187e+02,\n",
       "        3.45708629e+02,  4.08284884e+02, -3.11191513e+02, -2.02731895e+02,\n",
       "       -8.66089354e+02, -1.53191593e+04, -6.14631767e+02, -8.18422448e+03,\n",
       "       -1.58377218e+03, -6.11294125e+02,  1.53631082e+04, -1.88696541e+02,\n",
       "        1.05713961e+02,  0.00000000e+00, -7.78079062e+03])"
      ]
     },
     "execution_count": 324,
     "metadata": {},
     "output_type": "execute_result"
    }
   ],
   "source": [
    "lasso_cv_model.coef_"
   ]
  },
  {
   "cell_type": "code",
   "execution_count": 325,
   "id": "b57ab7db-bc0a-42a8-a32f-f8f6c77ae148",
   "metadata": {},
   "outputs": [],
   "source": [
    "lcm_df = pd.DataFrame(lasso_cv_model.coef_, columns = [\"lasso_cv_coef_0.00449\"])"
   ]
  },
  {
   "cell_type": "markdown",
   "id": "55582d13-182a-4216-9c80-028b49d289a6",
   "metadata": {},
   "source": [
    "## Elastic Net\n",
    "* Lasso ile ridge nin karışımıdır. alfa ve l1_rattio katsayıları vardır."
   ]
  },
  {
   "cell_type": "code",
   "execution_count": null,
   "id": "fc697b95-e704-4c97-8ef2-eab3038fce23",
   "metadata": {},
   "outputs": [],
   "source": []
  },
  {
   "cell_type": "code",
   "execution_count": 326,
   "id": "e5bd7f25-60fb-43ca-aa3c-2fd467c01f0c",
   "metadata": {},
   "outputs": [],
   "source": [
    "from sklearn.linear_model import ElasticNet, ElasticNetCV"
   ]
  },
  {
   "cell_type": "code",
   "execution_count": 327,
   "id": "bb1baa91-5425-49db-84ce-2c0c32a72ec0",
   "metadata": {},
   "outputs": [],
   "source": [
    "elastic_model = ElasticNet()"
   ]
  },
  {
   "cell_type": "code",
   "execution_count": 328,
   "id": "aa89247e-7075-4068-8b3a-c9c35b8e44a6",
   "metadata": {},
   "outputs": [
    {
     "data": {
      "text/plain": [
       "ElasticNet()"
      ]
     },
     "execution_count": 328,
     "metadata": {},
     "output_type": "execute_result"
    }
   ],
   "source": [
    "elastic_model.fit(X_train, y_train)"
   ]
  },
  {
   "cell_type": "code",
   "execution_count": 329,
   "id": "762efd27-0999-4c0f-a1c6-d95b75591fae",
   "metadata": {},
   "outputs": [
    {
     "data": {
      "text/plain": [
       "0.5"
      ]
     },
     "execution_count": 329,
     "metadata": {},
     "output_type": "execute_result"
    }
   ],
   "source": [
    "elastic_model.l1_ratio    # default değerler"
   ]
  },
  {
   "cell_type": "code",
   "execution_count": 330,
   "id": "0114db72-37ff-49a8-b379-62b572aabe04",
   "metadata": {},
   "outputs": [
    {
     "data": {
      "text/plain": [
       "1.0"
      ]
     },
     "execution_count": 330,
     "metadata": {},
     "output_type": "execute_result"
    }
   ],
   "source": [
    "elastic_model.alpha"
   ]
  },
  {
   "cell_type": "code",
   "execution_count": 331,
   "id": "87cc5ecb-1d5e-4a0e-8701-5c52ef6d983b",
   "metadata": {},
   "outputs": [
    {
     "name": "stdout",
     "output_type": "stream",
     "text": [
      "Model testing performance:\n",
      "--------------------------\n",
      "R2_score \t: 0.8053845955804161\n",
      "MAE \t\t: 3544.728529562203\n",
      "MSE \t\t: 28772182.218297575\n",
      "RMSE \t\t: 5363.970751066562\n"
     ]
    }
   ],
   "source": [
    "y_train_pred = elastic_model.predict(X_train)\n",
    "eval_metrics(y_train, y_train_pred)"
   ]
  },
  {
   "cell_type": "code",
   "execution_count": 332,
   "id": "4fd3164b-7e2f-4f71-9b7b-b0821ef08342",
   "metadata": {},
   "outputs": [
    {
     "name": "stdout",
     "output_type": "stream",
     "text": [
      "Model testing performance:\n",
      "--------------------------\n",
      "R2_score \t: 0.8210722365268691\n",
      "MAE \t\t: 3381.5669416722703\n",
      "MSE \t\t: 25248584.970498435\n",
      "RMSE \t\t: 5024.797007889815\n"
     ]
    }
   ],
   "source": [
    "y_pred = elastic_model.predict(X_test)\n",
    "eval_metrics(y_test, y_pred)"
   ]
  },
  {
   "cell_type": "code",
   "execution_count": 333,
   "id": "f9210e39-458d-4a22-b5fb-2bbb0cc96c4e",
   "metadata": {},
   "outputs": [
    {
     "data": {
      "text/html": [
       "<div>\n",
       "<style scoped>\n",
       "    .dataframe tbody tr th:only-of-type {\n",
       "        vertical-align: middle;\n",
       "    }\n",
       "\n",
       "    .dataframe tbody tr th {\n",
       "        vertical-align: top;\n",
       "    }\n",
       "\n",
       "    .dataframe thead th {\n",
       "        text-align: right;\n",
       "    }\n",
       "</style>\n",
       "<table border=\"1\" class=\"dataframe\">\n",
       "  <thead>\n",
       "    <tr style=\"text-align: right;\">\n",
       "      <th></th>\n",
       "      <th>elastic_train</th>\n",
       "      <th>elastic_test</th>\n",
       "    </tr>\n",
       "  </thead>\n",
       "  <tbody>\n",
       "    <tr>\n",
       "      <th>rmse</th>\n",
       "      <td>5.363971e+03</td>\n",
       "      <td>5.024797e+03</td>\n",
       "    </tr>\n",
       "    <tr>\n",
       "      <th>mae</th>\n",
       "      <td>3.544729e+03</td>\n",
       "      <td>3.381567e+03</td>\n",
       "    </tr>\n",
       "    <tr>\n",
       "      <th>mse</th>\n",
       "      <td>2.877218e+07</td>\n",
       "      <td>2.524858e+07</td>\n",
       "    </tr>\n",
       "    <tr>\n",
       "      <th>R2</th>\n",
       "      <td>8.053846e-01</td>\n",
       "      <td>8.210722e-01</td>\n",
       "    </tr>\n",
       "  </tbody>\n",
       "</table>\n",
       "</div>"
      ],
      "text/plain": [
       "      elastic_train  elastic_test\n",
       "rmse   5.363971e+03  5.024797e+03\n",
       "mae    3.544729e+03  3.381567e+03\n",
       "mse    2.877218e+07  2.524858e+07\n",
       "R2     8.053846e-01  8.210722e-01"
      ]
     },
     "execution_count": 333,
     "metadata": {},
     "output_type": "execute_result"
    }
   ],
   "source": [
    "elastic_scores = {\"elastic_train\": {\"rmse\" : np.sqrt(mean_squared_error(y_train, y_train_pred)),\n",
    "    \"mae\" : mean_absolute_error(y_train, y_train_pred),\n",
    "    \"mse\" : mean_squared_error(y_train, y_train_pred),\n",
    "    \"R2\" : r2_score(y_train, y_train_pred)}, \n",
    "\n",
    "    \"elastic_test\": {\"rmse\" : np.sqrt(mean_squared_error(y_test, y_pred)),\n",
    "    \"mae\" : mean_absolute_error(y_test, y_pred),\n",
    "    \"mse\" : mean_squared_error(y_test, y_pred),\n",
    "    \"R2\" : r2_score(y_test, y_pred)}};\n",
    "es = pd.DataFrame(elastic_scores)\n",
    "es"
   ]
  },
  {
   "cell_type": "code",
   "execution_count": 334,
   "id": "908b941f-60b4-432e-845b-6cc11c52c10c",
   "metadata": {},
   "outputs": [
    {
     "data": {
      "text/html": [
       "<div>\n",
       "<style scoped>\n",
       "    .dataframe tbody tr th:only-of-type {\n",
       "        vertical-align: middle;\n",
       "    }\n",
       "\n",
       "    .dataframe tbody tr th {\n",
       "        vertical-align: top;\n",
       "    }\n",
       "\n",
       "    .dataframe thead th {\n",
       "        text-align: right;\n",
       "    }\n",
       "</style>\n",
       "<table border=\"1\" class=\"dataframe\">\n",
       "  <thead>\n",
       "    <tr style=\"text-align: right;\">\n",
       "      <th></th>\n",
       "      <th>p_train</th>\n",
       "      <th>pe_test</th>\n",
       "      <th>ridge_train</th>\n",
       "      <th>ridge_test</th>\n",
       "      <th>ridge_cv_train</th>\n",
       "      <th>ridge_cv_test</th>\n",
       "      <th>lasso_train</th>\n",
       "      <th>lasso_test</th>\n",
       "      <th>lasso_cv_train</th>\n",
       "      <th>lasso_cv_test</th>\n",
       "      <th>elastic_train</th>\n",
       "      <th>elastic_test</th>\n",
       "    </tr>\n",
       "  </thead>\n",
       "  <tbody>\n",
       "    <tr>\n",
       "      <th>rmse</th>\n",
       "      <td>4.730807e+03</td>\n",
       "      <td>4.683888e+03</td>\n",
       "      <td>4.781266e+03</td>\n",
       "      <td>4.610147e+03</td>\n",
       "      <td>4.735111e+03</td>\n",
       "      <td>4.656088e+03</td>\n",
       "      <td>4.769276e+03</td>\n",
       "      <td>4.628271e+03</td>\n",
       "      <td>4.739551e+03</td>\n",
       "      <td>4.647047e+03</td>\n",
       "      <td>5.363971e+03</td>\n",
       "      <td>5.024797e+03</td>\n",
       "    </tr>\n",
       "    <tr>\n",
       "      <th>mae</th>\n",
       "      <td>2.815603e+03</td>\n",
       "      <td>2.791865e+03</td>\n",
       "      <td>2.875511e+03</td>\n",
       "      <td>2.778213e+03</td>\n",
       "      <td>2.814660e+03</td>\n",
       "      <td>2.769593e+03</td>\n",
       "      <td>2.861104e+03</td>\n",
       "      <td>2.774651e+03</td>\n",
       "      <td>2.818009e+03</td>\n",
       "      <td>2.758716e+03</td>\n",
       "      <td>3.544729e+03</td>\n",
       "      <td>3.381567e+03</td>\n",
       "    </tr>\n",
       "    <tr>\n",
       "      <th>mse</th>\n",
       "      <td>2.238053e+07</td>\n",
       "      <td>2.193881e+07</td>\n",
       "      <td>2.286051e+07</td>\n",
       "      <td>2.125345e+07</td>\n",
       "      <td>2.242128e+07</td>\n",
       "      <td>2.167915e+07</td>\n",
       "      <td>2.274599e+07</td>\n",
       "      <td>2.142089e+07</td>\n",
       "      <td>2.246334e+07</td>\n",
       "      <td>2.159504e+07</td>\n",
       "      <td>2.877218e+07</td>\n",
       "      <td>2.524858e+07</td>\n",
       "    </tr>\n",
       "    <tr>\n",
       "      <th>R2</th>\n",
       "      <td>8.486178e-01</td>\n",
       "      <td>8.445274e-01</td>\n",
       "      <td>8.453713e-01</td>\n",
       "      <td>8.493843e-01</td>\n",
       "      <td>8.483422e-01</td>\n",
       "      <td>8.463675e-01</td>\n",
       "      <td>8.461458e-01</td>\n",
       "      <td>8.481978e-01</td>\n",
       "      <td>8.480577e-01</td>\n",
       "      <td>8.469636e-01</td>\n",
       "      <td>8.053846e-01</td>\n",
       "      <td>8.210722e-01</td>\n",
       "    </tr>\n",
       "  </tbody>\n",
       "</table>\n",
       "</div>"
      ],
      "text/plain": [
       "           p_train       pe_test   ridge_train    ridge_test  ridge_cv_train  \\\n",
       "rmse  4.730807e+03  4.683888e+03  4.781266e+03  4.610147e+03    4.735111e+03   \n",
       "mae   2.815603e+03  2.791865e+03  2.875511e+03  2.778213e+03    2.814660e+03   \n",
       "mse   2.238053e+07  2.193881e+07  2.286051e+07  2.125345e+07    2.242128e+07   \n",
       "R2    8.486178e-01  8.445274e-01  8.453713e-01  8.493843e-01    8.483422e-01   \n",
       "\n",
       "      ridge_cv_test   lasso_train    lasso_test  lasso_cv_train  \\\n",
       "rmse   4.656088e+03  4.769276e+03  4.628271e+03    4.739551e+03   \n",
       "mae    2.769593e+03  2.861104e+03  2.774651e+03    2.818009e+03   \n",
       "mse    2.167915e+07  2.274599e+07  2.142089e+07    2.246334e+07   \n",
       "R2     8.463675e-01  8.461458e-01  8.481978e-01    8.480577e-01   \n",
       "\n",
       "      lasso_cv_test  elastic_train  elastic_test  \n",
       "rmse   4.647047e+03   5.363971e+03  5.024797e+03  \n",
       "mae    2.758716e+03   3.544729e+03  3.381567e+03  \n",
       "mse    2.159504e+07   2.877218e+07  2.524858e+07  \n",
       "R2     8.469636e-01   8.053846e-01  8.210722e-01  "
      ]
     },
     "execution_count": 334,
     "metadata": {},
     "output_type": "execute_result"
    }
   ],
   "source": [
    "pd.concat([ps, rs, rcs, lss, lcs, es], axis = 1)"
   ]
  },
  {
   "cell_type": "code",
   "execution_count": 335,
   "id": "45bcb298-f50e-46ff-b677-7776e2476ec4",
   "metadata": {},
   "outputs": [
    {
     "data": {
      "text/plain": [
       "array([ 501.78022058,  -78.14253   ,  303.38260237,   58.04275878,\n",
       "        711.56543196,  574.20369884,   11.18769797,  494.51543336,\n",
       "         89.9114677 ,  356.08861798,  -78.15629604,  -41.926831  ,\n",
       "          0.        ,  154.56699879,  148.47931678,  104.40871867,\n",
       "       1465.25234216,    8.19213143,  -21.10627124,  711.58114994,\n",
       "        622.80348253,   87.33339105,  534.43187779,  211.92455004,\n",
       "         99.95730819,   11.18387448,   11.12346232,    9.63645199,\n",
       "        -48.23647093,  327.84625986,  122.24097369, 1045.33780541,\n",
       "         46.44876749, -121.12572505,  356.14187416,  -78.13754199,\n",
       "        -41.8994074 ,    0.        ,  154.62069695,  -67.22542164,\n",
       "         28.53473954,  626.73166952,  -39.53468053, -153.78848514,\n",
       "        154.61680372,  -23.63563895,   62.5765626 , 1994.51639474,\n",
       "          3.45491996,  522.84517041, 1465.285381  ,  -56.02131967,\n",
       "       -148.12869197,  -21.09503623,  711.57881472])"
      ]
     },
     "execution_count": 335,
     "metadata": {},
     "output_type": "execute_result"
    }
   ],
   "source": [
    "elastic_model.coef_"
   ]
  },
  {
   "cell_type": "code",
   "execution_count": 336,
   "id": "cd27b285-d48e-4709-99bd-3e26e72dd8fc",
   "metadata": {},
   "outputs": [],
   "source": [
    "em_df = pd.DataFrame(elastic_model.coef_, columns= [\"elastic_coef_(alp: 1, l1: 0.5)\"])"
   ]
  },
  {
   "cell_type": "code",
   "execution_count": 337,
   "id": "a38a2ecf-5f34-41af-9dbe-3c8211d5e4cc",
   "metadata": {},
   "outputs": [],
   "source": [
    "elastic_cv_model = ElasticNetCV(alphas = alpha_space, l1_ratio=[0.1, 0.5, 0.7,0.9, 0.95, 1,1.2,1.5], cv = 10, max_iter = 100000)"
   ]
  },
  {
   "cell_type": "code",
   "execution_count": 338,
   "id": "f423588c-6ec4-4fc2-904a-6f5ad021aaa8",
   "metadata": {},
   "outputs": [
    {
     "data": {
      "text/plain": [
       "ElasticNetCV(alphas=array([0.001     , 0.01109091, 0.02118182, 0.03127273, 0.04136364,\n",
       "       0.05145455, 0.06154545, 0.07163636, 0.08172727, 0.09181818,\n",
       "       0.10190909, 0.112     , 0.12209091, 0.13218182, 0.14227273,\n",
       "       0.15236364, 0.16245455, 0.17254545, 0.18263636, 0.19272727,\n",
       "       0.20281818, 0.21290909, 0.223     , 0.23309091, 0.24318182,\n",
       "       0.25327273, 0.26336364, 0.27345455, 0.28354545, 0.29363636,\n",
       "       0.303727...\n",
       "       0.70736364, 0.71745455, 0.72754545, 0.73763636, 0.74772727,\n",
       "       0.75781818, 0.76790909, 0.778     , 0.78809091, 0.79818182,\n",
       "       0.80827273, 0.81836364, 0.82845455, 0.83854545, 0.84863636,\n",
       "       0.85872727, 0.86881818, 0.87890909, 0.889     , 0.89909091,\n",
       "       0.90918182, 0.91927273, 0.92936364, 0.93945455, 0.94954545,\n",
       "       0.95963636, 0.96972727, 0.97981818, 0.98990909, 1.        ]),\n",
       "             cv=10, l1_ratio=[0.1, 0.5, 0.7, 0.9, 0.95, 1, 1.2, 1.5],\n",
       "             max_iter=100000)"
      ]
     },
     "execution_count": 338,
     "metadata": {},
     "output_type": "execute_result"
    }
   ],
   "source": [
    "elastic_cv_model.fit(X_train, y_train)"
   ]
  },
  {
   "cell_type": "code",
   "execution_count": 339,
   "id": "45e6c4b5-64d6-455e-bad3-03c88c4e9661",
   "metadata": {},
   "outputs": [
    {
     "data": {
      "text/plain": [
       "1.0"
      ]
     },
     "execution_count": 339,
     "metadata": {},
     "output_type": "execute_result"
    }
   ],
   "source": [
    "elastic_cv_model.alpha_   # lasso daha ygn oldğ için lassonun alafasını secti"
   ]
  },
  {
   "cell_type": "markdown",
   "id": "bd2419ff-acee-4056-9f39-8ba91a2fbfbe",
   "metadata": {},
   "source": [
    "* Lasso ile Ridge karşılaştırdı.Lasso daha uygun olduğu için Lasso nun alpha değerini seçti\n",
    "* Zaten elastic net Ridge ve Lasso nun birleşimidir ama Lasso ya daha yatkındır."
   ]
  },
  {
   "cell_type": "code",
   "execution_count": 340,
   "id": "9575ec68-54d0-44f7-9431-2adb2d3b8041",
   "metadata": {},
   "outputs": [
    {
     "data": {
      "text/plain": [
       "1.0"
      ]
     },
     "execution_count": 340,
     "metadata": {},
     "output_type": "execute_result"
    }
   ],
   "source": [
    "elastic_cv_model.l1_ratio_"
   ]
  },
  {
   "cell_type": "code",
   "execution_count": 341,
   "id": "9a8a37ea-cdad-471f-b041-ef9145c4c9ff",
   "metadata": {},
   "outputs": [
    {
     "data": {
      "text/plain": [
       "array([-0.00000000e+00, -9.25373097e+02, -1.16969395e+04,  5.80179623e+03,\n",
       "       -9.06748480e+00,  3.78168682e+03,  3.29218363e+03,  0.00000000e+00,\n",
       "       -1.21355859e+04,  0.00000000e+00, -3.24605034e+02,  0.00000000e+00,\n",
       "       -0.00000000e+00, -0.00000000e+00,  2.68078819e+04,  7.98618301e+02,\n",
       "        1.59687262e+04, -0.00000000e+00,  1.46186559e+01, -5.93279533e+03,\n",
       "       -3.02096960e+02, -6.75527451e+02,  2.45488829e+02,  5.66581838e+03,\n",
       "       -2.63728892e+03,  7.60540940e+00, -2.55231145e+03,  0.00000000e+00,\n",
       "        1.05082249e+03, -0.00000000e+00,  1.58476168e+03,  3.02293976e+03,\n",
       "        2.02546396e+03,  2.44776733e+02,  0.00000000e+00, -0.00000000e+00,\n",
       "        0.00000000e+00, -1.16005948e+02, -5.79481041e+02,  9.24333187e+02,\n",
       "        3.45708629e+02,  4.08284884e+02, -3.11191513e+02, -2.02731895e+02,\n",
       "       -8.66089354e+02, -1.53191593e+04, -6.14631767e+02, -8.18422448e+03,\n",
       "       -1.58377218e+03, -6.11294125e+02,  1.53631082e+04, -1.88696541e+02,\n",
       "        1.05713961e+02,  0.00000000e+00, -7.78079062e+03])"
      ]
     },
     "execution_count": 341,
     "metadata": {},
     "output_type": "execute_result"
    }
   ],
   "source": [
    "elastic_cv_model.coef_"
   ]
  },
  {
   "cell_type": "code",
   "execution_count": 342,
   "id": "07a8c0ae-2fc2-46be-a1c9-e3dec33613e7",
   "metadata": {},
   "outputs": [],
   "source": [
    "ecm_df = pd.DataFrame(elastic_cv_model.coef_, columns= [\"elastic_coef_(alp: 0.01, l1: 1)\"])"
   ]
  },
  {
   "cell_type": "code",
   "execution_count": 343,
   "id": "5fdd538b-1da0-4902-9e95-b1ed44b9fce2",
   "metadata": {},
   "outputs": [
    {
     "name": "stdout",
     "output_type": "stream",
     "text": [
      "Model testing performance:\n",
      "--------------------------\n",
      "R2_score \t: 0.8480576697035875\n",
      "MAE \t\t: 2818.0089209302946\n",
      "MSE \t\t: 22463342.133677553\n",
      "RMSE \t\t: 4739.5508367014645\n"
     ]
    }
   ],
   "source": [
    "y_train_pred = elastic_cv_model.predict(X_train)\n",
    "eval_metrics(y_train, y_train_pred)"
   ]
  },
  {
   "cell_type": "code",
   "execution_count": 344,
   "id": "f3bf940f-494b-4371-96df-f64e8a5222fb",
   "metadata": {},
   "outputs": [
    {
     "name": "stdout",
     "output_type": "stream",
     "text": [
      "Model testing performance:\n",
      "--------------------------\n",
      "R2_score \t: 0.8469635899054602\n",
      "MAE \t\t: 2758.7164146811474\n",
      "MSE \t\t: 21595043.322789162\n",
      "RMSE \t\t: 4647.046731289579\n"
     ]
    }
   ],
   "source": [
    "y_pred = elastic_cv_model.predict(X_test)\n",
    "eval_metrics(y_test, y_pred)"
   ]
  },
  {
   "cell_type": "code",
   "execution_count": 345,
   "id": "85366bee-de9c-4cdb-ac83-6c7b7be9c596",
   "metadata": {},
   "outputs": [
    {
     "data": {
      "text/html": [
       "<div>\n",
       "<style scoped>\n",
       "    .dataframe tbody tr th:only-of-type {\n",
       "        vertical-align: middle;\n",
       "    }\n",
       "\n",
       "    .dataframe tbody tr th {\n",
       "        vertical-align: top;\n",
       "    }\n",
       "\n",
       "    .dataframe thead th {\n",
       "        text-align: right;\n",
       "    }\n",
       "</style>\n",
       "<table border=\"1\" class=\"dataframe\">\n",
       "  <thead>\n",
       "    <tr style=\"text-align: right;\">\n",
       "      <th></th>\n",
       "      <th>elastic_cv_train</th>\n",
       "      <th>elastic_cv_test</th>\n",
       "    </tr>\n",
       "  </thead>\n",
       "  <tbody>\n",
       "    <tr>\n",
       "      <th>rmse</th>\n",
       "      <td>4.739551e+03</td>\n",
       "      <td>4.647047e+03</td>\n",
       "    </tr>\n",
       "    <tr>\n",
       "      <th>mae</th>\n",
       "      <td>2.818009e+03</td>\n",
       "      <td>2.758716e+03</td>\n",
       "    </tr>\n",
       "    <tr>\n",
       "      <th>mse</th>\n",
       "      <td>2.246334e+07</td>\n",
       "      <td>2.159504e+07</td>\n",
       "    </tr>\n",
       "    <tr>\n",
       "      <th>R2</th>\n",
       "      <td>8.480577e-01</td>\n",
       "      <td>8.469636e-01</td>\n",
       "    </tr>\n",
       "  </tbody>\n",
       "</table>\n",
       "</div>"
      ],
      "text/plain": [
       "      elastic_cv_train  elastic_cv_test\n",
       "rmse      4.739551e+03     4.647047e+03\n",
       "mae       2.818009e+03     2.758716e+03\n",
       "mse       2.246334e+07     2.159504e+07\n",
       "R2        8.480577e-01     8.469636e-01"
      ]
     },
     "execution_count": 345,
     "metadata": {},
     "output_type": "execute_result"
    }
   ],
   "source": [
    "elastic_cv_scores = {\"elastic_cv_train\": {\"rmse\" : np.sqrt(mean_squared_error(y_train, y_train_pred)),\n",
    "    \"mae\" : mean_absolute_error(y_train, y_train_pred),\n",
    "    \"mse\" : mean_squared_error(y_train, y_train_pred),\n",
    "    \"R2\" : r2_score(y_train, y_train_pred)}, \n",
    "\n",
    "    \"elastic_cv_test\": {\"rmse\" : np.sqrt(mean_squared_error(y_test, y_pred)),\n",
    "    \"mae\" : mean_absolute_error(y_test, y_pred),\n",
    "    \"mse\" : mean_squared_error(y_test, y_pred),\n",
    "    \"R2\" : r2_score(y_test, y_pred)}}\n",
    "ecs = pd.DataFrame(elastic_cv_scores)\n",
    "ecs"
   ]
  },
  {
   "cell_type": "code",
   "execution_count": 358,
   "id": "e98de3b6-af73-4f7f-8b83-f356814724b7",
   "metadata": {},
   "outputs": [
    {
     "data": {
      "text/html": [
       "<div>\n",
       "<style scoped>\n",
       "    .dataframe tbody tr th:only-of-type {\n",
       "        vertical-align: middle;\n",
       "    }\n",
       "\n",
       "    .dataframe tbody tr th {\n",
       "        vertical-align: top;\n",
       "    }\n",
       "\n",
       "    .dataframe thead th {\n",
       "        text-align: right;\n",
       "    }\n",
       "</style>\n",
       "<table border=\"1\" class=\"dataframe\">\n",
       "  <thead>\n",
       "    <tr style=\"text-align: right;\">\n",
       "      <th></th>\n",
       "      <th>p_train</th>\n",
       "      <th>pe_test</th>\n",
       "      <th>ridge_train</th>\n",
       "      <th>ridge_test</th>\n",
       "      <th>ridge_cv_train</th>\n",
       "      <th>ridge_cv_test</th>\n",
       "      <th>lasso_train</th>\n",
       "      <th>lasso_test</th>\n",
       "      <th>lasso_cv_train</th>\n",
       "      <th>lasso_cv_test</th>\n",
       "      <th>elastic_train</th>\n",
       "      <th>elastic_test</th>\n",
       "      <th>elastic_cv_train</th>\n",
       "      <th>elastic_cv_test</th>\n",
       "    </tr>\n",
       "  </thead>\n",
       "  <tbody>\n",
       "    <tr>\n",
       "      <th>rmse</th>\n",
       "      <td>4.730807e+03</td>\n",
       "      <td>4.683888e+03</td>\n",
       "      <td>4.781266e+03</td>\n",
       "      <td>4.610147e+03</td>\n",
       "      <td>4.735111e+03</td>\n",
       "      <td>4.656088e+03</td>\n",
       "      <td>4.769276e+03</td>\n",
       "      <td>4.628271e+03</td>\n",
       "      <td>4.739551e+03</td>\n",
       "      <td>4.647047e+03</td>\n",
       "      <td>5.363971e+03</td>\n",
       "      <td>5.024797e+03</td>\n",
       "      <td>4.739551e+03</td>\n",
       "      <td>4.647047e+03</td>\n",
       "    </tr>\n",
       "    <tr>\n",
       "      <th>mae</th>\n",
       "      <td>2.815603e+03</td>\n",
       "      <td>2.791865e+03</td>\n",
       "      <td>2.875511e+03</td>\n",
       "      <td>2.778213e+03</td>\n",
       "      <td>2.814660e+03</td>\n",
       "      <td>2.769593e+03</td>\n",
       "      <td>2.861104e+03</td>\n",
       "      <td>2.774651e+03</td>\n",
       "      <td>2.818009e+03</td>\n",
       "      <td>2.758716e+03</td>\n",
       "      <td>3.544729e+03</td>\n",
       "      <td>3.381567e+03</td>\n",
       "      <td>2.818009e+03</td>\n",
       "      <td>2.758716e+03</td>\n",
       "    </tr>\n",
       "    <tr>\n",
       "      <th>mse</th>\n",
       "      <td>2.238053e+07</td>\n",
       "      <td>2.193881e+07</td>\n",
       "      <td>2.286051e+07</td>\n",
       "      <td>2.125345e+07</td>\n",
       "      <td>2.242128e+07</td>\n",
       "      <td>2.167915e+07</td>\n",
       "      <td>2.274599e+07</td>\n",
       "      <td>2.142089e+07</td>\n",
       "      <td>2.246334e+07</td>\n",
       "      <td>2.159504e+07</td>\n",
       "      <td>2.877218e+07</td>\n",
       "      <td>2.524858e+07</td>\n",
       "      <td>2.246334e+07</td>\n",
       "      <td>2.159504e+07</td>\n",
       "    </tr>\n",
       "    <tr>\n",
       "      <th>R2</th>\n",
       "      <td>8.486178e-01</td>\n",
       "      <td>8.445274e-01</td>\n",
       "      <td>8.453713e-01</td>\n",
       "      <td>8.493843e-01</td>\n",
       "      <td>8.483422e-01</td>\n",
       "      <td>8.463675e-01</td>\n",
       "      <td>8.461458e-01</td>\n",
       "      <td>8.481978e-01</td>\n",
       "      <td>8.480577e-01</td>\n",
       "      <td>8.469636e-01</td>\n",
       "      <td>8.053846e-01</td>\n",
       "      <td>8.210722e-01</td>\n",
       "      <td>8.480577e-01</td>\n",
       "      <td>8.469636e-01</td>\n",
       "    </tr>\n",
       "  </tbody>\n",
       "</table>\n",
       "</div>"
      ],
      "text/plain": [
       "           p_train       pe_test   ridge_train    ridge_test  ridge_cv_train  \\\n",
       "rmse  4.730807e+03  4.683888e+03  4.781266e+03  4.610147e+03    4.735111e+03   \n",
       "mae   2.815603e+03  2.791865e+03  2.875511e+03  2.778213e+03    2.814660e+03   \n",
       "mse   2.238053e+07  2.193881e+07  2.286051e+07  2.125345e+07    2.242128e+07   \n",
       "R2    8.486178e-01  8.445274e-01  8.453713e-01  8.493843e-01    8.483422e-01   \n",
       "\n",
       "      ridge_cv_test   lasso_train    lasso_test  lasso_cv_train  \\\n",
       "rmse   4.656088e+03  4.769276e+03  4.628271e+03    4.739551e+03   \n",
       "mae    2.769593e+03  2.861104e+03  2.774651e+03    2.818009e+03   \n",
       "mse    2.167915e+07  2.274599e+07  2.142089e+07    2.246334e+07   \n",
       "R2     8.463675e-01  8.461458e-01  8.481978e-01    8.480577e-01   \n",
       "\n",
       "      lasso_cv_test  elastic_train  elastic_test  elastic_cv_train  \\\n",
       "rmse   4.647047e+03   5.363971e+03  5.024797e+03      4.739551e+03   \n",
       "mae    2.758716e+03   3.544729e+03  3.381567e+03      2.818009e+03   \n",
       "mse    2.159504e+07   2.877218e+07  2.524858e+07      2.246334e+07   \n",
       "R2     8.469636e-01   8.053846e-01  8.210722e-01      8.480577e-01   \n",
       "\n",
       "      elastic_cv_test  \n",
       "rmse     4.647047e+03  \n",
       "mae      2.758716e+03  \n",
       "mse      2.159504e+07  \n",
       "R2       8.469636e-01  "
      ]
     },
     "execution_count": 358,
     "metadata": {},
     "output_type": "execute_result"
    }
   ],
   "source": [
    "pd.concat([ps, rs, rcs, lss, lcs, es, ecs], axis = 1)"
   ]
  },
  {
   "cell_type": "markdown",
   "id": "49b68fac-fe1f-4994-bbb5-0bd034df4c42",
   "metadata": {},
   "source": [
    "* tüm modelleremizden yapmış olduğumuz karşılaştırmalar sonucunda test skoru olarak lasso alpha 0.004 değeri. Train skoru en yüksek olan ridge 0.018 değeri. Test değeri daha önemli olduğundan en başarılı model lasso alpha = 0.004 olan modeldir."
   ]
  },
  {
   "cell_type": "markdown",
   "id": "d5264022-8b79-4f92-bf93-1a3963302998",
   "metadata": {},
   "source": [
    "## Grid Search"
   ]
  },
  {
   "cell_type": "code",
   "execution_count": 347,
   "id": "0fda2e39-f3ee-4d01-9157-aa113739a76e",
   "metadata": {},
   "outputs": [],
   "source": [
    "from sklearn.model_selection import GridSearchCV"
   ]
  },
  {
   "cell_type": "code",
   "execution_count": 348,
   "id": "708db9b1-a50d-45db-9b6d-919cb8102695",
   "metadata": {},
   "outputs": [],
   "source": [
    "elastic_model = ElasticNet(max_iter = 10000)"
   ]
  },
  {
   "cell_type": "code",
   "execution_count": 349,
   "id": "2213a922-5768-4760-ae10-7fb942aeffaf",
   "metadata": {},
   "outputs": [],
   "source": [
    "param_grid = {\"alpha\": [0.5, 2, 2.5, 3, 3.5,4,4.5,5,5.5,6,6.5,8],\n",
    "             \"l1_ratio\": [0.7, 0.9, 0.95, 0.99, 1,1.2,1.3,1.5,2,3,5]}"
   ]
  },
  {
   "cell_type": "code",
   "execution_count": 350,
   "id": "98db4f60-cb95-4a96-9f08-6b71641ab328",
   "metadata": {},
   "outputs": [],
   "source": [
    "grid_model = GridSearchCV(estimator= elastic_model, param_grid= param_grid, scoring = \"neg_root_mean_squared_error\", cv = 10, verbose = 2)"
   ]
  },
  {
   "cell_type": "code",
   "execution_count": 351,
   "id": "5891092e-f071-4095-8128-2efa4fb3bda3",
   "metadata": {},
   "outputs": [
    {
     "name": "stdout",
     "output_type": "stream",
     "text": [
      "Fitting 10 folds for each of 132 candidates, totalling 1320 fits\n",
      "[CV] END ............................alpha=0.5, l1_ratio=0.7; total time=   0.0s\n",
      "[CV] END ............................alpha=0.5, l1_ratio=0.7; total time=   0.0s\n",
      "[CV] END ............................alpha=0.5, l1_ratio=0.7; total time=   0.0s\n",
      "[CV] END ............................alpha=0.5, l1_ratio=0.7; total time=   0.0s\n",
      "[CV] END ............................alpha=0.5, l1_ratio=0.7; total time=   0.0s\n",
      "[CV] END ............................alpha=0.5, l1_ratio=0.7; total time=   0.0s\n",
      "[CV] END ............................alpha=0.5, l1_ratio=0.7; total time=   0.0s\n",
      "[CV] END ............................alpha=0.5, l1_ratio=0.7; total time=   0.0s\n",
      "[CV] END ............................alpha=0.5, l1_ratio=0.7; total time=   0.0s\n",
      "[CV] END ............................alpha=0.5, l1_ratio=0.7; total time=   0.0s\n",
      "[CV] END ............................alpha=0.5, l1_ratio=0.9; total time=   0.0s\n",
      "[CV] END ............................alpha=0.5, l1_ratio=0.9; total time=   0.0s\n",
      "[CV] END ............................alpha=0.5, l1_ratio=0.9; total time=   0.0s\n",
      "[CV] END ............................alpha=0.5, l1_ratio=0.9; total time=   0.0s\n",
      "[CV] END ............................alpha=0.5, l1_ratio=0.9; total time=   0.0s\n",
      "[CV] END ............................alpha=0.5, l1_ratio=0.9; total time=   0.0s\n",
      "[CV] END ............................alpha=0.5, l1_ratio=0.9; total time=   0.0s\n",
      "[CV] END ............................alpha=0.5, l1_ratio=0.9; total time=   0.0s\n",
      "[CV] END ............................alpha=0.5, l1_ratio=0.9; total time=   0.0s\n",
      "[CV] END ............................alpha=0.5, l1_ratio=0.9; total time=   0.0s\n",
      "[CV] END ...........................alpha=0.5, l1_ratio=0.95; total time=   0.0s\n",
      "[CV] END ...........................alpha=0.5, l1_ratio=0.95; total time=   0.0s\n",
      "[CV] END ...........................alpha=0.5, l1_ratio=0.95; total time=   0.1s\n",
      "[CV] END ...........................alpha=0.5, l1_ratio=0.95; total time=   0.0s\n",
      "[CV] END ...........................alpha=0.5, l1_ratio=0.95; total time=   0.0s\n",
      "[CV] END ...........................alpha=0.5, l1_ratio=0.95; total time=   0.0s\n",
      "[CV] END ...........................alpha=0.5, l1_ratio=0.95; total time=   0.1s\n",
      "[CV] END ...........................alpha=0.5, l1_ratio=0.95; total time=   0.1s\n",
      "[CV] END ...........................alpha=0.5, l1_ratio=0.95; total time=   0.1s\n",
      "[CV] END ...........................alpha=0.5, l1_ratio=0.95; total time=   0.1s\n",
      "[CV] END ...........................alpha=0.5, l1_ratio=0.99; total time=   0.8s\n",
      "[CV] END ...........................alpha=0.5, l1_ratio=0.99; total time=   0.4s\n",
      "[CV] END ...........................alpha=0.5, l1_ratio=0.99; total time=   0.5s\n",
      "[CV] END ...........................alpha=0.5, l1_ratio=0.99; total time=   0.6s\n",
      "[CV] END ...........................alpha=0.5, l1_ratio=0.99; total time=   0.6s\n",
      "[CV] END ...........................alpha=0.5, l1_ratio=0.99; total time=   0.6s\n",
      "[CV] END ...........................alpha=0.5, l1_ratio=0.99; total time=   0.5s\n",
      "[CV] END ...........................alpha=0.5, l1_ratio=0.99; total time=   0.4s\n",
      "[CV] END ...........................alpha=0.5, l1_ratio=0.99; total time=   0.7s\n",
      "[CV] END ...........................alpha=0.5, l1_ratio=0.99; total time=   0.7s\n",
      "[CV] END ..............................alpha=0.5, l1_ratio=1; total time=   0.7s\n",
      "[CV] END ..............................alpha=0.5, l1_ratio=1; total time=   0.7s\n",
      "[CV] END ..............................alpha=0.5, l1_ratio=1; total time=   0.8s\n",
      "[CV] END ..............................alpha=0.5, l1_ratio=1; total time=   0.7s\n",
      "[CV] END ..............................alpha=0.5, l1_ratio=1; total time=   0.5s\n",
      "[CV] END ..............................alpha=0.5, l1_ratio=1; total time=   0.5s\n",
      "[CV] END ..............................alpha=0.5, l1_ratio=1; total time=   0.8s\n",
      "[CV] END ..............................alpha=0.5, l1_ratio=1; total time=   0.7s\n",
      "[CV] END ..............................alpha=0.5, l1_ratio=1; total time=   0.6s\n",
      "[CV] END ..............................alpha=0.5, l1_ratio=1; total time=   0.6s\n",
      "[CV] END ............................alpha=0.5, l1_ratio=1.2; total time=   0.0s\n",
      "[CV] END ............................alpha=0.5, l1_ratio=1.2; total time=   0.0s\n",
      "[CV] END ............................alpha=0.5, l1_ratio=1.2; total time=   0.0s\n",
      "[CV] END ............................alpha=0.5, l1_ratio=1.2; total time=   0.0s\n",
      "[CV] END ............................alpha=0.5, l1_ratio=1.2; total time=   0.0s\n",
      "[CV] END ............................alpha=0.5, l1_ratio=1.2; total time=   0.0s\n",
      "[CV] END ............................alpha=0.5, l1_ratio=1.2; total time=   0.0s\n",
      "[CV] END ............................alpha=0.5, l1_ratio=1.2; total time=   0.0s\n",
      "[CV] END ............................alpha=0.5, l1_ratio=1.2; total time=   0.0s\n",
      "[CV] END ............................alpha=0.5, l1_ratio=1.2; total time=   0.0s\n",
      "[CV] END ............................alpha=0.5, l1_ratio=1.3; total time=   0.0s\n",
      "[CV] END ............................alpha=0.5, l1_ratio=1.3; total time=   0.0s\n",
      "[CV] END ............................alpha=0.5, l1_ratio=1.3; total time=   0.0s\n",
      "[CV] END ............................alpha=0.5, l1_ratio=1.3; total time=   0.0s\n",
      "[CV] END ............................alpha=0.5, l1_ratio=1.3; total time=   0.0s\n",
      "[CV] END ............................alpha=0.5, l1_ratio=1.3; total time=   0.0s\n",
      "[CV] END ............................alpha=0.5, l1_ratio=1.3; total time=   0.0s\n",
      "[CV] END ............................alpha=0.5, l1_ratio=1.3; total time=   0.0s\n",
      "[CV] END ............................alpha=0.5, l1_ratio=1.3; total time=   0.0s\n",
      "[CV] END ............................alpha=0.5, l1_ratio=1.3; total time=   0.0s\n",
      "[CV] END ............................alpha=0.5, l1_ratio=1.5; total time=   0.0s\n",
      "[CV] END ............................alpha=0.5, l1_ratio=1.5; total time=   0.0s\n",
      "[CV] END ............................alpha=0.5, l1_ratio=1.5; total time=   0.0s\n",
      "[CV] END ............................alpha=0.5, l1_ratio=1.5; total time=   0.0s\n",
      "[CV] END ............................alpha=0.5, l1_ratio=1.5; total time=   0.0s\n",
      "[CV] END ............................alpha=0.5, l1_ratio=1.5; total time=   0.0s\n",
      "[CV] END ............................alpha=0.5, l1_ratio=1.5; total time=   0.0s\n",
      "[CV] END ............................alpha=0.5, l1_ratio=1.5; total time=   0.0s\n",
      "[CV] END ............................alpha=0.5, l1_ratio=1.5; total time=   0.0s\n",
      "[CV] END ............................alpha=0.5, l1_ratio=1.5; total time=   0.0s\n",
      "[CV] END ..............................alpha=0.5, l1_ratio=2; total time=   0.0s\n",
      "[CV] END ..............................alpha=0.5, l1_ratio=2; total time=   0.0s\n",
      "[CV] END ..............................alpha=0.5, l1_ratio=2; total time=   0.0s\n",
      "[CV] END ..............................alpha=0.5, l1_ratio=2; total time=   0.0s\n",
      "[CV] END ..............................alpha=0.5, l1_ratio=2; total time=   0.0s\n",
      "[CV] END ..............................alpha=0.5, l1_ratio=2; total time=   0.0s\n",
      "[CV] END ..............................alpha=0.5, l1_ratio=2; total time=   0.0s\n",
      "[CV] END ..............................alpha=0.5, l1_ratio=2; total time=   0.0s\n",
      "[CV] END ..............................alpha=0.5, l1_ratio=2; total time=   0.0s\n",
      "[CV] END ..............................alpha=0.5, l1_ratio=2; total time=   0.0s\n",
      "[CV] END ..............................alpha=0.5, l1_ratio=3; total time=   0.0s\n",
      "[CV] END ..............................alpha=0.5, l1_ratio=3; total time=   0.0s\n",
      "[CV] END ..............................alpha=0.5, l1_ratio=3; total time=   0.0s\n",
      "[CV] END ..............................alpha=0.5, l1_ratio=3; total time=   0.0s\n",
      "[CV] END ..............................alpha=0.5, l1_ratio=3; total time=   0.0s\n",
      "[CV] END ..............................alpha=0.5, l1_ratio=3; total time=   0.0s\n",
      "[CV] END ..............................alpha=0.5, l1_ratio=3; total time=   0.0s\n",
      "[CV] END ..............................alpha=0.5, l1_ratio=3; total time=   0.0s\n",
      "[CV] END ..............................alpha=0.5, l1_ratio=3; total time=   0.0s\n",
      "[CV] END ..............................alpha=0.5, l1_ratio=3; total time=   0.0s\n",
      "[CV] END ..............................alpha=0.5, l1_ratio=5; total time=   0.0s\n",
      "[CV] END ..............................alpha=0.5, l1_ratio=5; total time=   0.0s\n",
      "[CV] END ..............................alpha=0.5, l1_ratio=5; total time=   0.0s\n",
      "[CV] END ..............................alpha=0.5, l1_ratio=5; total time=   0.0s\n",
      "[CV] END ..............................alpha=0.5, l1_ratio=5; total time=   0.0s\n",
      "[CV] END ..............................alpha=0.5, l1_ratio=5; total time=   0.0s\n",
      "[CV] END ..............................alpha=0.5, l1_ratio=5; total time=   0.0s\n",
      "[CV] END ..............................alpha=0.5, l1_ratio=5; total time=   0.0s\n",
      "[CV] END ..............................alpha=0.5, l1_ratio=5; total time=   0.0s\n",
      "[CV] END ..............................alpha=0.5, l1_ratio=5; total time=   0.0s\n",
      "[CV] END ..............................alpha=2, l1_ratio=0.7; total time=   0.0s\n",
      "[CV] END ..............................alpha=2, l1_ratio=0.7; total time=   0.0s\n",
      "[CV] END ..............................alpha=2, l1_ratio=0.7; total time=   0.0s\n",
      "[CV] END ..............................alpha=2, l1_ratio=0.7; total time=   0.0s\n",
      "[CV] END ..............................alpha=2, l1_ratio=0.7; total time=   0.0s\n",
      "[CV] END ..............................alpha=2, l1_ratio=0.7; total time=   0.0s\n",
      "[CV] END ..............................alpha=2, l1_ratio=0.7; total time=   0.0s\n",
      "[CV] END ..............................alpha=2, l1_ratio=0.7; total time=   0.0s\n",
      "[CV] END ..............................alpha=2, l1_ratio=0.7; total time=   0.0s\n",
      "[CV] END ..............................alpha=2, l1_ratio=0.7; total time=   0.0s\n",
      "[CV] END ..............................alpha=2, l1_ratio=0.9; total time=   0.0s\n",
      "[CV] END ..............................alpha=2, l1_ratio=0.9; total time=   0.0s\n",
      "[CV] END ..............................alpha=2, l1_ratio=0.9; total time=   0.0s\n",
      "[CV] END ..............................alpha=2, l1_ratio=0.9; total time=   0.0s\n",
      "[CV] END ..............................alpha=2, l1_ratio=0.9; total time=   0.0s\n",
      "[CV] END ..............................alpha=2, l1_ratio=0.9; total time=   0.0s\n",
      "[CV] END ..............................alpha=2, l1_ratio=0.9; total time=   0.0s\n",
      "[CV] END ..............................alpha=2, l1_ratio=0.9; total time=   0.0s\n",
      "[CV] END ..............................alpha=2, l1_ratio=0.9; total time=   0.0s\n",
      "[CV] END ..............................alpha=2, l1_ratio=0.9; total time=   0.0s\n",
      "[CV] END .............................alpha=2, l1_ratio=0.95; total time=   0.0s\n",
      "[CV] END .............................alpha=2, l1_ratio=0.95; total time=   0.0s\n",
      "[CV] END .............................alpha=2, l1_ratio=0.95; total time=   0.0s\n",
      "[CV] END .............................alpha=2, l1_ratio=0.95; total time=   0.0s\n",
      "[CV] END .............................alpha=2, l1_ratio=0.95; total time=   0.0s\n",
      "[CV] END .............................alpha=2, l1_ratio=0.95; total time=   0.0s\n",
      "[CV] END .............................alpha=2, l1_ratio=0.95; total time=   0.0s\n",
      "[CV] END .............................alpha=2, l1_ratio=0.95; total time=   0.0s\n",
      "[CV] END .............................alpha=2, l1_ratio=0.95; total time=   0.0s\n",
      "[CV] END .............................alpha=2, l1_ratio=0.95; total time=   0.0s\n",
      "[CV] END .............................alpha=2, l1_ratio=0.99; total time=   0.1s\n",
      "[CV] END .............................alpha=2, l1_ratio=0.99; total time=   0.0s\n",
      "[CV] END .............................alpha=2, l1_ratio=0.99; total time=   0.1s\n",
      "[CV] END .............................alpha=2, l1_ratio=0.99; total time=   0.0s\n",
      "[CV] END .............................alpha=2, l1_ratio=0.99; total time=   0.0s\n",
      "[CV] END .............................alpha=2, l1_ratio=0.99; total time=   0.1s\n",
      "[CV] END .............................alpha=2, l1_ratio=0.99; total time=   0.0s\n",
      "[CV] END .............................alpha=2, l1_ratio=0.99; total time=   0.0s\n",
      "[CV] END .............................alpha=2, l1_ratio=0.99; total time=   0.0s\n",
      "[CV] END .............................alpha=2, l1_ratio=0.99; total time=   0.0s\n",
      "[CV] END ................................alpha=2, l1_ratio=1; total time=   0.8s\n",
      "[CV] END ................................alpha=2, l1_ratio=1; total time=   0.8s\n",
      "[CV] END ................................alpha=2, l1_ratio=1; total time=   0.7s\n",
      "[CV] END ................................alpha=2, l1_ratio=1; total time=   0.7s\n",
      "[CV] END ................................alpha=2, l1_ratio=1; total time=   0.9s\n",
      "[CV] END ................................alpha=2, l1_ratio=1; total time=   0.7s\n",
      "[CV] END ................................alpha=2, l1_ratio=1; total time=   0.6s\n",
      "[CV] END ................................alpha=2, l1_ratio=1; total time=   0.7s\n",
      "[CV] END ................................alpha=2, l1_ratio=1; total time=   0.7s\n",
      "[CV] END ................................alpha=2, l1_ratio=1; total time=   0.6s\n",
      "[CV] END ..............................alpha=2, l1_ratio=1.2; total time=   0.0s\n",
      "[CV] END ..............................alpha=2, l1_ratio=1.2; total time=   0.0s\n",
      "[CV] END ..............................alpha=2, l1_ratio=1.2; total time=   0.0s\n",
      "[CV] END ..............................alpha=2, l1_ratio=1.2; total time=   0.0s\n",
      "[CV] END ..............................alpha=2, l1_ratio=1.2; total time=   0.0s\n",
      "[CV] END ..............................alpha=2, l1_ratio=1.2; total time=   0.0s\n",
      "[CV] END ..............................alpha=2, l1_ratio=1.2; total time=   0.0s\n",
      "[CV] END ..............................alpha=2, l1_ratio=1.2; total time=   0.0s\n",
      "[CV] END ..............................alpha=2, l1_ratio=1.2; total time=   0.0s\n",
      "[CV] END ..............................alpha=2, l1_ratio=1.2; total time=   0.0s\n",
      "[CV] END ..............................alpha=2, l1_ratio=1.3; total time=   0.0s\n",
      "[CV] END ..............................alpha=2, l1_ratio=1.3; total time=   0.0s\n",
      "[CV] END ..............................alpha=2, l1_ratio=1.3; total time=   0.0s\n",
      "[CV] END ..............................alpha=2, l1_ratio=1.3; total time=   0.0s\n",
      "[CV] END ..............................alpha=2, l1_ratio=1.3; total time=   0.0s\n",
      "[CV] END ..............................alpha=2, l1_ratio=1.3; total time=   0.0s\n",
      "[CV] END ..............................alpha=2, l1_ratio=1.3; total time=   0.0s\n",
      "[CV] END ..............................alpha=2, l1_ratio=1.3; total time=   0.0s\n",
      "[CV] END ..............................alpha=2, l1_ratio=1.3; total time=   0.0s\n",
      "[CV] END ..............................alpha=2, l1_ratio=1.3; total time=   0.0s\n",
      "[CV] END ..............................alpha=2, l1_ratio=1.5; total time=   0.0s\n",
      "[CV] END ..............................alpha=2, l1_ratio=1.5; total time=   0.0s\n",
      "[CV] END ..............................alpha=2, l1_ratio=1.5; total time=   0.0s\n",
      "[CV] END ..............................alpha=2, l1_ratio=1.5; total time=   0.0s\n",
      "[CV] END ..............................alpha=2, l1_ratio=1.5; total time=   0.0s\n",
      "[CV] END ..............................alpha=2, l1_ratio=1.5; total time=   0.0s\n",
      "[CV] END ..............................alpha=2, l1_ratio=1.5; total time=   0.0s\n",
      "[CV] END ..............................alpha=2, l1_ratio=1.5; total time=   0.0s\n",
      "[CV] END ..............................alpha=2, l1_ratio=1.5; total time=   0.0s\n",
      "[CV] END ..............................alpha=2, l1_ratio=1.5; total time=   0.0s\n",
      "[CV] END ................................alpha=2, l1_ratio=2; total time=   0.0s\n",
      "[CV] END ................................alpha=2, l1_ratio=2; total time=   0.0s\n",
      "[CV] END ................................alpha=2, l1_ratio=2; total time=   0.0s\n",
      "[CV] END ................................alpha=2, l1_ratio=2; total time=   0.0s\n",
      "[CV] END ................................alpha=2, l1_ratio=2; total time=   0.0s\n",
      "[CV] END ................................alpha=2, l1_ratio=2; total time=   0.0s\n",
      "[CV] END ................................alpha=2, l1_ratio=2; total time=   0.0s\n",
      "[CV] END ................................alpha=2, l1_ratio=2; total time=   0.0s\n",
      "[CV] END ................................alpha=2, l1_ratio=2; total time=   0.0s\n",
      "[CV] END ................................alpha=2, l1_ratio=2; total time=   0.0s\n",
      "[CV] END ................................alpha=2, l1_ratio=3; total time=   0.0s\n",
      "[CV] END ................................alpha=2, l1_ratio=3; total time=   0.0s\n",
      "[CV] END ................................alpha=2, l1_ratio=3; total time=   0.0s\n",
      "[CV] END ................................alpha=2, l1_ratio=3; total time=   0.0s\n",
      "[CV] END ................................alpha=2, l1_ratio=3; total time=   0.0s\n",
      "[CV] END ................................alpha=2, l1_ratio=3; total time=   0.0s\n",
      "[CV] END ................................alpha=2, l1_ratio=3; total time=   0.0s\n",
      "[CV] END ................................alpha=2, l1_ratio=3; total time=   0.0s\n",
      "[CV] END ................................alpha=2, l1_ratio=3; total time=   0.0s\n",
      "[CV] END ................................alpha=2, l1_ratio=3; total time=   0.0s\n",
      "[CV] END ................................alpha=2, l1_ratio=5; total time=   0.0s\n",
      "[CV] END ................................alpha=2, l1_ratio=5; total time=   0.0s\n",
      "[CV] END ................................alpha=2, l1_ratio=5; total time=   0.0s\n",
      "[CV] END ................................alpha=2, l1_ratio=5; total time=   0.0s\n",
      "[CV] END ................................alpha=2, l1_ratio=5; total time=   0.0s\n",
      "[CV] END ................................alpha=2, l1_ratio=5; total time=   0.0s\n",
      "[CV] END ................................alpha=2, l1_ratio=5; total time=   0.0s\n",
      "[CV] END ................................alpha=2, l1_ratio=5; total time=   0.0s\n",
      "[CV] END ................................alpha=2, l1_ratio=5; total time=   0.0s\n",
      "[CV] END ................................alpha=2, l1_ratio=5; total time=   0.0s\n",
      "[CV] END ............................alpha=2.5, l1_ratio=0.7; total time=   0.0s\n",
      "[CV] END ............................alpha=2.5, l1_ratio=0.7; total time=   0.0s\n",
      "[CV] END ............................alpha=2.5, l1_ratio=0.7; total time=   0.0s\n",
      "[CV] END ............................alpha=2.5, l1_ratio=0.7; total time=   0.0s\n",
      "[CV] END ............................alpha=2.5, l1_ratio=0.7; total time=   0.0s\n",
      "[CV] END ............................alpha=2.5, l1_ratio=0.7; total time=   0.0s\n",
      "[CV] END ............................alpha=2.5, l1_ratio=0.7; total time=   0.0s\n",
      "[CV] END ............................alpha=2.5, l1_ratio=0.7; total time=   0.0s\n",
      "[CV] END ............................alpha=2.5, l1_ratio=0.7; total time=   0.0s\n",
      "[CV] END ............................alpha=2.5, l1_ratio=0.7; total time=   0.0s\n",
      "[CV] END ............................alpha=2.5, l1_ratio=0.9; total time=   0.0s\n",
      "[CV] END ............................alpha=2.5, l1_ratio=0.9; total time=   0.0s\n",
      "[CV] END ............................alpha=2.5, l1_ratio=0.9; total time=   0.0s\n",
      "[CV] END ............................alpha=2.5, l1_ratio=0.9; total time=   0.0s\n",
      "[CV] END ............................alpha=2.5, l1_ratio=0.9; total time=   0.0s\n",
      "[CV] END ............................alpha=2.5, l1_ratio=0.9; total time=   0.0s\n",
      "[CV] END ............................alpha=2.5, l1_ratio=0.9; total time=   0.0s\n",
      "[CV] END ............................alpha=2.5, l1_ratio=0.9; total time=   0.0s\n",
      "[CV] END ............................alpha=2.5, l1_ratio=0.9; total time=   0.0s\n",
      "[CV] END ............................alpha=2.5, l1_ratio=0.9; total time=   0.0s\n",
      "[CV] END ...........................alpha=2.5, l1_ratio=0.95; total time=   0.0s\n",
      "[CV] END ...........................alpha=2.5, l1_ratio=0.95; total time=   0.0s\n",
      "[CV] END ...........................alpha=2.5, l1_ratio=0.95; total time=   0.0s\n",
      "[CV] END ...........................alpha=2.5, l1_ratio=0.95; total time=   0.0s\n",
      "[CV] END ...........................alpha=2.5, l1_ratio=0.95; total time=   0.0s\n",
      "[CV] END ...........................alpha=2.5, l1_ratio=0.95; total time=   0.0s\n",
      "[CV] END ...........................alpha=2.5, l1_ratio=0.95; total time=   0.0s\n",
      "[CV] END ...........................alpha=2.5, l1_ratio=0.95; total time=   0.0s\n",
      "[CV] END ...........................alpha=2.5, l1_ratio=0.95; total time=   0.0s\n",
      "[CV] END ...........................alpha=2.5, l1_ratio=0.95; total time=   0.0s\n",
      "[CV] END ...........................alpha=2.5, l1_ratio=0.99; total time=   0.1s\n",
      "[CV] END ...........................alpha=2.5, l1_ratio=0.99; total time=   0.0s\n",
      "[CV] END ...........................alpha=2.5, l1_ratio=0.99; total time=   0.0s\n",
      "[CV] END ...........................alpha=2.5, l1_ratio=0.99; total time=   0.1s\n",
      "[CV] END ...........................alpha=2.5, l1_ratio=0.99; total time=   0.1s\n",
      "[CV] END ...........................alpha=2.5, l1_ratio=0.99; total time=   0.0s\n",
      "[CV] END ...........................alpha=2.5, l1_ratio=0.99; total time=   0.1s\n",
      "[CV] END ...........................alpha=2.5, l1_ratio=0.99; total time=   0.0s\n",
      "[CV] END ...........................alpha=2.5, l1_ratio=0.99; total time=   0.1s\n",
      "[CV] END ...........................alpha=2.5, l1_ratio=0.99; total time=   0.0s\n",
      "[CV] END ..............................alpha=2.5, l1_ratio=1; total time=   0.3s\n",
      "[CV] END ..............................alpha=2.5, l1_ratio=1; total time=   0.3s\n",
      "[CV] END ..............................alpha=2.5, l1_ratio=1; total time=   0.6s\n",
      "[CV] END ..............................alpha=2.5, l1_ratio=1; total time=   0.7s\n",
      "[CV] END ..............................alpha=2.5, l1_ratio=1; total time=   0.3s\n",
      "[CV] END ..............................alpha=2.5, l1_ratio=1; total time=   0.5s\n",
      "[CV] END ..............................alpha=2.5, l1_ratio=1; total time=   0.2s\n",
      "[CV] END ..............................alpha=2.5, l1_ratio=1; total time=   0.3s\n",
      "[CV] END ..............................alpha=2.5, l1_ratio=1; total time=   0.3s\n",
      "[CV] END ..............................alpha=2.5, l1_ratio=1; total time=   0.5s\n",
      "[CV] END ............................alpha=2.5, l1_ratio=1.2; total time=   0.0s\n",
      "[CV] END ............................alpha=2.5, l1_ratio=1.2; total time=   0.0s\n",
      "[CV] END ............................alpha=2.5, l1_ratio=1.2; total time=   0.0s\n",
      "[CV] END ............................alpha=2.5, l1_ratio=1.2; total time=   0.0s\n",
      "[CV] END ............................alpha=2.5, l1_ratio=1.2; total time=   0.0s\n",
      "[CV] END ............................alpha=2.5, l1_ratio=1.2; total time=   0.0s\n",
      "[CV] END ............................alpha=2.5, l1_ratio=1.2; total time=   0.0s\n",
      "[CV] END ............................alpha=2.5, l1_ratio=1.2; total time=   0.0s\n",
      "[CV] END ............................alpha=2.5, l1_ratio=1.2; total time=   0.0s\n",
      "[CV] END ............................alpha=2.5, l1_ratio=1.2; total time=   0.0s\n",
      "[CV] END ............................alpha=2.5, l1_ratio=1.3; total time=   0.0s\n",
      "[CV] END ............................alpha=2.5, l1_ratio=1.3; total time=   0.0s\n",
      "[CV] END ............................alpha=2.5, l1_ratio=1.3; total time=   0.0s\n",
      "[CV] END ............................alpha=2.5, l1_ratio=1.3; total time=   0.0s\n",
      "[CV] END ............................alpha=2.5, l1_ratio=1.3; total time=   0.0s\n",
      "[CV] END ............................alpha=2.5, l1_ratio=1.3; total time=   0.0s\n",
      "[CV] END ............................alpha=2.5, l1_ratio=1.3; total time=   0.0s\n",
      "[CV] END ............................alpha=2.5, l1_ratio=1.3; total time=   0.0s\n",
      "[CV] END ............................alpha=2.5, l1_ratio=1.3; total time=   0.0s\n",
      "[CV] END ............................alpha=2.5, l1_ratio=1.3; total time=   0.0s\n",
      "[CV] END ............................alpha=2.5, l1_ratio=1.5; total time=   0.0s\n",
      "[CV] END ............................alpha=2.5, l1_ratio=1.5; total time=   0.0s\n",
      "[CV] END ............................alpha=2.5, l1_ratio=1.5; total time=   0.0s\n",
      "[CV] END ............................alpha=2.5, l1_ratio=1.5; total time=   0.0s\n",
      "[CV] END ............................alpha=2.5, l1_ratio=1.5; total time=   0.0s\n",
      "[CV] END ............................alpha=2.5, l1_ratio=1.5; total time=   0.0s\n",
      "[CV] END ............................alpha=2.5, l1_ratio=1.5; total time=   0.0s\n",
      "[CV] END ............................alpha=2.5, l1_ratio=1.5; total time=   0.0s\n",
      "[CV] END ............................alpha=2.5, l1_ratio=1.5; total time=   0.0s\n",
      "[CV] END ............................alpha=2.5, l1_ratio=1.5; total time=   0.0s\n",
      "[CV] END ..............................alpha=2.5, l1_ratio=2; total time=   0.0s\n",
      "[CV] END ..............................alpha=2.5, l1_ratio=2; total time=   0.0s\n",
      "[CV] END ..............................alpha=2.5, l1_ratio=2; total time=   0.0s\n",
      "[CV] END ..............................alpha=2.5, l1_ratio=2; total time=   0.0s\n",
      "[CV] END ..............................alpha=2.5, l1_ratio=2; total time=   0.0s\n",
      "[CV] END ..............................alpha=2.5, l1_ratio=2; total time=   0.0s\n",
      "[CV] END ..............................alpha=2.5, l1_ratio=2; total time=   0.0s\n",
      "[CV] END ..............................alpha=2.5, l1_ratio=2; total time=   0.0s\n",
      "[CV] END ..............................alpha=2.5, l1_ratio=2; total time=   0.0s\n",
      "[CV] END ..............................alpha=2.5, l1_ratio=2; total time=   0.0s\n",
      "[CV] END ..............................alpha=2.5, l1_ratio=3; total time=   0.0s\n",
      "[CV] END ..............................alpha=2.5, l1_ratio=3; total time=   0.0s\n",
      "[CV] END ..............................alpha=2.5, l1_ratio=3; total time=   0.0s\n",
      "[CV] END ..............................alpha=2.5, l1_ratio=3; total time=   0.0s\n",
      "[CV] END ..............................alpha=2.5, l1_ratio=3; total time=   0.0s\n",
      "[CV] END ..............................alpha=2.5, l1_ratio=3; total time=   0.0s\n",
      "[CV] END ..............................alpha=2.5, l1_ratio=3; total time=   0.0s\n",
      "[CV] END ..............................alpha=2.5, l1_ratio=3; total time=   0.0s\n",
      "[CV] END ..............................alpha=2.5, l1_ratio=3; total time=   0.0s\n",
      "[CV] END ..............................alpha=2.5, l1_ratio=3; total time=   0.0s\n",
      "[CV] END ..............................alpha=2.5, l1_ratio=5; total time=   0.0s\n",
      "[CV] END ..............................alpha=2.5, l1_ratio=5; total time=   0.0s\n",
      "[CV] END ..............................alpha=2.5, l1_ratio=5; total time=   0.0s\n",
      "[CV] END ..............................alpha=2.5, l1_ratio=5; total time=   0.0s\n",
      "[CV] END ..............................alpha=2.5, l1_ratio=5; total time=   0.0s\n",
      "[CV] END ..............................alpha=2.5, l1_ratio=5; total time=   0.0s\n",
      "[CV] END ..............................alpha=2.5, l1_ratio=5; total time=   0.0s\n",
      "[CV] END ..............................alpha=2.5, l1_ratio=5; total time=   0.0s\n",
      "[CV] END ..............................alpha=2.5, l1_ratio=5; total time=   0.0s\n",
      "[CV] END ..............................alpha=2.5, l1_ratio=5; total time=   0.0s\n",
      "[CV] END ..............................alpha=3, l1_ratio=0.7; total time=   0.0s\n",
      "[CV] END ..............................alpha=3, l1_ratio=0.7; total time=   0.0s\n",
      "[CV] END ..............................alpha=3, l1_ratio=0.7; total time=   0.0s\n",
      "[CV] END ..............................alpha=3, l1_ratio=0.7; total time=   0.0s\n",
      "[CV] END ..............................alpha=3, l1_ratio=0.7; total time=   0.0s\n",
      "[CV] END ..............................alpha=3, l1_ratio=0.7; total time=   0.0s\n",
      "[CV] END ..............................alpha=3, l1_ratio=0.7; total time=   0.0s\n",
      "[CV] END ..............................alpha=3, l1_ratio=0.7; total time=   0.0s\n",
      "[CV] END ..............................alpha=3, l1_ratio=0.7; total time=   0.0s\n",
      "[CV] END ..............................alpha=3, l1_ratio=0.7; total time=   0.0s\n",
      "[CV] END ..............................alpha=3, l1_ratio=0.9; total time=   0.0s\n",
      "[CV] END ..............................alpha=3, l1_ratio=0.9; total time=   0.0s\n",
      "[CV] END ..............................alpha=3, l1_ratio=0.9; total time=   0.0s\n",
      "[CV] END ..............................alpha=3, l1_ratio=0.9; total time=   0.0s\n",
      "[CV] END ..............................alpha=3, l1_ratio=0.9; total time=   0.0s\n",
      "[CV] END ..............................alpha=3, l1_ratio=0.9; total time=   0.0s\n",
      "[CV] END ..............................alpha=3, l1_ratio=0.9; total time=   0.0s\n",
      "[CV] END ..............................alpha=3, l1_ratio=0.9; total time=   0.0s\n",
      "[CV] END ..............................alpha=3, l1_ratio=0.9; total time=   0.0s\n",
      "[CV] END ..............................alpha=3, l1_ratio=0.9; total time=   0.0s\n",
      "[CV] END .............................alpha=3, l1_ratio=0.95; total time=   0.0s\n",
      "[CV] END .............................alpha=3, l1_ratio=0.95; total time=   0.0s\n",
      "[CV] END .............................alpha=3, l1_ratio=0.95; total time=   0.0s\n",
      "[CV] END .............................alpha=3, l1_ratio=0.95; total time=   0.0s\n",
      "[CV] END .............................alpha=3, l1_ratio=0.95; total time=   0.0s\n",
      "[CV] END .............................alpha=3, l1_ratio=0.95; total time=   0.0s\n",
      "[CV] END .............................alpha=3, l1_ratio=0.95; total time=   0.0s\n",
      "[CV] END .............................alpha=3, l1_ratio=0.95; total time=   0.0s\n",
      "[CV] END .............................alpha=3, l1_ratio=0.95; total time=   0.0s\n",
      "[CV] END .............................alpha=3, l1_ratio=0.95; total time=   0.0s\n",
      "[CV] END .............................alpha=3, l1_ratio=0.99; total time=   0.0s\n",
      "[CV] END .............................alpha=3, l1_ratio=0.99; total time=   0.0s\n",
      "[CV] END .............................alpha=3, l1_ratio=0.99; total time=   0.0s\n",
      "[CV] END .............................alpha=3, l1_ratio=0.99; total time=   0.0s\n",
      "[CV] END .............................alpha=3, l1_ratio=0.99; total time=   0.0s\n",
      "[CV] END .............................alpha=3, l1_ratio=0.99; total time=   0.0s\n",
      "[CV] END .............................alpha=3, l1_ratio=0.99; total time=   0.0s\n",
      "[CV] END .............................alpha=3, l1_ratio=0.99; total time=   0.0s\n",
      "[CV] END .............................alpha=3, l1_ratio=0.99; total time=   0.0s\n",
      "[CV] END .............................alpha=3, l1_ratio=0.99; total time=   0.0s\n",
      "[CV] END ................................alpha=3, l1_ratio=1; total time=   0.2s\n",
      "[CV] END ................................alpha=3, l1_ratio=1; total time=   0.1s\n",
      "[CV] END ................................alpha=3, l1_ratio=1; total time=   0.2s\n",
      "[CV] END ................................alpha=3, l1_ratio=1; total time=   0.3s\n",
      "[CV] END ................................alpha=3, l1_ratio=1; total time=   0.2s\n",
      "[CV] END ................................alpha=3, l1_ratio=1; total time=   0.5s\n",
      "[CV] END ................................alpha=3, l1_ratio=1; total time=   0.2s\n",
      "[CV] END ................................alpha=3, l1_ratio=1; total time=   0.3s\n",
      "[CV] END ................................alpha=3, l1_ratio=1; total time=   0.2s\n",
      "[CV] END ................................alpha=3, l1_ratio=1; total time=   0.3s\n",
      "[CV] END ..............................alpha=3, l1_ratio=1.2; total time=   0.0s\n",
      "[CV] END ..............................alpha=3, l1_ratio=1.2; total time=   0.0s\n",
      "[CV] END ..............................alpha=3, l1_ratio=1.2; total time=   0.0s\n",
      "[CV] END ..............................alpha=3, l1_ratio=1.2; total time=   0.0s\n",
      "[CV] END ..............................alpha=3, l1_ratio=1.2; total time=   0.0s\n",
      "[CV] END ..............................alpha=3, l1_ratio=1.2; total time=   0.0s\n",
      "[CV] END ..............................alpha=3, l1_ratio=1.2; total time=   0.0s\n",
      "[CV] END ..............................alpha=3, l1_ratio=1.2; total time=   0.0s\n",
      "[CV] END ..............................alpha=3, l1_ratio=1.2; total time=   0.0s\n",
      "[CV] END ..............................alpha=3, l1_ratio=1.2; total time=   0.0s\n",
      "[CV] END ..............................alpha=3, l1_ratio=1.3; total time=   0.0s\n",
      "[CV] END ..............................alpha=3, l1_ratio=1.3; total time=   0.0s\n",
      "[CV] END ..............................alpha=3, l1_ratio=1.3; total time=   0.0s\n",
      "[CV] END ..............................alpha=3, l1_ratio=1.3; total time=   0.0s\n",
      "[CV] END ..............................alpha=3, l1_ratio=1.3; total time=   0.0s\n",
      "[CV] END ..............................alpha=3, l1_ratio=1.3; total time=   0.0s\n",
      "[CV] END ..............................alpha=3, l1_ratio=1.3; total time=   0.0s\n",
      "[CV] END ..............................alpha=3, l1_ratio=1.3; total time=   0.0s\n",
      "[CV] END ..............................alpha=3, l1_ratio=1.3; total time=   0.0s\n",
      "[CV] END ..............................alpha=3, l1_ratio=1.3; total time=   0.0s\n",
      "[CV] END ..............................alpha=3, l1_ratio=1.5; total time=   0.0s\n",
      "[CV] END ..............................alpha=3, l1_ratio=1.5; total time=   0.0s\n",
      "[CV] END ..............................alpha=3, l1_ratio=1.5; total time=   0.0s\n",
      "[CV] END ..............................alpha=3, l1_ratio=1.5; total time=   0.0s\n",
      "[CV] END ..............................alpha=3, l1_ratio=1.5; total time=   0.0s\n",
      "[CV] END ..............................alpha=3, l1_ratio=1.5; total time=   0.0s\n",
      "[CV] END ..............................alpha=3, l1_ratio=1.5; total time=   0.0s\n",
      "[CV] END ..............................alpha=3, l1_ratio=1.5; total time=   0.0s\n",
      "[CV] END ..............................alpha=3, l1_ratio=1.5; total time=   0.0s\n",
      "[CV] END ..............................alpha=3, l1_ratio=1.5; total time=   0.0s\n",
      "[CV] END ................................alpha=3, l1_ratio=2; total time=   0.0s\n",
      "[CV] END ................................alpha=3, l1_ratio=2; total time=   0.0s\n",
      "[CV] END ................................alpha=3, l1_ratio=2; total time=   0.0s\n",
      "[CV] END ................................alpha=3, l1_ratio=2; total time=   0.0s\n",
      "[CV] END ................................alpha=3, l1_ratio=2; total time=   0.0s\n",
      "[CV] END ................................alpha=3, l1_ratio=2; total time=   0.0s\n",
      "[CV] END ................................alpha=3, l1_ratio=2; total time=   0.0s\n",
      "[CV] END ................................alpha=3, l1_ratio=2; total time=   0.0s\n",
      "[CV] END ................................alpha=3, l1_ratio=2; total time=   0.0s\n",
      "[CV] END ................................alpha=3, l1_ratio=2; total time=   0.0s\n",
      "[CV] END ................................alpha=3, l1_ratio=3; total time=   0.0s\n",
      "[CV] END ................................alpha=3, l1_ratio=3; total time=   0.0s\n",
      "[CV] END ................................alpha=3, l1_ratio=3; total time=   0.0s\n",
      "[CV] END ................................alpha=3, l1_ratio=3; total time=   0.0s\n",
      "[CV] END ................................alpha=3, l1_ratio=3; total time=   0.0s\n",
      "[CV] END ................................alpha=3, l1_ratio=3; total time=   0.0s\n",
      "[CV] END ................................alpha=3, l1_ratio=3; total time=   0.0s\n",
      "[CV] END ................................alpha=3, l1_ratio=3; total time=   0.0s\n",
      "[CV] END ................................alpha=3, l1_ratio=3; total time=   0.0s\n",
      "[CV] END ................................alpha=3, l1_ratio=3; total time=   0.0s\n",
      "[CV] END ................................alpha=3, l1_ratio=5; total time=   0.0s\n",
      "[CV] END ................................alpha=3, l1_ratio=5; total time=   0.0s\n",
      "[CV] END ................................alpha=3, l1_ratio=5; total time=   0.0s\n",
      "[CV] END ................................alpha=3, l1_ratio=5; total time=   0.0s\n",
      "[CV] END ................................alpha=3, l1_ratio=5; total time=   0.0s\n",
      "[CV] END ................................alpha=3, l1_ratio=5; total time=   0.0s\n",
      "[CV] END ................................alpha=3, l1_ratio=5; total time=   0.0s\n",
      "[CV] END ................................alpha=3, l1_ratio=5; total time=   0.0s\n",
      "[CV] END ................................alpha=3, l1_ratio=5; total time=   0.0s\n",
      "[CV] END ................................alpha=3, l1_ratio=5; total time=   0.0s\n",
      "[CV] END ............................alpha=3.5, l1_ratio=0.7; total time=   0.0s\n",
      "[CV] END ............................alpha=3.5, l1_ratio=0.7; total time=   0.0s\n",
      "[CV] END ............................alpha=3.5, l1_ratio=0.7; total time=   0.0s\n",
      "[CV] END ............................alpha=3.5, l1_ratio=0.7; total time=   0.0s\n",
      "[CV] END ............................alpha=3.5, l1_ratio=0.7; total time=   0.0s\n",
      "[CV] END ............................alpha=3.5, l1_ratio=0.7; total time=   0.0s\n",
      "[CV] END ............................alpha=3.5, l1_ratio=0.7; total time=   0.0s\n",
      "[CV] END ............................alpha=3.5, l1_ratio=0.7; total time=   0.0s\n",
      "[CV] END ............................alpha=3.5, l1_ratio=0.7; total time=   0.0s\n",
      "[CV] END ............................alpha=3.5, l1_ratio=0.7; total time=   0.0s\n",
      "[CV] END ............................alpha=3.5, l1_ratio=0.9; total time=   0.0s\n",
      "[CV] END ............................alpha=3.5, l1_ratio=0.9; total time=   0.0s\n",
      "[CV] END ............................alpha=3.5, l1_ratio=0.9; total time=   0.0s\n",
      "[CV] END ............................alpha=3.5, l1_ratio=0.9; total time=   0.0s\n",
      "[CV] END ............................alpha=3.5, l1_ratio=0.9; total time=   0.0s\n",
      "[CV] END ............................alpha=3.5, l1_ratio=0.9; total time=   0.0s\n",
      "[CV] END ............................alpha=3.5, l1_ratio=0.9; total time=   0.0s\n",
      "[CV] END ............................alpha=3.5, l1_ratio=0.9; total time=   0.0s\n",
      "[CV] END ............................alpha=3.5, l1_ratio=0.9; total time=   0.0s\n",
      "[CV] END ............................alpha=3.5, l1_ratio=0.9; total time=   0.0s\n",
      "[CV] END ...........................alpha=3.5, l1_ratio=0.95; total time=   0.0s\n",
      "[CV] END ...........................alpha=3.5, l1_ratio=0.95; total time=   0.0s\n",
      "[CV] END ...........................alpha=3.5, l1_ratio=0.95; total time=   0.0s\n",
      "[CV] END ...........................alpha=3.5, l1_ratio=0.95; total time=   0.0s\n",
      "[CV] END ...........................alpha=3.5, l1_ratio=0.95; total time=   0.0s\n",
      "[CV] END ...........................alpha=3.5, l1_ratio=0.95; total time=   0.0s\n",
      "[CV] END ...........................alpha=3.5, l1_ratio=0.95; total time=   0.0s\n",
      "[CV] END ...........................alpha=3.5, l1_ratio=0.95; total time=   0.0s\n",
      "[CV] END ...........................alpha=3.5, l1_ratio=0.95; total time=   0.0s\n",
      "[CV] END ...........................alpha=3.5, l1_ratio=0.95; total time=   0.0s\n",
      "[CV] END ...........................alpha=3.5, l1_ratio=0.99; total time=   0.0s\n",
      "[CV] END ...........................alpha=3.5, l1_ratio=0.99; total time=   0.0s\n",
      "[CV] END ...........................alpha=3.5, l1_ratio=0.99; total time=   0.0s\n",
      "[CV] END ...........................alpha=3.5, l1_ratio=0.99; total time=   0.0s\n",
      "[CV] END ...........................alpha=3.5, l1_ratio=0.99; total time=   0.0s\n",
      "[CV] END ...........................alpha=3.5, l1_ratio=0.99; total time=   0.0s\n",
      "[CV] END ...........................alpha=3.5, l1_ratio=0.99; total time=   0.0s\n",
      "[CV] END ...........................alpha=3.5, l1_ratio=0.99; total time=   0.0s\n",
      "[CV] END ...........................alpha=3.5, l1_ratio=0.99; total time=   0.0s\n",
      "[CV] END ...........................alpha=3.5, l1_ratio=0.99; total time=   0.0s\n",
      "[CV] END ..............................alpha=3.5, l1_ratio=1; total time=   0.2s\n",
      "[CV] END ..............................alpha=3.5, l1_ratio=1; total time=   0.2s\n",
      "[CV] END ..............................alpha=3.5, l1_ratio=1; total time=   0.1s\n",
      "[CV] END ..............................alpha=3.5, l1_ratio=1; total time=   0.2s\n",
      "[CV] END ..............................alpha=3.5, l1_ratio=1; total time=   0.1s\n",
      "[CV] END ..............................alpha=3.5, l1_ratio=1; total time=   0.2s\n",
      "[CV] END ..............................alpha=3.5, l1_ratio=1; total time=   0.1s\n",
      "[CV] END ..............................alpha=3.5, l1_ratio=1; total time=   0.3s\n",
      "[CV] END ..............................alpha=3.5, l1_ratio=1; total time=   0.2s\n",
      "[CV] END ..............................alpha=3.5, l1_ratio=1; total time=   0.2s\n",
      "[CV] END ............................alpha=3.5, l1_ratio=1.2; total time=   0.0s\n",
      "[CV] END ............................alpha=3.5, l1_ratio=1.2; total time=   0.0s\n",
      "[CV] END ............................alpha=3.5, l1_ratio=1.2; total time=   0.0s\n",
      "[CV] END ............................alpha=3.5, l1_ratio=1.2; total time=   0.0s\n",
      "[CV] END ............................alpha=3.5, l1_ratio=1.2; total time=   0.0s\n",
      "[CV] END ............................alpha=3.5, l1_ratio=1.2; total time=   0.0s\n",
      "[CV] END ............................alpha=3.5, l1_ratio=1.2; total time=   0.0s\n",
      "[CV] END ............................alpha=3.5, l1_ratio=1.2; total time=   0.0s\n",
      "[CV] END ............................alpha=3.5, l1_ratio=1.2; total time=   0.0s\n",
      "[CV] END ............................alpha=3.5, l1_ratio=1.2; total time=   0.0s\n",
      "[CV] END ............................alpha=3.5, l1_ratio=1.3; total time=   0.0s\n",
      "[CV] END ............................alpha=3.5, l1_ratio=1.3; total time=   0.0s\n",
      "[CV] END ............................alpha=3.5, l1_ratio=1.3; total time=   0.0s\n",
      "[CV] END ............................alpha=3.5, l1_ratio=1.3; total time=   0.0s\n",
      "[CV] END ............................alpha=3.5, l1_ratio=1.3; total time=   0.0s\n",
      "[CV] END ............................alpha=3.5, l1_ratio=1.3; total time=   0.0s\n",
      "[CV] END ............................alpha=3.5, l1_ratio=1.3; total time=   0.0s\n",
      "[CV] END ............................alpha=3.5, l1_ratio=1.3; total time=   0.0s\n",
      "[CV] END ............................alpha=3.5, l1_ratio=1.3; total time=   0.0s\n",
      "[CV] END ............................alpha=3.5, l1_ratio=1.3; total time=   0.0s\n",
      "[CV] END ............................alpha=3.5, l1_ratio=1.5; total time=   0.0s\n",
      "[CV] END ............................alpha=3.5, l1_ratio=1.5; total time=   0.0s\n",
      "[CV] END ............................alpha=3.5, l1_ratio=1.5; total time=   0.0s\n",
      "[CV] END ............................alpha=3.5, l1_ratio=1.5; total time=   0.0s\n",
      "[CV] END ............................alpha=3.5, l1_ratio=1.5; total time=   0.0s\n",
      "[CV] END ............................alpha=3.5, l1_ratio=1.5; total time=   0.0s\n",
      "[CV] END ............................alpha=3.5, l1_ratio=1.5; total time=   0.0s\n",
      "[CV] END ............................alpha=3.5, l1_ratio=1.5; total time=   0.0s\n",
      "[CV] END ............................alpha=3.5, l1_ratio=1.5; total time=   0.0s\n",
      "[CV] END ............................alpha=3.5, l1_ratio=1.5; total time=   0.0s\n",
      "[CV] END ..............................alpha=3.5, l1_ratio=2; total time=   0.0s\n",
      "[CV] END ..............................alpha=3.5, l1_ratio=2; total time=   0.0s\n",
      "[CV] END ..............................alpha=3.5, l1_ratio=2; total time=   0.0s\n",
      "[CV] END ..............................alpha=3.5, l1_ratio=2; total time=   0.0s\n",
      "[CV] END ..............................alpha=3.5, l1_ratio=2; total time=   0.0s\n",
      "[CV] END ..............................alpha=3.5, l1_ratio=2; total time=   0.0s\n",
      "[CV] END ..............................alpha=3.5, l1_ratio=2; total time=   0.0s\n",
      "[CV] END ..............................alpha=3.5, l1_ratio=2; total time=   0.0s\n",
      "[CV] END ..............................alpha=3.5, l1_ratio=2; total time=   0.0s\n",
      "[CV] END ..............................alpha=3.5, l1_ratio=2; total time=   0.0s\n",
      "[CV] END ..............................alpha=3.5, l1_ratio=3; total time=   0.0s\n",
      "[CV] END ..............................alpha=3.5, l1_ratio=3; total time=   0.0s\n",
      "[CV] END ..............................alpha=3.5, l1_ratio=3; total time=   0.0s\n",
      "[CV] END ..............................alpha=3.5, l1_ratio=3; total time=   0.0s\n",
      "[CV] END ..............................alpha=3.5, l1_ratio=3; total time=   0.0s\n",
      "[CV] END ..............................alpha=3.5, l1_ratio=3; total time=   0.0s\n",
      "[CV] END ..............................alpha=3.5, l1_ratio=3; total time=   0.0s\n",
      "[CV] END ..............................alpha=3.5, l1_ratio=3; total time=   0.0s\n",
      "[CV] END ..............................alpha=3.5, l1_ratio=3; total time=   0.0s\n",
      "[CV] END ..............................alpha=3.5, l1_ratio=3; total time=   0.0s\n",
      "[CV] END ..............................alpha=3.5, l1_ratio=5; total time=   0.0s\n",
      "[CV] END ..............................alpha=3.5, l1_ratio=5; total time=   0.0s\n",
      "[CV] END ..............................alpha=3.5, l1_ratio=5; total time=   0.0s\n",
      "[CV] END ..............................alpha=3.5, l1_ratio=5; total time=   0.0s\n",
      "[CV] END ..............................alpha=3.5, l1_ratio=5; total time=   0.0s\n",
      "[CV] END ..............................alpha=3.5, l1_ratio=5; total time=   0.0s\n",
      "[CV] END ..............................alpha=3.5, l1_ratio=5; total time=   0.0s\n",
      "[CV] END ..............................alpha=3.5, l1_ratio=5; total time=   0.0s\n",
      "[CV] END ..............................alpha=3.5, l1_ratio=5; total time=   0.0s\n",
      "[CV] END ..............................alpha=3.5, l1_ratio=5; total time=   0.0s\n",
      "[CV] END ..............................alpha=4, l1_ratio=0.7; total time=   0.0s\n",
      "[CV] END ..............................alpha=4, l1_ratio=0.7; total time=   0.0s\n",
      "[CV] END ..............................alpha=4, l1_ratio=0.7; total time=   0.0s\n",
      "[CV] END ..............................alpha=4, l1_ratio=0.7; total time=   0.0s\n",
      "[CV] END ..............................alpha=4, l1_ratio=0.7; total time=   0.0s\n",
      "[CV] END ..............................alpha=4, l1_ratio=0.7; total time=   0.0s\n",
      "[CV] END ..............................alpha=4, l1_ratio=0.7; total time=   0.0s\n",
      "[CV] END ..............................alpha=4, l1_ratio=0.7; total time=   0.0s\n",
      "[CV] END ..............................alpha=4, l1_ratio=0.7; total time=   0.0s\n",
      "[CV] END ..............................alpha=4, l1_ratio=0.7; total time=   0.0s\n",
      "[CV] END ..............................alpha=4, l1_ratio=0.9; total time=   0.0s\n",
      "[CV] END ..............................alpha=4, l1_ratio=0.9; total time=   0.0s\n",
      "[CV] END ..............................alpha=4, l1_ratio=0.9; total time=   0.0s\n",
      "[CV] END ..............................alpha=4, l1_ratio=0.9; total time=   0.0s\n",
      "[CV] END ..............................alpha=4, l1_ratio=0.9; total time=   0.0s\n",
      "[CV] END ..............................alpha=4, l1_ratio=0.9; total time=   0.0s\n",
      "[CV] END ..............................alpha=4, l1_ratio=0.9; total time=   0.0s\n",
      "[CV] END ..............................alpha=4, l1_ratio=0.9; total time=   0.0s\n",
      "[CV] END ..............................alpha=4, l1_ratio=0.9; total time=   0.0s\n",
      "[CV] END ..............................alpha=4, l1_ratio=0.9; total time=   0.0s\n",
      "[CV] END .............................alpha=4, l1_ratio=0.95; total time=   0.0s\n",
      "[CV] END .............................alpha=4, l1_ratio=0.95; total time=   0.0s\n",
      "[CV] END .............................alpha=4, l1_ratio=0.95; total time=   0.0s\n",
      "[CV] END .............................alpha=4, l1_ratio=0.95; total time=   0.0s\n",
      "[CV] END .............................alpha=4, l1_ratio=0.95; total time=   0.0s\n",
      "[CV] END .............................alpha=4, l1_ratio=0.95; total time=   0.0s\n",
      "[CV] END .............................alpha=4, l1_ratio=0.95; total time=   0.0s\n",
      "[CV] END .............................alpha=4, l1_ratio=0.95; total time=   0.0s\n",
      "[CV] END .............................alpha=4, l1_ratio=0.95; total time=   0.0s\n",
      "[CV] END .............................alpha=4, l1_ratio=0.95; total time=   0.0s\n",
      "[CV] END .............................alpha=4, l1_ratio=0.99; total time=   0.0s\n",
      "[CV] END .............................alpha=4, l1_ratio=0.99; total time=   0.0s\n",
      "[CV] END .............................alpha=4, l1_ratio=0.99; total time=   0.0s\n",
      "[CV] END .............................alpha=4, l1_ratio=0.99; total time=   0.0s\n",
      "[CV] END .............................alpha=4, l1_ratio=0.99; total time=   0.0s\n",
      "[CV] END .............................alpha=4, l1_ratio=0.99; total time=   0.0s\n",
      "[CV] END .............................alpha=4, l1_ratio=0.99; total time=   0.0s\n",
      "[CV] END .............................alpha=4, l1_ratio=0.99; total time=   0.0s\n",
      "[CV] END .............................alpha=4, l1_ratio=0.99; total time=   0.0s\n",
      "[CV] END .............................alpha=4, l1_ratio=0.99; total time=   0.0s\n",
      "[CV] END ................................alpha=4, l1_ratio=1; total time=   0.1s\n",
      "[CV] END ................................alpha=4, l1_ratio=1; total time=   0.2s\n",
      "[CV] END ................................alpha=4, l1_ratio=1; total time=   0.1s\n",
      "[CV] END ................................alpha=4, l1_ratio=1; total time=   0.3s\n",
      "[CV] END ................................alpha=4, l1_ratio=1; total time=   0.3s\n",
      "[CV] END ................................alpha=4, l1_ratio=1; total time=   0.2s\n",
      "[CV] END ................................alpha=4, l1_ratio=1; total time=   0.1s\n",
      "[CV] END ................................alpha=4, l1_ratio=1; total time=   0.2s\n",
      "[CV] END ................................alpha=4, l1_ratio=1; total time=   0.2s\n",
      "[CV] END ................................alpha=4, l1_ratio=1; total time=   0.2s\n",
      "[CV] END ..............................alpha=4, l1_ratio=1.2; total time=   0.0s\n",
      "[CV] END ..............................alpha=4, l1_ratio=1.2; total time=   0.0s\n",
      "[CV] END ..............................alpha=4, l1_ratio=1.2; total time=   0.0s\n",
      "[CV] END ..............................alpha=4, l1_ratio=1.2; total time=   0.0s\n",
      "[CV] END ..............................alpha=4, l1_ratio=1.2; total time=   0.0s\n",
      "[CV] END ..............................alpha=4, l1_ratio=1.2; total time=   0.0s\n",
      "[CV] END ..............................alpha=4, l1_ratio=1.2; total time=   0.0s\n",
      "[CV] END ..............................alpha=4, l1_ratio=1.2; total time=   0.0s\n",
      "[CV] END ..............................alpha=4, l1_ratio=1.2; total time=   0.0s\n",
      "[CV] END ..............................alpha=4, l1_ratio=1.2; total time=   0.0s\n",
      "[CV] END ..............................alpha=4, l1_ratio=1.3; total time=   0.0s\n",
      "[CV] END ..............................alpha=4, l1_ratio=1.3; total time=   0.0s\n",
      "[CV] END ..............................alpha=4, l1_ratio=1.3; total time=   0.0s\n",
      "[CV] END ..............................alpha=4, l1_ratio=1.3; total time=   0.0s\n",
      "[CV] END ..............................alpha=4, l1_ratio=1.3; total time=   0.0s\n",
      "[CV] END ..............................alpha=4, l1_ratio=1.3; total time=   0.0s\n",
      "[CV] END ..............................alpha=4, l1_ratio=1.3; total time=   0.0s\n",
      "[CV] END ..............................alpha=4, l1_ratio=1.3; total time=   0.0s\n",
      "[CV] END ..............................alpha=4, l1_ratio=1.3; total time=   0.0s\n",
      "[CV] END ..............................alpha=4, l1_ratio=1.3; total time=   0.0s\n",
      "[CV] END ..............................alpha=4, l1_ratio=1.5; total time=   0.0s\n",
      "[CV] END ..............................alpha=4, l1_ratio=1.5; total time=   0.0s\n",
      "[CV] END ..............................alpha=4, l1_ratio=1.5; total time=   0.0s\n",
      "[CV] END ..............................alpha=4, l1_ratio=1.5; total time=   0.0s\n",
      "[CV] END ..............................alpha=4, l1_ratio=1.5; total time=   0.0s\n",
      "[CV] END ..............................alpha=4, l1_ratio=1.5; total time=   0.0s\n",
      "[CV] END ..............................alpha=4, l1_ratio=1.5; total time=   0.0s\n",
      "[CV] END ..............................alpha=4, l1_ratio=1.5; total time=   0.0s\n",
      "[CV] END ..............................alpha=4, l1_ratio=1.5; total time=   0.0s\n",
      "[CV] END ..............................alpha=4, l1_ratio=1.5; total time=   0.0s\n",
      "[CV] END ................................alpha=4, l1_ratio=2; total time=   0.0s\n",
      "[CV] END ................................alpha=4, l1_ratio=2; total time=   0.0s\n",
      "[CV] END ................................alpha=4, l1_ratio=2; total time=   0.0s\n",
      "[CV] END ................................alpha=4, l1_ratio=2; total time=   0.0s\n",
      "[CV] END ................................alpha=4, l1_ratio=2; total time=   0.0s\n",
      "[CV] END ................................alpha=4, l1_ratio=2; total time=   0.0s\n",
      "[CV] END ................................alpha=4, l1_ratio=2; total time=   0.0s\n",
      "[CV] END ................................alpha=4, l1_ratio=2; total time=   0.0s\n",
      "[CV] END ................................alpha=4, l1_ratio=2; total time=   0.0s\n",
      "[CV] END ................................alpha=4, l1_ratio=2; total time=   0.0s\n",
      "[CV] END ................................alpha=4, l1_ratio=3; total time=   0.0s\n",
      "[CV] END ................................alpha=4, l1_ratio=3; total time=   0.0s\n",
      "[CV] END ................................alpha=4, l1_ratio=3; total time=   0.0s\n",
      "[CV] END ................................alpha=4, l1_ratio=3; total time=   0.0s\n",
      "[CV] END ................................alpha=4, l1_ratio=3; total time=   0.0s\n",
      "[CV] END ................................alpha=4, l1_ratio=3; total time=   0.0s\n",
      "[CV] END ................................alpha=4, l1_ratio=3; total time=   0.0s\n",
      "[CV] END ................................alpha=4, l1_ratio=3; total time=   0.0s\n",
      "[CV] END ................................alpha=4, l1_ratio=3; total time=   0.0s\n",
      "[CV] END ................................alpha=4, l1_ratio=3; total time=   0.0s\n",
      "[CV] END ................................alpha=4, l1_ratio=5; total time=   0.0s\n",
      "[CV] END ................................alpha=4, l1_ratio=5; total time=   0.0s\n",
      "[CV] END ................................alpha=4, l1_ratio=5; total time=   0.0s\n",
      "[CV] END ................................alpha=4, l1_ratio=5; total time=   0.0s\n",
      "[CV] END ................................alpha=4, l1_ratio=5; total time=   0.0s\n",
      "[CV] END ................................alpha=4, l1_ratio=5; total time=   0.0s\n",
      "[CV] END ................................alpha=4, l1_ratio=5; total time=   0.0s\n",
      "[CV] END ................................alpha=4, l1_ratio=5; total time=   0.0s\n",
      "[CV] END ................................alpha=4, l1_ratio=5; total time=   0.0s\n",
      "[CV] END ................................alpha=4, l1_ratio=5; total time=   0.0s\n",
      "[CV] END ............................alpha=4.5, l1_ratio=0.7; total time=   0.0s\n",
      "[CV] END ............................alpha=4.5, l1_ratio=0.7; total time=   0.0s\n",
      "[CV] END ............................alpha=4.5, l1_ratio=0.7; total time=   0.0s\n",
      "[CV] END ............................alpha=4.5, l1_ratio=0.7; total time=   0.0s\n",
      "[CV] END ............................alpha=4.5, l1_ratio=0.7; total time=   0.0s\n",
      "[CV] END ............................alpha=4.5, l1_ratio=0.7; total time=   0.0s\n",
      "[CV] END ............................alpha=4.5, l1_ratio=0.7; total time=   0.0s\n",
      "[CV] END ............................alpha=4.5, l1_ratio=0.7; total time=   0.0s\n",
      "[CV] END ............................alpha=4.5, l1_ratio=0.7; total time=   0.0s\n",
      "[CV] END ............................alpha=4.5, l1_ratio=0.7; total time=   0.0s\n",
      "[CV] END ............................alpha=4.5, l1_ratio=0.9; total time=   0.0s\n",
      "[CV] END ............................alpha=4.5, l1_ratio=0.9; total time=   0.0s\n",
      "[CV] END ............................alpha=4.5, l1_ratio=0.9; total time=   0.0s\n",
      "[CV] END ............................alpha=4.5, l1_ratio=0.9; total time=   0.0s\n",
      "[CV] END ............................alpha=4.5, l1_ratio=0.9; total time=   0.0s\n",
      "[CV] END ............................alpha=4.5, l1_ratio=0.9; total time=   0.0s\n",
      "[CV] END ............................alpha=4.5, l1_ratio=0.9; total time=   0.0s\n",
      "[CV] END ............................alpha=4.5, l1_ratio=0.9; total time=   0.0s\n",
      "[CV] END ............................alpha=4.5, l1_ratio=0.9; total time=   0.0s\n",
      "[CV] END ............................alpha=4.5, l1_ratio=0.9; total time=   0.0s\n",
      "[CV] END ...........................alpha=4.5, l1_ratio=0.95; total time=   0.0s\n",
      "[CV] END ...........................alpha=4.5, l1_ratio=0.95; total time=   0.0s\n",
      "[CV] END ...........................alpha=4.5, l1_ratio=0.95; total time=   0.0s\n",
      "[CV] END ...........................alpha=4.5, l1_ratio=0.95; total time=   0.0s\n",
      "[CV] END ...........................alpha=4.5, l1_ratio=0.95; total time=   0.0s\n",
      "[CV] END ...........................alpha=4.5, l1_ratio=0.95; total time=   0.0s\n",
      "[CV] END ...........................alpha=4.5, l1_ratio=0.95; total time=   0.0s\n",
      "[CV] END ...........................alpha=4.5, l1_ratio=0.95; total time=   0.0s\n",
      "[CV] END ...........................alpha=4.5, l1_ratio=0.95; total time=   0.0s\n",
      "[CV] END ...........................alpha=4.5, l1_ratio=0.95; total time=   0.0s\n",
      "[CV] END ...........................alpha=4.5, l1_ratio=0.99; total time=   0.0s\n",
      "[CV] END ...........................alpha=4.5, l1_ratio=0.99; total time=   0.0s\n",
      "[CV] END ...........................alpha=4.5, l1_ratio=0.99; total time=   0.0s\n",
      "[CV] END ...........................alpha=4.5, l1_ratio=0.99; total time=   0.0s\n",
      "[CV] END ...........................alpha=4.5, l1_ratio=0.99; total time=   0.0s\n",
      "[CV] END ...........................alpha=4.5, l1_ratio=0.99; total time=   0.0s\n",
      "[CV] END ...........................alpha=4.5, l1_ratio=0.99; total time=   0.0s\n",
      "[CV] END ...........................alpha=4.5, l1_ratio=0.99; total time=   0.0s\n",
      "[CV] END ...........................alpha=4.5, l1_ratio=0.99; total time=   0.0s\n",
      "[CV] END ...........................alpha=4.5, l1_ratio=0.99; total time=   0.0s\n",
      "[CV] END ..............................alpha=4.5, l1_ratio=1; total time=   0.2s\n",
      "[CV] END ..............................alpha=4.5, l1_ratio=1; total time=   0.1s\n",
      "[CV] END ..............................alpha=4.5, l1_ratio=1; total time=   0.1s\n",
      "[CV] END ..............................alpha=4.5, l1_ratio=1; total time=   0.3s\n",
      "[CV] END ..............................alpha=4.5, l1_ratio=1; total time=   0.2s\n",
      "[CV] END ..............................alpha=4.5, l1_ratio=1; total time=   0.2s\n",
      "[CV] END ..............................alpha=4.5, l1_ratio=1; total time=   0.2s\n",
      "[CV] END ..............................alpha=4.5, l1_ratio=1; total time=   0.1s\n",
      "[CV] END ..............................alpha=4.5, l1_ratio=1; total time=   0.2s\n",
      "[CV] END ..............................alpha=4.5, l1_ratio=1; total time=   0.2s\n",
      "[CV] END ............................alpha=4.5, l1_ratio=1.2; total time=   0.0s\n",
      "[CV] END ............................alpha=4.5, l1_ratio=1.2; total time=   0.0s\n",
      "[CV] END ............................alpha=4.5, l1_ratio=1.2; total time=   0.0s\n",
      "[CV] END ............................alpha=4.5, l1_ratio=1.2; total time=   0.0s\n",
      "[CV] END ............................alpha=4.5, l1_ratio=1.2; total time=   0.0s\n",
      "[CV] END ............................alpha=4.5, l1_ratio=1.2; total time=   0.0s\n",
      "[CV] END ............................alpha=4.5, l1_ratio=1.2; total time=   0.0s\n",
      "[CV] END ............................alpha=4.5, l1_ratio=1.2; total time=   0.0s\n",
      "[CV] END ............................alpha=4.5, l1_ratio=1.2; total time=   0.0s\n",
      "[CV] END ............................alpha=4.5, l1_ratio=1.2; total time=   0.0s\n",
      "[CV] END ............................alpha=4.5, l1_ratio=1.3; total time=   0.0s\n",
      "[CV] END ............................alpha=4.5, l1_ratio=1.3; total time=   0.0s\n",
      "[CV] END ............................alpha=4.5, l1_ratio=1.3; total time=   0.0s\n",
      "[CV] END ............................alpha=4.5, l1_ratio=1.3; total time=   0.0s\n",
      "[CV] END ............................alpha=4.5, l1_ratio=1.3; total time=   0.0s\n",
      "[CV] END ............................alpha=4.5, l1_ratio=1.3; total time=   0.0s\n",
      "[CV] END ............................alpha=4.5, l1_ratio=1.3; total time=   0.0s\n",
      "[CV] END ............................alpha=4.5, l1_ratio=1.3; total time=   0.0s\n",
      "[CV] END ............................alpha=4.5, l1_ratio=1.3; total time=   0.0s\n",
      "[CV] END ............................alpha=4.5, l1_ratio=1.3; total time=   0.0s\n",
      "[CV] END ............................alpha=4.5, l1_ratio=1.5; total time=   0.0s\n",
      "[CV] END ............................alpha=4.5, l1_ratio=1.5; total time=   0.0s\n",
      "[CV] END ............................alpha=4.5, l1_ratio=1.5; total time=   0.0s\n",
      "[CV] END ............................alpha=4.5, l1_ratio=1.5; total time=   0.0s\n",
      "[CV] END ............................alpha=4.5, l1_ratio=1.5; total time=   0.0s\n",
      "[CV] END ............................alpha=4.5, l1_ratio=1.5; total time=   0.0s\n",
      "[CV] END ............................alpha=4.5, l1_ratio=1.5; total time=   0.0s\n",
      "[CV] END ............................alpha=4.5, l1_ratio=1.5; total time=   0.0s\n",
      "[CV] END ............................alpha=4.5, l1_ratio=1.5; total time=   0.0s\n",
      "[CV] END ............................alpha=4.5, l1_ratio=1.5; total time=   0.0s\n",
      "[CV] END ..............................alpha=4.5, l1_ratio=2; total time=   0.0s\n",
      "[CV] END ..............................alpha=4.5, l1_ratio=2; total time=   0.0s\n",
      "[CV] END ..............................alpha=4.5, l1_ratio=2; total time=   0.0s\n",
      "[CV] END ..............................alpha=4.5, l1_ratio=2; total time=   0.0s\n",
      "[CV] END ..............................alpha=4.5, l1_ratio=2; total time=   0.0s\n",
      "[CV] END ..............................alpha=4.5, l1_ratio=2; total time=   0.0s\n",
      "[CV] END ..............................alpha=4.5, l1_ratio=2; total time=   0.0s\n",
      "[CV] END ..............................alpha=4.5, l1_ratio=2; total time=   0.0s\n",
      "[CV] END ..............................alpha=4.5, l1_ratio=2; total time=   0.0s\n",
      "[CV] END ..............................alpha=4.5, l1_ratio=2; total time=   0.0s\n",
      "[CV] END ..............................alpha=4.5, l1_ratio=3; total time=   0.0s\n",
      "[CV] END ..............................alpha=4.5, l1_ratio=3; total time=   0.0s\n",
      "[CV] END ..............................alpha=4.5, l1_ratio=3; total time=   0.0s\n",
      "[CV] END ..............................alpha=4.5, l1_ratio=3; total time=   0.0s\n",
      "[CV] END ..............................alpha=4.5, l1_ratio=3; total time=   0.0s\n",
      "[CV] END ..............................alpha=4.5, l1_ratio=3; total time=   0.0s\n",
      "[CV] END ..............................alpha=4.5, l1_ratio=3; total time=   0.0s\n",
      "[CV] END ..............................alpha=4.5, l1_ratio=3; total time=   0.0s\n",
      "[CV] END ..............................alpha=4.5, l1_ratio=3; total time=   0.0s\n",
      "[CV] END ..............................alpha=4.5, l1_ratio=3; total time=   0.0s\n",
      "[CV] END ..............................alpha=4.5, l1_ratio=5; total time=   0.0s\n",
      "[CV] END ..............................alpha=4.5, l1_ratio=5; total time=   0.0s\n",
      "[CV] END ..............................alpha=4.5, l1_ratio=5; total time=   0.0s\n",
      "[CV] END ..............................alpha=4.5, l1_ratio=5; total time=   0.0s\n",
      "[CV] END ..............................alpha=4.5, l1_ratio=5; total time=   0.0s\n",
      "[CV] END ..............................alpha=4.5, l1_ratio=5; total time=   0.0s\n",
      "[CV] END ..............................alpha=4.5, l1_ratio=5; total time=   0.0s\n",
      "[CV] END ..............................alpha=4.5, l1_ratio=5; total time=   0.0s\n",
      "[CV] END ..............................alpha=4.5, l1_ratio=5; total time=   0.0s\n",
      "[CV] END ..............................alpha=4.5, l1_ratio=5; total time=   0.0s\n",
      "[CV] END ..............................alpha=5, l1_ratio=0.7; total time=   0.0s\n",
      "[CV] END ..............................alpha=5, l1_ratio=0.7; total time=   0.0s\n",
      "[CV] END ..............................alpha=5, l1_ratio=0.7; total time=   0.0s\n",
      "[CV] END ..............................alpha=5, l1_ratio=0.7; total time=   0.0s\n",
      "[CV] END ..............................alpha=5, l1_ratio=0.7; total time=   0.0s\n",
      "[CV] END ..............................alpha=5, l1_ratio=0.7; total time=   0.0s\n",
      "[CV] END ..............................alpha=5, l1_ratio=0.7; total time=   0.0s\n",
      "[CV] END ..............................alpha=5, l1_ratio=0.7; total time=   0.0s\n",
      "[CV] END ..............................alpha=5, l1_ratio=0.7; total time=   0.0s\n",
      "[CV] END ..............................alpha=5, l1_ratio=0.7; total time=   0.0s\n",
      "[CV] END ..............................alpha=5, l1_ratio=0.9; total time=   0.0s\n",
      "[CV] END ..............................alpha=5, l1_ratio=0.9; total time=   0.0s\n",
      "[CV] END ..............................alpha=5, l1_ratio=0.9; total time=   0.0s\n",
      "[CV] END ..............................alpha=5, l1_ratio=0.9; total time=   0.0s\n",
      "[CV] END ..............................alpha=5, l1_ratio=0.9; total time=   0.0s\n",
      "[CV] END ..............................alpha=5, l1_ratio=0.9; total time=   0.0s\n",
      "[CV] END ..............................alpha=5, l1_ratio=0.9; total time=   0.0s\n",
      "[CV] END ..............................alpha=5, l1_ratio=0.9; total time=   0.0s\n",
      "[CV] END ..............................alpha=5, l1_ratio=0.9; total time=   0.0s\n",
      "[CV] END ..............................alpha=5, l1_ratio=0.9; total time=   0.0s\n",
      "[CV] END .............................alpha=5, l1_ratio=0.95; total time=   0.0s\n",
      "[CV] END .............................alpha=5, l1_ratio=0.95; total time=   0.0s\n",
      "[CV] END .............................alpha=5, l1_ratio=0.95; total time=   0.0s\n",
      "[CV] END .............................alpha=5, l1_ratio=0.95; total time=   0.0s\n",
      "[CV] END .............................alpha=5, l1_ratio=0.95; total time=   0.0s\n",
      "[CV] END .............................alpha=5, l1_ratio=0.95; total time=   0.0s\n",
      "[CV] END .............................alpha=5, l1_ratio=0.95; total time=   0.0s\n",
      "[CV] END .............................alpha=5, l1_ratio=0.95; total time=   0.0s\n",
      "[CV] END .............................alpha=5, l1_ratio=0.95; total time=   0.0s\n",
      "[CV] END .............................alpha=5, l1_ratio=0.95; total time=   0.0s\n",
      "[CV] END .............................alpha=5, l1_ratio=0.99; total time=   0.0s\n",
      "[CV] END .............................alpha=5, l1_ratio=0.99; total time=   0.0s\n",
      "[CV] END .............................alpha=5, l1_ratio=0.99; total time=   0.0s\n",
      "[CV] END .............................alpha=5, l1_ratio=0.99; total time=   0.0s\n",
      "[CV] END .............................alpha=5, l1_ratio=0.99; total time=   0.0s\n",
      "[CV] END .............................alpha=5, l1_ratio=0.99; total time=   0.0s\n",
      "[CV] END .............................alpha=5, l1_ratio=0.99; total time=   0.0s\n",
      "[CV] END .............................alpha=5, l1_ratio=0.99; total time=   0.0s\n",
      "[CV] END .............................alpha=5, l1_ratio=0.99; total time=   0.0s\n",
      "[CV] END .............................alpha=5, l1_ratio=0.99; total time=   0.0s\n",
      "[CV] END ................................alpha=5, l1_ratio=1; total time=   0.2s\n",
      "[CV] END ................................alpha=5, l1_ratio=1; total time=   0.3s\n",
      "[CV] END ................................alpha=5, l1_ratio=1; total time=   0.0s\n",
      "[CV] END ................................alpha=5, l1_ratio=1; total time=   0.1s\n",
      "[CV] END ................................alpha=5, l1_ratio=1; total time=   0.3s\n",
      "[CV] END ................................alpha=5, l1_ratio=1; total time=   0.1s\n",
      "[CV] END ................................alpha=5, l1_ratio=1; total time=   0.1s\n",
      "[CV] END ................................alpha=5, l1_ratio=1; total time=   0.3s\n",
      "[CV] END ................................alpha=5, l1_ratio=1; total time=   0.1s\n",
      "[CV] END ................................alpha=5, l1_ratio=1; total time=   0.1s\n",
      "[CV] END ..............................alpha=5, l1_ratio=1.2; total time=   0.0s\n",
      "[CV] END ..............................alpha=5, l1_ratio=1.2; total time=   0.0s\n",
      "[CV] END ..............................alpha=5, l1_ratio=1.2; total time=   0.0s\n",
      "[CV] END ..............................alpha=5, l1_ratio=1.2; total time=   0.0s\n",
      "[CV] END ..............................alpha=5, l1_ratio=1.2; total time=   0.0s\n",
      "[CV] END ..............................alpha=5, l1_ratio=1.2; total time=   0.0s\n",
      "[CV] END ..............................alpha=5, l1_ratio=1.2; total time=   0.0s\n",
      "[CV] END ..............................alpha=5, l1_ratio=1.2; total time=   0.0s\n",
      "[CV] END ..............................alpha=5, l1_ratio=1.2; total time=   0.0s\n",
      "[CV] END ..............................alpha=5, l1_ratio=1.2; total time=   0.0s\n",
      "[CV] END ..............................alpha=5, l1_ratio=1.3; total time=   0.0s\n",
      "[CV] END ..............................alpha=5, l1_ratio=1.3; total time=   0.0s\n",
      "[CV] END ..............................alpha=5, l1_ratio=1.3; total time=   0.0s\n",
      "[CV] END ..............................alpha=5, l1_ratio=1.3; total time=   0.0s\n",
      "[CV] END ..............................alpha=5, l1_ratio=1.3; total time=   0.0s\n",
      "[CV] END ..............................alpha=5, l1_ratio=1.3; total time=   0.0s\n",
      "[CV] END ..............................alpha=5, l1_ratio=1.3; total time=   0.0s\n",
      "[CV] END ..............................alpha=5, l1_ratio=1.3; total time=   0.0s\n",
      "[CV] END ..............................alpha=5, l1_ratio=1.3; total time=   0.0s\n",
      "[CV] END ..............................alpha=5, l1_ratio=1.3; total time=   0.0s\n",
      "[CV] END ..............................alpha=5, l1_ratio=1.5; total time=   0.0s\n",
      "[CV] END ..............................alpha=5, l1_ratio=1.5; total time=   0.0s\n",
      "[CV] END ..............................alpha=5, l1_ratio=1.5; total time=   0.0s\n",
      "[CV] END ..............................alpha=5, l1_ratio=1.5; total time=   0.0s\n",
      "[CV] END ..............................alpha=5, l1_ratio=1.5; total time=   0.0s\n",
      "[CV] END ..............................alpha=5, l1_ratio=1.5; total time=   0.0s\n",
      "[CV] END ..............................alpha=5, l1_ratio=1.5; total time=   0.0s\n",
      "[CV] END ..............................alpha=5, l1_ratio=1.5; total time=   0.0s\n",
      "[CV] END ..............................alpha=5, l1_ratio=1.5; total time=   0.0s\n",
      "[CV] END ..............................alpha=5, l1_ratio=1.5; total time=   0.0s\n",
      "[CV] END ................................alpha=5, l1_ratio=2; total time=   0.0s\n",
      "[CV] END ................................alpha=5, l1_ratio=2; total time=   0.0s\n",
      "[CV] END ................................alpha=5, l1_ratio=2; total time=   0.0s\n",
      "[CV] END ................................alpha=5, l1_ratio=2; total time=   0.0s\n",
      "[CV] END ................................alpha=5, l1_ratio=2; total time=   0.0s\n",
      "[CV] END ................................alpha=5, l1_ratio=2; total time=   0.0s\n",
      "[CV] END ................................alpha=5, l1_ratio=2; total time=   0.0s\n",
      "[CV] END ................................alpha=5, l1_ratio=2; total time=   0.0s\n",
      "[CV] END ................................alpha=5, l1_ratio=2; total time=   0.0s\n",
      "[CV] END ................................alpha=5, l1_ratio=2; total time=   0.0s\n",
      "[CV] END ................................alpha=5, l1_ratio=3; total time=   0.0s\n",
      "[CV] END ................................alpha=5, l1_ratio=3; total time=   0.0s\n",
      "[CV] END ................................alpha=5, l1_ratio=3; total time=   0.0s\n",
      "[CV] END ................................alpha=5, l1_ratio=3; total time=   0.0s\n",
      "[CV] END ................................alpha=5, l1_ratio=3; total time=   0.0s\n",
      "[CV] END ................................alpha=5, l1_ratio=3; total time=   0.0s\n",
      "[CV] END ................................alpha=5, l1_ratio=3; total time=   0.0s\n",
      "[CV] END ................................alpha=5, l1_ratio=3; total time=   0.0s\n",
      "[CV] END ................................alpha=5, l1_ratio=3; total time=   0.0s\n",
      "[CV] END ................................alpha=5, l1_ratio=3; total time=   0.0s\n",
      "[CV] END ................................alpha=5, l1_ratio=5; total time=   0.0s\n",
      "[CV] END ................................alpha=5, l1_ratio=5; total time=   0.0s\n",
      "[CV] END ................................alpha=5, l1_ratio=5; total time=   0.0s\n",
      "[CV] END ................................alpha=5, l1_ratio=5; total time=   0.0s\n",
      "[CV] END ................................alpha=5, l1_ratio=5; total time=   0.0s\n",
      "[CV] END ................................alpha=5, l1_ratio=5; total time=   0.0s\n",
      "[CV] END ................................alpha=5, l1_ratio=5; total time=   0.0s\n",
      "[CV] END ................................alpha=5, l1_ratio=5; total time=   0.0s\n",
      "[CV] END ................................alpha=5, l1_ratio=5; total time=   0.0s\n",
      "[CV] END ................................alpha=5, l1_ratio=5; total time=   0.0s\n",
      "[CV] END ............................alpha=5.5, l1_ratio=0.7; total time=   0.0s\n",
      "[CV] END ............................alpha=5.5, l1_ratio=0.7; total time=   0.0s\n",
      "[CV] END ............................alpha=5.5, l1_ratio=0.7; total time=   0.0s\n",
      "[CV] END ............................alpha=5.5, l1_ratio=0.7; total time=   0.0s\n",
      "[CV] END ............................alpha=5.5, l1_ratio=0.7; total time=   0.0s\n",
      "[CV] END ............................alpha=5.5, l1_ratio=0.7; total time=   0.0s\n",
      "[CV] END ............................alpha=5.5, l1_ratio=0.7; total time=   0.0s\n",
      "[CV] END ............................alpha=5.5, l1_ratio=0.7; total time=   0.0s\n",
      "[CV] END ............................alpha=5.5, l1_ratio=0.7; total time=   0.0s\n",
      "[CV] END ............................alpha=5.5, l1_ratio=0.7; total time=   0.0s\n",
      "[CV] END ............................alpha=5.5, l1_ratio=0.9; total time=   0.0s\n",
      "[CV] END ............................alpha=5.5, l1_ratio=0.9; total time=   0.0s\n",
      "[CV] END ............................alpha=5.5, l1_ratio=0.9; total time=   0.0s\n",
      "[CV] END ............................alpha=5.5, l1_ratio=0.9; total time=   0.0s\n",
      "[CV] END ............................alpha=5.5, l1_ratio=0.9; total time=   0.0s\n",
      "[CV] END ............................alpha=5.5, l1_ratio=0.9; total time=   0.0s\n",
      "[CV] END ............................alpha=5.5, l1_ratio=0.9; total time=   0.0s\n",
      "[CV] END ............................alpha=5.5, l1_ratio=0.9; total time=   0.0s\n",
      "[CV] END ............................alpha=5.5, l1_ratio=0.9; total time=   0.0s\n",
      "[CV] END ............................alpha=5.5, l1_ratio=0.9; total time=   0.0s\n",
      "[CV] END ...........................alpha=5.5, l1_ratio=0.95; total time=   0.0s\n",
      "[CV] END ...........................alpha=5.5, l1_ratio=0.95; total time=   0.0s\n",
      "[CV] END ...........................alpha=5.5, l1_ratio=0.95; total time=   0.0s\n",
      "[CV] END ...........................alpha=5.5, l1_ratio=0.95; total time=   0.0s\n",
      "[CV] END ...........................alpha=5.5, l1_ratio=0.95; total time=   0.0s\n",
      "[CV] END ...........................alpha=5.5, l1_ratio=0.95; total time=   0.0s\n",
      "[CV] END ...........................alpha=5.5, l1_ratio=0.95; total time=   0.0s\n",
      "[CV] END ...........................alpha=5.5, l1_ratio=0.95; total time=   0.0s\n",
      "[CV] END ...........................alpha=5.5, l1_ratio=0.95; total time=   0.0s\n",
      "[CV] END ...........................alpha=5.5, l1_ratio=0.95; total time=   0.0s\n",
      "[CV] END ...........................alpha=5.5, l1_ratio=0.99; total time=   0.0s\n",
      "[CV] END ...........................alpha=5.5, l1_ratio=0.99; total time=   0.0s\n",
      "[CV] END ...........................alpha=5.5, l1_ratio=0.99; total time=   0.0s\n",
      "[CV] END ...........................alpha=5.5, l1_ratio=0.99; total time=   0.0s\n",
      "[CV] END ...........................alpha=5.5, l1_ratio=0.99; total time=   0.0s\n",
      "[CV] END ...........................alpha=5.5, l1_ratio=0.99; total time=   0.0s\n",
      "[CV] END ...........................alpha=5.5, l1_ratio=0.99; total time=   0.0s\n",
      "[CV] END ...........................alpha=5.5, l1_ratio=0.99; total time=   0.0s\n",
      "[CV] END ...........................alpha=5.5, l1_ratio=0.99; total time=   0.0s\n",
      "[CV] END ...........................alpha=5.5, l1_ratio=0.99; total time=   0.0s\n",
      "[CV] END ..............................alpha=5.5, l1_ratio=1; total time=   0.0s\n",
      "[CV] END ..............................alpha=5.5, l1_ratio=1; total time=   0.0s\n",
      "[CV] END ..............................alpha=5.5, l1_ratio=1; total time=   0.2s\n",
      "[CV] END ..............................alpha=5.5, l1_ratio=1; total time=   0.3s\n",
      "[CV] END ..............................alpha=5.5, l1_ratio=1; total time=   0.0s\n",
      "[CV] END ..............................alpha=5.5, l1_ratio=1; total time=   0.1s\n",
      "[CV] END ..............................alpha=5.5, l1_ratio=1; total time=   0.1s\n",
      "[CV] END ..............................alpha=5.5, l1_ratio=1; total time=   0.1s\n",
      "[CV] END ..............................alpha=5.5, l1_ratio=1; total time=   0.1s\n",
      "[CV] END ..............................alpha=5.5, l1_ratio=1; total time=   0.0s\n",
      "[CV] END ............................alpha=5.5, l1_ratio=1.2; total time=   0.0s\n",
      "[CV] END ............................alpha=5.5, l1_ratio=1.2; total time=   0.0s\n",
      "[CV] END ............................alpha=5.5, l1_ratio=1.2; total time=   0.0s\n",
      "[CV] END ............................alpha=5.5, l1_ratio=1.2; total time=   0.0s\n",
      "[CV] END ............................alpha=5.5, l1_ratio=1.2; total time=   0.0s\n",
      "[CV] END ............................alpha=5.5, l1_ratio=1.2; total time=   0.0s\n",
      "[CV] END ............................alpha=5.5, l1_ratio=1.2; total time=   0.0s\n",
      "[CV] END ............................alpha=5.5, l1_ratio=1.2; total time=   0.0s\n",
      "[CV] END ............................alpha=5.5, l1_ratio=1.2; total time=   0.0s\n",
      "[CV] END ............................alpha=5.5, l1_ratio=1.2; total time=   0.0s\n",
      "[CV] END ............................alpha=5.5, l1_ratio=1.3; total time=   0.0s\n",
      "[CV] END ............................alpha=5.5, l1_ratio=1.3; total time=   0.0s\n",
      "[CV] END ............................alpha=5.5, l1_ratio=1.3; total time=   0.0s\n",
      "[CV] END ............................alpha=5.5, l1_ratio=1.3; total time=   0.0s\n",
      "[CV] END ............................alpha=5.5, l1_ratio=1.3; total time=   0.0s\n",
      "[CV] END ............................alpha=5.5, l1_ratio=1.3; total time=   0.0s\n",
      "[CV] END ............................alpha=5.5, l1_ratio=1.3; total time=   0.0s\n",
      "[CV] END ............................alpha=5.5, l1_ratio=1.3; total time=   0.0s\n",
      "[CV] END ............................alpha=5.5, l1_ratio=1.3; total time=   0.0s\n",
      "[CV] END ............................alpha=5.5, l1_ratio=1.3; total time=   0.0s\n",
      "[CV] END ............................alpha=5.5, l1_ratio=1.5; total time=   0.0s\n",
      "[CV] END ............................alpha=5.5, l1_ratio=1.5; total time=   0.0s\n",
      "[CV] END ............................alpha=5.5, l1_ratio=1.5; total time=   0.0s\n",
      "[CV] END ............................alpha=5.5, l1_ratio=1.5; total time=   0.0s\n",
      "[CV] END ............................alpha=5.5, l1_ratio=1.5; total time=   0.0s\n",
      "[CV] END ............................alpha=5.5, l1_ratio=1.5; total time=   0.0s\n",
      "[CV] END ............................alpha=5.5, l1_ratio=1.5; total time=   0.0s\n",
      "[CV] END ............................alpha=5.5, l1_ratio=1.5; total time=   0.0s\n",
      "[CV] END ............................alpha=5.5, l1_ratio=1.5; total time=   0.0s\n",
      "[CV] END ............................alpha=5.5, l1_ratio=1.5; total time=   0.0s\n",
      "[CV] END ..............................alpha=5.5, l1_ratio=2; total time=   0.0s\n",
      "[CV] END ..............................alpha=5.5, l1_ratio=2; total time=   0.0s\n",
      "[CV] END ..............................alpha=5.5, l1_ratio=2; total time=   0.0s\n",
      "[CV] END ..............................alpha=5.5, l1_ratio=2; total time=   0.0s\n",
      "[CV] END ..............................alpha=5.5, l1_ratio=2; total time=   0.0s\n",
      "[CV] END ..............................alpha=5.5, l1_ratio=2; total time=   0.0s\n",
      "[CV] END ..............................alpha=5.5, l1_ratio=2; total time=   0.0s\n",
      "[CV] END ..............................alpha=5.5, l1_ratio=2; total time=   0.0s\n",
      "[CV] END ..............................alpha=5.5, l1_ratio=2; total time=   0.0s\n",
      "[CV] END ..............................alpha=5.5, l1_ratio=2; total time=   0.0s\n",
      "[CV] END ..............................alpha=5.5, l1_ratio=3; total time=   0.0s\n",
      "[CV] END ..............................alpha=5.5, l1_ratio=3; total time=   0.0s\n",
      "[CV] END ..............................alpha=5.5, l1_ratio=3; total time=   0.0s\n",
      "[CV] END ..............................alpha=5.5, l1_ratio=3; total time=   0.0s\n",
      "[CV] END ..............................alpha=5.5, l1_ratio=3; total time=   0.0s\n",
      "[CV] END ..............................alpha=5.5, l1_ratio=3; total time=   0.0s\n",
      "[CV] END ..............................alpha=5.5, l1_ratio=3; total time=   0.0s\n",
      "[CV] END ..............................alpha=5.5, l1_ratio=3; total time=   0.0s\n",
      "[CV] END ..............................alpha=5.5, l1_ratio=3; total time=   0.0s\n",
      "[CV] END ..............................alpha=5.5, l1_ratio=3; total time=   0.0s\n",
      "[CV] END ..............................alpha=5.5, l1_ratio=5; total time=   0.0s\n",
      "[CV] END ..............................alpha=5.5, l1_ratio=5; total time=   0.0s\n",
      "[CV] END ..............................alpha=5.5, l1_ratio=5; total time=   0.0s\n",
      "[CV] END ..............................alpha=5.5, l1_ratio=5; total time=   0.0s\n",
      "[CV] END ..............................alpha=5.5, l1_ratio=5; total time=   0.0s\n",
      "[CV] END ..............................alpha=5.5, l1_ratio=5; total time=   0.0s\n",
      "[CV] END ..............................alpha=5.5, l1_ratio=5; total time=   0.0s\n",
      "[CV] END ..............................alpha=5.5, l1_ratio=5; total time=   0.0s\n",
      "[CV] END ..............................alpha=5.5, l1_ratio=5; total time=   0.0s\n",
      "[CV] END ..............................alpha=5.5, l1_ratio=5; total time=   0.0s\n",
      "[CV] END ..............................alpha=6, l1_ratio=0.7; total time=   0.0s\n",
      "[CV] END ..............................alpha=6, l1_ratio=0.7; total time=   0.0s\n",
      "[CV] END ..............................alpha=6, l1_ratio=0.7; total time=   0.0s\n",
      "[CV] END ..............................alpha=6, l1_ratio=0.7; total time=   0.0s\n",
      "[CV] END ..............................alpha=6, l1_ratio=0.7; total time=   0.0s\n",
      "[CV] END ..............................alpha=6, l1_ratio=0.7; total time=   0.0s\n",
      "[CV] END ..............................alpha=6, l1_ratio=0.7; total time=   0.0s\n",
      "[CV] END ..............................alpha=6, l1_ratio=0.7; total time=   0.0s\n",
      "[CV] END ..............................alpha=6, l1_ratio=0.7; total time=   0.0s\n",
      "[CV] END ..............................alpha=6, l1_ratio=0.7; total time=   0.0s\n",
      "[CV] END ..............................alpha=6, l1_ratio=0.9; total time=   0.0s\n",
      "[CV] END ..............................alpha=6, l1_ratio=0.9; total time=   0.0s\n",
      "[CV] END ..............................alpha=6, l1_ratio=0.9; total time=   0.0s\n",
      "[CV] END ..............................alpha=6, l1_ratio=0.9; total time=   0.0s\n",
      "[CV] END ..............................alpha=6, l1_ratio=0.9; total time=   0.0s\n",
      "[CV] END ..............................alpha=6, l1_ratio=0.9; total time=   0.0s\n",
      "[CV] END ..............................alpha=6, l1_ratio=0.9; total time=   0.0s\n",
      "[CV] END ..............................alpha=6, l1_ratio=0.9; total time=   0.0s\n",
      "[CV] END ..............................alpha=6, l1_ratio=0.9; total time=   0.0s\n",
      "[CV] END ..............................alpha=6, l1_ratio=0.9; total time=   0.0s\n",
      "[CV] END .............................alpha=6, l1_ratio=0.95; total time=   0.0s\n",
      "[CV] END .............................alpha=6, l1_ratio=0.95; total time=   0.0s\n",
      "[CV] END .............................alpha=6, l1_ratio=0.95; total time=   0.0s\n",
      "[CV] END .............................alpha=6, l1_ratio=0.95; total time=   0.0s\n",
      "[CV] END .............................alpha=6, l1_ratio=0.95; total time=   0.0s\n",
      "[CV] END .............................alpha=6, l1_ratio=0.95; total time=   0.0s\n",
      "[CV] END .............................alpha=6, l1_ratio=0.95; total time=   0.0s\n",
      "[CV] END .............................alpha=6, l1_ratio=0.95; total time=   0.0s\n",
      "[CV] END .............................alpha=6, l1_ratio=0.95; total time=   0.0s\n",
      "[CV] END .............................alpha=6, l1_ratio=0.95; total time=   0.0s\n",
      "[CV] END .............................alpha=6, l1_ratio=0.99; total time=   0.0s\n",
      "[CV] END .............................alpha=6, l1_ratio=0.99; total time=   0.0s\n",
      "[CV] END .............................alpha=6, l1_ratio=0.99; total time=   0.0s\n",
      "[CV] END .............................alpha=6, l1_ratio=0.99; total time=   0.0s\n",
      "[CV] END .............................alpha=6, l1_ratio=0.99; total time=   0.0s\n",
      "[CV] END .............................alpha=6, l1_ratio=0.99; total time=   0.0s\n",
      "[CV] END .............................alpha=6, l1_ratio=0.99; total time=   0.0s\n",
      "[CV] END .............................alpha=6, l1_ratio=0.99; total time=   0.0s\n",
      "[CV] END .............................alpha=6, l1_ratio=0.99; total time=   0.0s\n",
      "[CV] END .............................alpha=6, l1_ratio=0.99; total time=   0.0s\n",
      "[CV] END ................................alpha=6, l1_ratio=1; total time=   0.0s\n",
      "[CV] END ................................alpha=6, l1_ratio=1; total time=   0.2s\n",
      "[CV] END ................................alpha=6, l1_ratio=1; total time=   0.1s\n",
      "[CV] END ................................alpha=6, l1_ratio=1; total time=   0.1s\n",
      "[CV] END ................................alpha=6, l1_ratio=1; total time=   0.0s\n",
      "[CV] END ................................alpha=6, l1_ratio=1; total time=   0.1s\n",
      "[CV] END ................................alpha=6, l1_ratio=1; total time=   0.0s\n",
      "[CV] END ................................alpha=6, l1_ratio=1; total time=   0.1s\n",
      "[CV] END ................................alpha=6, l1_ratio=1; total time=   0.1s\n",
      "[CV] END ................................alpha=6, l1_ratio=1; total time=   0.2s\n",
      "[CV] END ..............................alpha=6, l1_ratio=1.2; total time=   0.0s\n",
      "[CV] END ..............................alpha=6, l1_ratio=1.2; total time=   0.0s\n",
      "[CV] END ..............................alpha=6, l1_ratio=1.2; total time=   0.0s\n",
      "[CV] END ..............................alpha=6, l1_ratio=1.2; total time=   0.0s\n",
      "[CV] END ..............................alpha=6, l1_ratio=1.2; total time=   0.0s\n",
      "[CV] END ..............................alpha=6, l1_ratio=1.2; total time=   0.0s\n",
      "[CV] END ..............................alpha=6, l1_ratio=1.2; total time=   0.0s\n",
      "[CV] END ..............................alpha=6, l1_ratio=1.2; total time=   0.0s\n",
      "[CV] END ..............................alpha=6, l1_ratio=1.2; total time=   0.0s\n",
      "[CV] END ..............................alpha=6, l1_ratio=1.2; total time=   0.0s\n",
      "[CV] END ..............................alpha=6, l1_ratio=1.3; total time=   0.0s\n",
      "[CV] END ..............................alpha=6, l1_ratio=1.3; total time=   0.0s\n",
      "[CV] END ..............................alpha=6, l1_ratio=1.3; total time=   0.0s\n",
      "[CV] END ..............................alpha=6, l1_ratio=1.3; total time=   0.0s\n",
      "[CV] END ..............................alpha=6, l1_ratio=1.3; total time=   0.0s\n",
      "[CV] END ..............................alpha=6, l1_ratio=1.3; total time=   0.0s\n",
      "[CV] END ..............................alpha=6, l1_ratio=1.3; total time=   0.0s\n",
      "[CV] END ..............................alpha=6, l1_ratio=1.3; total time=   0.0s\n",
      "[CV] END ..............................alpha=6, l1_ratio=1.3; total time=   0.0s\n",
      "[CV] END ..............................alpha=6, l1_ratio=1.3; total time=   0.0s\n",
      "[CV] END ..............................alpha=6, l1_ratio=1.5; total time=   0.0s\n",
      "[CV] END ..............................alpha=6, l1_ratio=1.5; total time=   0.0s\n",
      "[CV] END ..............................alpha=6, l1_ratio=1.5; total time=   0.0s\n",
      "[CV] END ..............................alpha=6, l1_ratio=1.5; total time=   0.0s\n",
      "[CV] END ..............................alpha=6, l1_ratio=1.5; total time=   0.0s\n",
      "[CV] END ..............................alpha=6, l1_ratio=1.5; total time=   0.0s\n",
      "[CV] END ..............................alpha=6, l1_ratio=1.5; total time=   0.0s\n",
      "[CV] END ..............................alpha=6, l1_ratio=1.5; total time=   0.0s\n",
      "[CV] END ..............................alpha=6, l1_ratio=1.5; total time=   0.0s\n",
      "[CV] END ..............................alpha=6, l1_ratio=1.5; total time=   0.0s\n",
      "[CV] END ................................alpha=6, l1_ratio=2; total time=   0.0s\n",
      "[CV] END ................................alpha=6, l1_ratio=2; total time=   0.0s\n",
      "[CV] END ................................alpha=6, l1_ratio=2; total time=   0.0s\n",
      "[CV] END ................................alpha=6, l1_ratio=2; total time=   0.0s\n",
      "[CV] END ................................alpha=6, l1_ratio=2; total time=   0.0s\n",
      "[CV] END ................................alpha=6, l1_ratio=2; total time=   0.0s\n",
      "[CV] END ................................alpha=6, l1_ratio=2; total time=   0.0s\n",
      "[CV] END ................................alpha=6, l1_ratio=2; total time=   0.0s\n",
      "[CV] END ................................alpha=6, l1_ratio=2; total time=   0.0s\n",
      "[CV] END ................................alpha=6, l1_ratio=2; total time=   0.0s\n",
      "[CV] END ................................alpha=6, l1_ratio=3; total time=   0.0s\n",
      "[CV] END ................................alpha=6, l1_ratio=3; total time=   0.0s\n",
      "[CV] END ................................alpha=6, l1_ratio=3; total time=   0.0s\n",
      "[CV] END ................................alpha=6, l1_ratio=3; total time=   0.0s\n",
      "[CV] END ................................alpha=6, l1_ratio=3; total time=   0.0s\n",
      "[CV] END ................................alpha=6, l1_ratio=3; total time=   0.0s\n",
      "[CV] END ................................alpha=6, l1_ratio=3; total time=   0.0s\n",
      "[CV] END ................................alpha=6, l1_ratio=3; total time=   0.0s\n",
      "[CV] END ................................alpha=6, l1_ratio=3; total time=   0.0s\n",
      "[CV] END ................................alpha=6, l1_ratio=3; total time=   0.0s\n",
      "[CV] END ................................alpha=6, l1_ratio=5; total time=   0.0s\n",
      "[CV] END ................................alpha=6, l1_ratio=5; total time=   0.0s\n",
      "[CV] END ................................alpha=6, l1_ratio=5; total time=   0.0s\n",
      "[CV] END ................................alpha=6, l1_ratio=5; total time=   0.0s\n",
      "[CV] END ................................alpha=6, l1_ratio=5; total time=   0.0s\n",
      "[CV] END ................................alpha=6, l1_ratio=5; total time=   0.0s\n",
      "[CV] END ................................alpha=6, l1_ratio=5; total time=   0.0s\n",
      "[CV] END ................................alpha=6, l1_ratio=5; total time=   0.0s\n",
      "[CV] END ................................alpha=6, l1_ratio=5; total time=   0.0s\n",
      "[CV] END ................................alpha=6, l1_ratio=5; total time=   0.0s\n",
      "[CV] END ............................alpha=6.5, l1_ratio=0.7; total time=   0.0s\n",
      "[CV] END ............................alpha=6.5, l1_ratio=0.7; total time=   0.0s\n",
      "[CV] END ............................alpha=6.5, l1_ratio=0.7; total time=   0.0s\n",
      "[CV] END ............................alpha=6.5, l1_ratio=0.7; total time=   0.0s\n",
      "[CV] END ............................alpha=6.5, l1_ratio=0.7; total time=   0.0s\n",
      "[CV] END ............................alpha=6.5, l1_ratio=0.7; total time=   0.0s\n",
      "[CV] END ............................alpha=6.5, l1_ratio=0.7; total time=   0.0s\n",
      "[CV] END ............................alpha=6.5, l1_ratio=0.7; total time=   0.0s\n",
      "[CV] END ............................alpha=6.5, l1_ratio=0.7; total time=   0.0s\n",
      "[CV] END ............................alpha=6.5, l1_ratio=0.7; total time=   0.0s\n",
      "[CV] END ............................alpha=6.5, l1_ratio=0.9; total time=   0.0s\n",
      "[CV] END ............................alpha=6.5, l1_ratio=0.9; total time=   0.0s\n",
      "[CV] END ............................alpha=6.5, l1_ratio=0.9; total time=   0.0s\n",
      "[CV] END ............................alpha=6.5, l1_ratio=0.9; total time=   0.0s\n",
      "[CV] END ............................alpha=6.5, l1_ratio=0.9; total time=   0.0s\n",
      "[CV] END ............................alpha=6.5, l1_ratio=0.9; total time=   0.0s\n",
      "[CV] END ............................alpha=6.5, l1_ratio=0.9; total time=   0.0s\n",
      "[CV] END ............................alpha=6.5, l1_ratio=0.9; total time=   0.0s\n",
      "[CV] END ............................alpha=6.5, l1_ratio=0.9; total time=   0.0s\n",
      "[CV] END ............................alpha=6.5, l1_ratio=0.9; total time=   0.0s\n",
      "[CV] END ...........................alpha=6.5, l1_ratio=0.95; total time=   0.0s\n",
      "[CV] END ...........................alpha=6.5, l1_ratio=0.95; total time=   0.0s\n",
      "[CV] END ...........................alpha=6.5, l1_ratio=0.95; total time=   0.0s\n",
      "[CV] END ...........................alpha=6.5, l1_ratio=0.95; total time=   0.0s\n",
      "[CV] END ...........................alpha=6.5, l1_ratio=0.95; total time=   0.0s\n",
      "[CV] END ...........................alpha=6.5, l1_ratio=0.95; total time=   0.0s\n",
      "[CV] END ...........................alpha=6.5, l1_ratio=0.95; total time=   0.0s\n",
      "[CV] END ...........................alpha=6.5, l1_ratio=0.95; total time=   0.0s\n",
      "[CV] END ...........................alpha=6.5, l1_ratio=0.95; total time=   0.0s\n",
      "[CV] END ...........................alpha=6.5, l1_ratio=0.95; total time=   0.0s\n",
      "[CV] END ...........................alpha=6.5, l1_ratio=0.99; total time=   0.0s\n",
      "[CV] END ...........................alpha=6.5, l1_ratio=0.99; total time=   0.0s\n",
      "[CV] END ...........................alpha=6.5, l1_ratio=0.99; total time=   0.0s\n",
      "[CV] END ...........................alpha=6.5, l1_ratio=0.99; total time=   0.0s\n",
      "[CV] END ...........................alpha=6.5, l1_ratio=0.99; total time=   0.0s\n",
      "[CV] END ...........................alpha=6.5, l1_ratio=0.99; total time=   0.0s\n",
      "[CV] END ...........................alpha=6.5, l1_ratio=0.99; total time=   0.0s\n",
      "[CV] END ...........................alpha=6.5, l1_ratio=0.99; total time=   0.0s\n",
      "[CV] END ...........................alpha=6.5, l1_ratio=0.99; total time=   0.0s\n",
      "[CV] END ...........................alpha=6.5, l1_ratio=0.99; total time=   0.0s\n",
      "[CV] END ..............................alpha=6.5, l1_ratio=1; total time=   0.0s\n",
      "[CV] END ..............................alpha=6.5, l1_ratio=1; total time=   0.0s\n",
      "[CV] END ..............................alpha=6.5, l1_ratio=1; total time=   0.0s\n",
      "[CV] END ..............................alpha=6.5, l1_ratio=1; total time=   0.1s\n",
      "[CV] END ..............................alpha=6.5, l1_ratio=1; total time=   0.0s\n",
      "[CV] END ..............................alpha=6.5, l1_ratio=1; total time=   0.0s\n",
      "[CV] END ..............................alpha=6.5, l1_ratio=1; total time=   0.1s\n",
      "[CV] END ..............................alpha=6.5, l1_ratio=1; total time=   0.0s\n",
      "[CV] END ..............................alpha=6.5, l1_ratio=1; total time=   0.1s\n",
      "[CV] END ..............................alpha=6.5, l1_ratio=1; total time=   0.1s\n",
      "[CV] END ............................alpha=6.5, l1_ratio=1.2; total time=   0.0s\n",
      "[CV] END ............................alpha=6.5, l1_ratio=1.2; total time=   0.0s\n",
      "[CV] END ............................alpha=6.5, l1_ratio=1.2; total time=   0.0s\n",
      "[CV] END ............................alpha=6.5, l1_ratio=1.2; total time=   0.0s\n",
      "[CV] END ............................alpha=6.5, l1_ratio=1.2; total time=   0.0s\n",
      "[CV] END ............................alpha=6.5, l1_ratio=1.2; total time=   0.0s\n",
      "[CV] END ............................alpha=6.5, l1_ratio=1.2; total time=   0.0s\n",
      "[CV] END ............................alpha=6.5, l1_ratio=1.2; total time=   0.0s\n",
      "[CV] END ............................alpha=6.5, l1_ratio=1.2; total time=   0.0s\n",
      "[CV] END ............................alpha=6.5, l1_ratio=1.2; total time=   0.0s\n",
      "[CV] END ............................alpha=6.5, l1_ratio=1.3; total time=   0.0s\n",
      "[CV] END ............................alpha=6.5, l1_ratio=1.3; total time=   0.0s\n",
      "[CV] END ............................alpha=6.5, l1_ratio=1.3; total time=   0.0s\n",
      "[CV] END ............................alpha=6.5, l1_ratio=1.3; total time=   0.0s\n",
      "[CV] END ............................alpha=6.5, l1_ratio=1.3; total time=   0.0s\n",
      "[CV] END ............................alpha=6.5, l1_ratio=1.3; total time=   0.0s\n",
      "[CV] END ............................alpha=6.5, l1_ratio=1.3; total time=   0.0s\n",
      "[CV] END ............................alpha=6.5, l1_ratio=1.3; total time=   0.0s\n",
      "[CV] END ............................alpha=6.5, l1_ratio=1.3; total time=   0.0s\n",
      "[CV] END ............................alpha=6.5, l1_ratio=1.3; total time=   0.0s\n",
      "[CV] END ............................alpha=6.5, l1_ratio=1.5; total time=   0.0s\n",
      "[CV] END ............................alpha=6.5, l1_ratio=1.5; total time=   0.0s\n",
      "[CV] END ............................alpha=6.5, l1_ratio=1.5; total time=   0.0s\n",
      "[CV] END ............................alpha=6.5, l1_ratio=1.5; total time=   0.0s\n",
      "[CV] END ............................alpha=6.5, l1_ratio=1.5; total time=   0.0s\n",
      "[CV] END ............................alpha=6.5, l1_ratio=1.5; total time=   0.0s\n",
      "[CV] END ............................alpha=6.5, l1_ratio=1.5; total time=   0.0s\n",
      "[CV] END ............................alpha=6.5, l1_ratio=1.5; total time=   0.0s\n",
      "[CV] END ............................alpha=6.5, l1_ratio=1.5; total time=   0.0s\n",
      "[CV] END ............................alpha=6.5, l1_ratio=1.5; total time=   0.0s\n",
      "[CV] END ..............................alpha=6.5, l1_ratio=2; total time=   0.0s\n",
      "[CV] END ..............................alpha=6.5, l1_ratio=2; total time=   0.0s\n",
      "[CV] END ..............................alpha=6.5, l1_ratio=2; total time=   0.0s\n",
      "[CV] END ..............................alpha=6.5, l1_ratio=2; total time=   0.0s\n",
      "[CV] END ..............................alpha=6.5, l1_ratio=2; total time=   0.0s\n",
      "[CV] END ..............................alpha=6.5, l1_ratio=2; total time=   0.0s\n",
      "[CV] END ..............................alpha=6.5, l1_ratio=2; total time=   0.0s\n",
      "[CV] END ..............................alpha=6.5, l1_ratio=2; total time=   0.0s\n",
      "[CV] END ..............................alpha=6.5, l1_ratio=2; total time=   0.0s\n",
      "[CV] END ..............................alpha=6.5, l1_ratio=2; total time=   0.0s\n",
      "[CV] END ..............................alpha=6.5, l1_ratio=3; total time=   0.0s\n",
      "[CV] END ..............................alpha=6.5, l1_ratio=3; total time=   0.0s\n",
      "[CV] END ..............................alpha=6.5, l1_ratio=3; total time=   0.0s\n",
      "[CV] END ..............................alpha=6.5, l1_ratio=3; total time=   0.0s\n",
      "[CV] END ..............................alpha=6.5, l1_ratio=3; total time=   0.0s\n",
      "[CV] END ..............................alpha=6.5, l1_ratio=3; total time=   0.0s\n",
      "[CV] END ..............................alpha=6.5, l1_ratio=3; total time=   0.0s\n",
      "[CV] END ..............................alpha=6.5, l1_ratio=3; total time=   0.0s\n",
      "[CV] END ..............................alpha=6.5, l1_ratio=3; total time=   0.0s\n",
      "[CV] END ..............................alpha=6.5, l1_ratio=3; total time=   0.0s\n",
      "[CV] END ..............................alpha=6.5, l1_ratio=5; total time=   0.0s\n",
      "[CV] END ..............................alpha=6.5, l1_ratio=5; total time=   0.0s\n",
      "[CV] END ..............................alpha=6.5, l1_ratio=5; total time=   0.0s\n",
      "[CV] END ..............................alpha=6.5, l1_ratio=5; total time=   0.0s\n",
      "[CV] END ..............................alpha=6.5, l1_ratio=5; total time=   0.0s\n",
      "[CV] END ..............................alpha=6.5, l1_ratio=5; total time=   0.0s\n",
      "[CV] END ..............................alpha=6.5, l1_ratio=5; total time=   0.0s\n",
      "[CV] END ..............................alpha=6.5, l1_ratio=5; total time=   0.0s\n",
      "[CV] END ..............................alpha=6.5, l1_ratio=5; total time=   0.0s\n",
      "[CV] END ..............................alpha=6.5, l1_ratio=5; total time=   0.0s\n",
      "[CV] END ..............................alpha=8, l1_ratio=0.7; total time=   0.0s\n",
      "[CV] END ..............................alpha=8, l1_ratio=0.7; total time=   0.0s\n",
      "[CV] END ..............................alpha=8, l1_ratio=0.7; total time=   0.0s\n",
      "[CV] END ..............................alpha=8, l1_ratio=0.7; total time=   0.0s\n",
      "[CV] END ..............................alpha=8, l1_ratio=0.7; total time=   0.0s\n",
      "[CV] END ..............................alpha=8, l1_ratio=0.7; total time=   0.0s\n",
      "[CV] END ..............................alpha=8, l1_ratio=0.7; total time=   0.0s\n",
      "[CV] END ..............................alpha=8, l1_ratio=0.7; total time=   0.0s\n",
      "[CV] END ..............................alpha=8, l1_ratio=0.7; total time=   0.0s\n",
      "[CV] END ..............................alpha=8, l1_ratio=0.7; total time=   0.0s\n",
      "[CV] END ..............................alpha=8, l1_ratio=0.9; total time=   0.0s\n",
      "[CV] END ..............................alpha=8, l1_ratio=0.9; total time=   0.0s\n",
      "[CV] END ..............................alpha=8, l1_ratio=0.9; total time=   0.0s\n",
      "[CV] END ..............................alpha=8, l1_ratio=0.9; total time=   0.0s\n",
      "[CV] END ..............................alpha=8, l1_ratio=0.9; total time=   0.0s\n",
      "[CV] END ..............................alpha=8, l1_ratio=0.9; total time=   0.0s\n",
      "[CV] END ..............................alpha=8, l1_ratio=0.9; total time=   0.0s\n",
      "[CV] END ..............................alpha=8, l1_ratio=0.9; total time=   0.0s\n",
      "[CV] END ..............................alpha=8, l1_ratio=0.9; total time=   0.0s\n",
      "[CV] END ..............................alpha=8, l1_ratio=0.9; total time=   0.0s\n",
      "[CV] END .............................alpha=8, l1_ratio=0.95; total time=   0.0s\n",
      "[CV] END .............................alpha=8, l1_ratio=0.95; total time=   0.0s\n",
      "[CV] END .............................alpha=8, l1_ratio=0.95; total time=   0.0s\n",
      "[CV] END .............................alpha=8, l1_ratio=0.95; total time=   0.0s\n",
      "[CV] END .............................alpha=8, l1_ratio=0.95; total time=   0.0s\n",
      "[CV] END .............................alpha=8, l1_ratio=0.95; total time=   0.0s\n",
      "[CV] END .............................alpha=8, l1_ratio=0.95; total time=   0.0s\n",
      "[CV] END .............................alpha=8, l1_ratio=0.95; total time=   0.0s\n",
      "[CV] END .............................alpha=8, l1_ratio=0.95; total time=   0.0s\n",
      "[CV] END .............................alpha=8, l1_ratio=0.95; total time=   0.0s\n",
      "[CV] END .............................alpha=8, l1_ratio=0.99; total time=   0.0s\n",
      "[CV] END .............................alpha=8, l1_ratio=0.99; total time=   0.0s\n",
      "[CV] END .............................alpha=8, l1_ratio=0.99; total time=   0.0s\n",
      "[CV] END .............................alpha=8, l1_ratio=0.99; total time=   0.0s\n",
      "[CV] END .............................alpha=8, l1_ratio=0.99; total time=   0.0s\n",
      "[CV] END .............................alpha=8, l1_ratio=0.99; total time=   0.0s\n",
      "[CV] END .............................alpha=8, l1_ratio=0.99; total time=   0.0s\n",
      "[CV] END .............................alpha=8, l1_ratio=0.99; total time=   0.0s\n",
      "[CV] END .............................alpha=8, l1_ratio=0.99; total time=   0.0s\n",
      "[CV] END .............................alpha=8, l1_ratio=0.99; total time=   0.0s\n",
      "[CV] END ................................alpha=8, l1_ratio=1; total time=   0.0s\n",
      "[CV] END ................................alpha=8, l1_ratio=1; total time=   0.0s\n",
      "[CV] END ................................alpha=8, l1_ratio=1; total time=   0.0s\n",
      "[CV] END ................................alpha=8, l1_ratio=1; total time=   0.0s\n",
      "[CV] END ................................alpha=8, l1_ratio=1; total time=   0.0s\n",
      "[CV] END ................................alpha=8, l1_ratio=1; total time=   0.0s\n",
      "[CV] END ................................alpha=8, l1_ratio=1; total time=   0.0s\n",
      "[CV] END ................................alpha=8, l1_ratio=1; total time=   0.0s\n",
      "[CV] END ................................alpha=8, l1_ratio=1; total time=   0.0s\n",
      "[CV] END ................................alpha=8, l1_ratio=1; total time=   0.0s\n",
      "[CV] END ..............................alpha=8, l1_ratio=1.2; total time=   0.0s\n",
      "[CV] END ..............................alpha=8, l1_ratio=1.2; total time=   0.0s\n",
      "[CV] END ..............................alpha=8, l1_ratio=1.2; total time=   0.0s\n",
      "[CV] END ..............................alpha=8, l1_ratio=1.2; total time=   0.0s\n",
      "[CV] END ..............................alpha=8, l1_ratio=1.2; total time=   0.0s\n",
      "[CV] END ..............................alpha=8, l1_ratio=1.2; total time=   0.0s\n",
      "[CV] END ..............................alpha=8, l1_ratio=1.2; total time=   0.0s\n",
      "[CV] END ..............................alpha=8, l1_ratio=1.2; total time=   0.0s\n",
      "[CV] END ..............................alpha=8, l1_ratio=1.2; total time=   0.0s\n",
      "[CV] END ..............................alpha=8, l1_ratio=1.2; total time=   0.0s\n",
      "[CV] END ..............................alpha=8, l1_ratio=1.3; total time=   0.0s\n",
      "[CV] END ..............................alpha=8, l1_ratio=1.3; total time=   0.0s\n",
      "[CV] END ..............................alpha=8, l1_ratio=1.3; total time=   0.0s\n",
      "[CV] END ..............................alpha=8, l1_ratio=1.3; total time=   0.0s\n",
      "[CV] END ..............................alpha=8, l1_ratio=1.3; total time=   0.0s\n",
      "[CV] END ..............................alpha=8, l1_ratio=1.3; total time=   0.0s\n",
      "[CV] END ..............................alpha=8, l1_ratio=1.3; total time=   0.0s\n",
      "[CV] END ..............................alpha=8, l1_ratio=1.3; total time=   0.0s\n",
      "[CV] END ..............................alpha=8, l1_ratio=1.3; total time=   0.0s\n",
      "[CV] END ..............................alpha=8, l1_ratio=1.3; total time=   0.0s\n",
      "[CV] END ..............................alpha=8, l1_ratio=1.5; total time=   0.0s\n",
      "[CV] END ..............................alpha=8, l1_ratio=1.5; total time=   0.0s\n",
      "[CV] END ..............................alpha=8, l1_ratio=1.5; total time=   0.0s\n",
      "[CV] END ..............................alpha=8, l1_ratio=1.5; total time=   0.0s\n",
      "[CV] END ..............................alpha=8, l1_ratio=1.5; total time=   0.0s\n",
      "[CV] END ..............................alpha=8, l1_ratio=1.5; total time=   0.0s\n",
      "[CV] END ..............................alpha=8, l1_ratio=1.5; total time=   0.0s\n",
      "[CV] END ..............................alpha=8, l1_ratio=1.5; total time=   0.0s\n",
      "[CV] END ..............................alpha=8, l1_ratio=1.5; total time=   0.0s\n",
      "[CV] END ..............................alpha=8, l1_ratio=1.5; total time=   0.0s\n",
      "[CV] END ................................alpha=8, l1_ratio=2; total time=   0.0s\n",
      "[CV] END ................................alpha=8, l1_ratio=2; total time=   0.0s\n",
      "[CV] END ................................alpha=8, l1_ratio=2; total time=   0.0s\n",
      "[CV] END ................................alpha=8, l1_ratio=2; total time=   0.0s\n",
      "[CV] END ................................alpha=8, l1_ratio=2; total time=   0.0s\n",
      "[CV] END ................................alpha=8, l1_ratio=2; total time=   0.0s\n",
      "[CV] END ................................alpha=8, l1_ratio=2; total time=   0.0s\n",
      "[CV] END ................................alpha=8, l1_ratio=2; total time=   0.0s\n",
      "[CV] END ................................alpha=8, l1_ratio=2; total time=   0.0s\n",
      "[CV] END ................................alpha=8, l1_ratio=2; total time=   0.0s\n",
      "[CV] END ................................alpha=8, l1_ratio=3; total time=   0.0s\n",
      "[CV] END ................................alpha=8, l1_ratio=3; total time=   0.0s\n",
      "[CV] END ................................alpha=8, l1_ratio=3; total time=   0.0s\n",
      "[CV] END ................................alpha=8, l1_ratio=3; total time=   0.0s\n",
      "[CV] END ................................alpha=8, l1_ratio=3; total time=   0.0s\n",
      "[CV] END ................................alpha=8, l1_ratio=3; total time=   0.0s\n",
      "[CV] END ................................alpha=8, l1_ratio=3; total time=   0.0s\n",
      "[CV] END ................................alpha=8, l1_ratio=3; total time=   0.0s\n",
      "[CV] END ................................alpha=8, l1_ratio=3; total time=   0.0s\n",
      "[CV] END ................................alpha=8, l1_ratio=3; total time=   0.0s\n",
      "[CV] END ................................alpha=8, l1_ratio=5; total time=   0.0s\n",
      "[CV] END ................................alpha=8, l1_ratio=5; total time=   0.0s\n",
      "[CV] END ................................alpha=8, l1_ratio=5; total time=   0.0s\n",
      "[CV] END ................................alpha=8, l1_ratio=5; total time=   0.0s\n",
      "[CV] END ................................alpha=8, l1_ratio=5; total time=   0.0s\n",
      "[CV] END ................................alpha=8, l1_ratio=5; total time=   0.0s\n",
      "[CV] END ................................alpha=8, l1_ratio=5; total time=   0.0s\n",
      "[CV] END ................................alpha=8, l1_ratio=5; total time=   0.0s\n",
      "[CV] END ................................alpha=8, l1_ratio=5; total time=   0.0s\n",
      "[CV] END ................................alpha=8, l1_ratio=5; total time=   0.0s\n"
     ]
    },
    {
     "data": {
      "text/plain": [
       "GridSearchCV(cv=10, estimator=ElasticNet(max_iter=10000),\n",
       "             param_grid={'alpha': [0.5, 2, 2.5, 3, 3.5, 4, 4.5, 5, 5.5, 6, 6.5,\n",
       "                                   8],\n",
       "                         'l1_ratio': [0.7, 0.9, 0.95, 0.99, 1, 1.2, 1.3, 1.5, 2,\n",
       "                                      3, 5]},\n",
       "             scoring='neg_root_mean_squared_error', verbose=2)"
      ]
     },
     "execution_count": 351,
     "metadata": {},
     "output_type": "execute_result"
    }
   ],
   "source": [
    "grid_model.fit(X_train, y_train)"
   ]
  },
  {
   "cell_type": "code",
   "execution_count": 352,
   "id": "719f469f-7501-4310-a8f6-218860b2b844",
   "metadata": {},
   "outputs": [
    {
     "data": {
      "text/plain": [
       "{'alpha': 8, 'l1_ratio': 1}"
      ]
     },
     "execution_count": 352,
     "metadata": {},
     "output_type": "execute_result"
    }
   ],
   "source": [
    "grid_model.best_params_"
   ]
  },
  {
   "cell_type": "code",
   "execution_count": 353,
   "id": "d99f994a-61f1-4ba1-a8a5-f62399b7df2d",
   "metadata": {},
   "outputs": [
    {
     "data": {
      "text/html": [
       "<div>\n",
       "<style scoped>\n",
       "    .dataframe tbody tr th:only-of-type {\n",
       "        vertical-align: middle;\n",
       "    }\n",
       "\n",
       "    .dataframe tbody tr th {\n",
       "        vertical-align: top;\n",
       "    }\n",
       "\n",
       "    .dataframe thead th {\n",
       "        text-align: right;\n",
       "    }\n",
       "</style>\n",
       "<table border=\"1\" class=\"dataframe\">\n",
       "  <thead>\n",
       "    <tr style=\"text-align: right;\">\n",
       "      <th></th>\n",
       "      <th>mean_fit_time</th>\n",
       "      <th>std_fit_time</th>\n",
       "      <th>mean_score_time</th>\n",
       "      <th>std_score_time</th>\n",
       "      <th>param_alpha</th>\n",
       "      <th>param_l1_ratio</th>\n",
       "      <th>params</th>\n",
       "      <th>split0_test_score</th>\n",
       "      <th>split1_test_score</th>\n",
       "      <th>split2_test_score</th>\n",
       "      <th>split3_test_score</th>\n",
       "      <th>split4_test_score</th>\n",
       "      <th>split5_test_score</th>\n",
       "      <th>split6_test_score</th>\n",
       "      <th>split7_test_score</th>\n",
       "      <th>split8_test_score</th>\n",
       "      <th>split9_test_score</th>\n",
       "      <th>mean_test_score</th>\n",
       "      <th>std_test_score</th>\n",
       "      <th>rank_test_score</th>\n",
       "    </tr>\n",
       "  </thead>\n",
       "  <tbody>\n",
       "    <tr>\n",
       "      <th>0</th>\n",
       "      <td>0.056256</td>\n",
       "      <td>0.011248</td>\n",
       "      <td>0.000699</td>\n",
       "      <td>0.000458</td>\n",
       "      <td>0.5</td>\n",
       "      <td>0.7</td>\n",
       "      <td>{'alpha': 0.5, 'l1_ratio': 0.7}</td>\n",
       "      <td>-5044.383010</td>\n",
       "      <td>-3606.640528</td>\n",
       "      <td>-4768.802344</td>\n",
       "      <td>-4992.405429</td>\n",
       "      <td>-5335.656817</td>\n",
       "      <td>-5348.775113</td>\n",
       "      <td>-5728.167345</td>\n",
       "      <td>-5368.051319</td>\n",
       "      <td>-5127.670128</td>\n",
       "      <td>-5679.223979</td>\n",
       "      <td>-5099.977601</td>\n",
       "      <td>572.242886</td>\n",
       "      <td>29</td>\n",
       "    </tr>\n",
       "    <tr>\n",
       "      <th>1</th>\n",
       "      <td>0.097785</td>\n",
       "      <td>0.012353</td>\n",
       "      <td>0.000600</td>\n",
       "      <td>0.000490</td>\n",
       "      <td>0.5</td>\n",
       "      <td>0.9</td>\n",
       "      <td>{'alpha': 0.5, 'l1_ratio': 0.9}</td>\n",
       "      <td>-5009.170011</td>\n",
       "      <td>-3535.877153</td>\n",
       "      <td>-4586.790162</td>\n",
       "      <td>-4836.845707</td>\n",
       "      <td>-5241.084063</td>\n",
       "      <td>-5253.718857</td>\n",
       "      <td>-5630.782047</td>\n",
       "      <td>-5201.520072</td>\n",
       "      <td>-5001.878307</td>\n",
       "      <td>-5526.171209</td>\n",
       "      <td>-4982.383759</td>\n",
       "      <td>563.546711</td>\n",
       "      <td>22</td>\n",
       "    </tr>\n",
       "    <tr>\n",
       "      <th>2</th>\n",
       "      <td>0.166468</td>\n",
       "      <td>0.040919</td>\n",
       "      <td>0.000700</td>\n",
       "      <td>0.000458</td>\n",
       "      <td>0.5</td>\n",
       "      <td>0.95</td>\n",
       "      <td>{'alpha': 0.5, 'l1_ratio': 0.95}</td>\n",
       "      <td>-5022.105916</td>\n",
       "      <td>-3539.332341</td>\n",
       "      <td>-4548.037638</td>\n",
       "      <td>-4812.130921</td>\n",
       "      <td>-5224.430502</td>\n",
       "      <td>-5222.859805</td>\n",
       "      <td>-5605.849436</td>\n",
       "      <td>-5167.486381</td>\n",
       "      <td>-4978.804954</td>\n",
       "      <td>-5486.625186</td>\n",
       "      <td>-4960.766308</td>\n",
       "      <td>555.932073</td>\n",
       "      <td>15</td>\n",
       "    </tr>\n",
       "    <tr>\n",
       "      <th>3</th>\n",
       "      <td>0.656772</td>\n",
       "      <td>0.125413</td>\n",
       "      <td>0.000400</td>\n",
       "      <td>0.000490</td>\n",
       "      <td>0.5</td>\n",
       "      <td>0.99</td>\n",
       "      <td>{'alpha': 0.5, 'l1_ratio': 0.99}</td>\n",
       "      <td>-5049.782774</td>\n",
       "      <td>-3591.983116</td>\n",
       "      <td>-4518.830722</td>\n",
       "      <td>-4844.797698</td>\n",
       "      <td>-5208.034598</td>\n",
       "      <td>-5170.038286</td>\n",
       "      <td>-5588.592566</td>\n",
       "      <td>-5176.593275</td>\n",
       "      <td>-4978.267149</td>\n",
       "      <td>-5478.802358</td>\n",
       "      <td>-4960.572254</td>\n",
       "      <td>538.943211</td>\n",
       "      <td>14</td>\n",
       "    </tr>\n",
       "    <tr>\n",
       "      <th>4</th>\n",
       "      <td>0.774499</td>\n",
       "      <td>0.088946</td>\n",
       "      <td>0.000200</td>\n",
       "      <td>0.000400</td>\n",
       "      <td>0.5</td>\n",
       "      <td>1</td>\n",
       "      <td>{'alpha': 0.5, 'l1_ratio': 1}</td>\n",
       "      <td>-5005.910769</td>\n",
       "      <td>-3738.997001</td>\n",
       "      <td>-4470.868673</td>\n",
       "      <td>-4887.225818</td>\n",
       "      <td>-5074.383766</td>\n",
       "      <td>-5040.982582</td>\n",
       "      <td>-5442.028460</td>\n",
       "      <td>-5171.034647</td>\n",
       "      <td>-4948.213532</td>\n",
       "      <td>-5634.597795</td>\n",
       "      <td>-4941.424304</td>\n",
       "      <td>498.578086</td>\n",
       "      <td>12</td>\n",
       "    </tr>\n",
       "    <tr>\n",
       "      <th>...</th>\n",
       "      <td>...</td>\n",
       "      <td>...</td>\n",
       "      <td>...</td>\n",
       "      <td>...</td>\n",
       "      <td>...</td>\n",
       "      <td>...</td>\n",
       "      <td>...</td>\n",
       "      <td>...</td>\n",
       "      <td>...</td>\n",
       "      <td>...</td>\n",
       "      <td>...</td>\n",
       "      <td>...</td>\n",
       "      <td>...</td>\n",
       "      <td>...</td>\n",
       "      <td>...</td>\n",
       "      <td>...</td>\n",
       "      <td>...</td>\n",
       "      <td>...</td>\n",
       "      <td>...</td>\n",
       "      <td>...</td>\n",
       "    </tr>\n",
       "    <tr>\n",
       "      <th>127</th>\n",
       "      <td>0.000999</td>\n",
       "      <td>0.000001</td>\n",
       "      <td>0.000000</td>\n",
       "      <td>0.000000</td>\n",
       "      <td>8</td>\n",
       "      <td>1.3</td>\n",
       "      <td>{'alpha': 8, 'l1_ratio': 1.3}</td>\n",
       "      <td>NaN</td>\n",
       "      <td>NaN</td>\n",
       "      <td>NaN</td>\n",
       "      <td>NaN</td>\n",
       "      <td>NaN</td>\n",
       "      <td>NaN</td>\n",
       "      <td>NaN</td>\n",
       "      <td>NaN</td>\n",
       "      <td>NaN</td>\n",
       "      <td>NaN</td>\n",
       "      <td>NaN</td>\n",
       "      <td>NaN</td>\n",
       "      <td>69</td>\n",
       "    </tr>\n",
       "    <tr>\n",
       "      <th>128</th>\n",
       "      <td>0.000799</td>\n",
       "      <td>0.000400</td>\n",
       "      <td>0.000000</td>\n",
       "      <td>0.000000</td>\n",
       "      <td>8</td>\n",
       "      <td>1.5</td>\n",
       "      <td>{'alpha': 8, 'l1_ratio': 1.5}</td>\n",
       "      <td>NaN</td>\n",
       "      <td>NaN</td>\n",
       "      <td>NaN</td>\n",
       "      <td>NaN</td>\n",
       "      <td>NaN</td>\n",
       "      <td>NaN</td>\n",
       "      <td>NaN</td>\n",
       "      <td>NaN</td>\n",
       "      <td>NaN</td>\n",
       "      <td>NaN</td>\n",
       "      <td>NaN</td>\n",
       "      <td>NaN</td>\n",
       "      <td>68</td>\n",
       "    </tr>\n",
       "    <tr>\n",
       "      <th>129</th>\n",
       "      <td>0.000600</td>\n",
       "      <td>0.000490</td>\n",
       "      <td>0.000000</td>\n",
       "      <td>0.000000</td>\n",
       "      <td>8</td>\n",
       "      <td>2</td>\n",
       "      <td>{'alpha': 8, 'l1_ratio': 2}</td>\n",
       "      <td>NaN</td>\n",
       "      <td>NaN</td>\n",
       "      <td>NaN</td>\n",
       "      <td>NaN</td>\n",
       "      <td>NaN</td>\n",
       "      <td>NaN</td>\n",
       "      <td>NaN</td>\n",
       "      <td>NaN</td>\n",
       "      <td>NaN</td>\n",
       "      <td>NaN</td>\n",
       "      <td>NaN</td>\n",
       "      <td>NaN</td>\n",
       "      <td>67</td>\n",
       "    </tr>\n",
       "    <tr>\n",
       "      <th>130</th>\n",
       "      <td>0.000899</td>\n",
       "      <td>0.000300</td>\n",
       "      <td>0.000000</td>\n",
       "      <td>0.000000</td>\n",
       "      <td>8</td>\n",
       "      <td>3</td>\n",
       "      <td>{'alpha': 8, 'l1_ratio': 3}</td>\n",
       "      <td>NaN</td>\n",
       "      <td>NaN</td>\n",
       "      <td>NaN</td>\n",
       "      <td>NaN</td>\n",
       "      <td>NaN</td>\n",
       "      <td>NaN</td>\n",
       "      <td>NaN</td>\n",
       "      <td>NaN</td>\n",
       "      <td>NaN</td>\n",
       "      <td>NaN</td>\n",
       "      <td>NaN</td>\n",
       "      <td>NaN</td>\n",
       "      <td>118</td>\n",
       "    </tr>\n",
       "    <tr>\n",
       "      <th>131</th>\n",
       "      <td>0.000599</td>\n",
       "      <td>0.000489</td>\n",
       "      <td>0.000000</td>\n",
       "      <td>0.000000</td>\n",
       "      <td>8</td>\n",
       "      <td>5</td>\n",
       "      <td>{'alpha': 8, 'l1_ratio': 5}</td>\n",
       "      <td>NaN</td>\n",
       "      <td>NaN</td>\n",
       "      <td>NaN</td>\n",
       "      <td>NaN</td>\n",
       "      <td>NaN</td>\n",
       "      <td>NaN</td>\n",
       "      <td>NaN</td>\n",
       "      <td>NaN</td>\n",
       "      <td>NaN</td>\n",
       "      <td>NaN</td>\n",
       "      <td>NaN</td>\n",
       "      <td>NaN</td>\n",
       "      <td>132</td>\n",
       "    </tr>\n",
       "  </tbody>\n",
       "</table>\n",
       "<p>132 rows × 20 columns</p>\n",
       "</div>"
      ],
      "text/plain": [
       "     mean_fit_time  std_fit_time  mean_score_time  std_score_time param_alpha  \\\n",
       "0         0.056256      0.011248         0.000699        0.000458         0.5   \n",
       "1         0.097785      0.012353         0.000600        0.000490         0.5   \n",
       "2         0.166468      0.040919         0.000700        0.000458         0.5   \n",
       "3         0.656772      0.125413         0.000400        0.000490         0.5   \n",
       "4         0.774499      0.088946         0.000200        0.000400         0.5   \n",
       "..             ...           ...              ...             ...         ...   \n",
       "127       0.000999      0.000001         0.000000        0.000000           8   \n",
       "128       0.000799      0.000400         0.000000        0.000000           8   \n",
       "129       0.000600      0.000490         0.000000        0.000000           8   \n",
       "130       0.000899      0.000300         0.000000        0.000000           8   \n",
       "131       0.000599      0.000489         0.000000        0.000000           8   \n",
       "\n",
       "    param_l1_ratio                            params  split0_test_score  \\\n",
       "0              0.7   {'alpha': 0.5, 'l1_ratio': 0.7}       -5044.383010   \n",
       "1              0.9   {'alpha': 0.5, 'l1_ratio': 0.9}       -5009.170011   \n",
       "2             0.95  {'alpha': 0.5, 'l1_ratio': 0.95}       -5022.105916   \n",
       "3             0.99  {'alpha': 0.5, 'l1_ratio': 0.99}       -5049.782774   \n",
       "4                1     {'alpha': 0.5, 'l1_ratio': 1}       -5005.910769   \n",
       "..             ...                               ...                ...   \n",
       "127            1.3     {'alpha': 8, 'l1_ratio': 1.3}                NaN   \n",
       "128            1.5     {'alpha': 8, 'l1_ratio': 1.5}                NaN   \n",
       "129              2       {'alpha': 8, 'l1_ratio': 2}                NaN   \n",
       "130              3       {'alpha': 8, 'l1_ratio': 3}                NaN   \n",
       "131              5       {'alpha': 8, 'l1_ratio': 5}                NaN   \n",
       "\n",
       "     split1_test_score  split2_test_score  split3_test_score  \\\n",
       "0         -3606.640528       -4768.802344       -4992.405429   \n",
       "1         -3535.877153       -4586.790162       -4836.845707   \n",
       "2         -3539.332341       -4548.037638       -4812.130921   \n",
       "3         -3591.983116       -4518.830722       -4844.797698   \n",
       "4         -3738.997001       -4470.868673       -4887.225818   \n",
       "..                 ...                ...                ...   \n",
       "127                NaN                NaN                NaN   \n",
       "128                NaN                NaN                NaN   \n",
       "129                NaN                NaN                NaN   \n",
       "130                NaN                NaN                NaN   \n",
       "131                NaN                NaN                NaN   \n",
       "\n",
       "     split4_test_score  split5_test_score  split6_test_score  \\\n",
       "0         -5335.656817       -5348.775113       -5728.167345   \n",
       "1         -5241.084063       -5253.718857       -5630.782047   \n",
       "2         -5224.430502       -5222.859805       -5605.849436   \n",
       "3         -5208.034598       -5170.038286       -5588.592566   \n",
       "4         -5074.383766       -5040.982582       -5442.028460   \n",
       "..                 ...                ...                ...   \n",
       "127                NaN                NaN                NaN   \n",
       "128                NaN                NaN                NaN   \n",
       "129                NaN                NaN                NaN   \n",
       "130                NaN                NaN                NaN   \n",
       "131                NaN                NaN                NaN   \n",
       "\n",
       "     split7_test_score  split8_test_score  split9_test_score  mean_test_score  \\\n",
       "0         -5368.051319       -5127.670128       -5679.223979     -5099.977601   \n",
       "1         -5201.520072       -5001.878307       -5526.171209     -4982.383759   \n",
       "2         -5167.486381       -4978.804954       -5486.625186     -4960.766308   \n",
       "3         -5176.593275       -4978.267149       -5478.802358     -4960.572254   \n",
       "4         -5171.034647       -4948.213532       -5634.597795     -4941.424304   \n",
       "..                 ...                ...                ...              ...   \n",
       "127                NaN                NaN                NaN              NaN   \n",
       "128                NaN                NaN                NaN              NaN   \n",
       "129                NaN                NaN                NaN              NaN   \n",
       "130                NaN                NaN                NaN              NaN   \n",
       "131                NaN                NaN                NaN              NaN   \n",
       "\n",
       "     std_test_score  rank_test_score  \n",
       "0        572.242886               29  \n",
       "1        563.546711               22  \n",
       "2        555.932073               15  \n",
       "3        538.943211               14  \n",
       "4        498.578086               12  \n",
       "..              ...              ...  \n",
       "127             NaN               69  \n",
       "128             NaN               68  \n",
       "129             NaN               67  \n",
       "130             NaN              118  \n",
       "131             NaN              132  \n",
       "\n",
       "[132 rows x 20 columns]"
      ]
     },
     "execution_count": 353,
     "metadata": {},
     "output_type": "execute_result"
    }
   ],
   "source": [
    "pd.DataFrame(grid_model.cv_results_)"
   ]
  },
  {
   "cell_type": "code",
   "execution_count": null,
   "id": "54375812-df8b-49bb-b830-ae9881d79901",
   "metadata": {},
   "outputs": [],
   "source": []
  },
  {
   "cell_type": "markdown",
   "id": "0ea5d8e0-d776-4a73-86d7-390015c99b8b",
   "metadata": {},
   "source": [
    "## Using Best Model From GridSearch"
   ]
  },
  {
   "cell_type": "code",
   "execution_count": 354,
   "id": "b3661227-3f26-448c-8005-5f0f27f60e71",
   "metadata": {},
   "outputs": [],
   "source": [
    "y_pred = grid_model.predict(X_test)"
   ]
  },
  {
   "cell_type": "code",
   "execution_count": 355,
   "id": "1ad3e980-2503-4109-b18f-bef43c59156c",
   "metadata": {},
   "outputs": [
    {
     "name": "stdout",
     "output_type": "stream",
     "text": [
      "Model testing performance:\n",
      "--------------------------\n",
      "R2_score \t: 0.8511760310335974\n",
      "MAE \t\t: 2774.4538376239716\n",
      "MSE \t\t: 21000623.67715957\n",
      "RMSE \t\t: 4582.643743207579\n"
     ]
    }
   ],
   "source": [
    "eval_metrics(y_test, y_pred)"
   ]
  },
  {
   "cell_type": "code",
   "execution_count": 356,
   "id": "131c12c7-4ac6-40ec-b39d-7110de3b279d",
   "metadata": {},
   "outputs": [],
   "source": [
    "y_train_pred = grid_model.predict(X_train)"
   ]
  },
  {
   "cell_type": "code",
   "execution_count": 357,
   "id": "26c653de-701d-44a9-9091-5e1c459b880a",
   "metadata": {},
   "outputs": [
    {
     "name": "stdout",
     "output_type": "stream",
     "text": [
      "Model testing performance:\n",
      "--------------------------\n",
      "R2_score \t: 0.8433246128841745\n",
      "MAE \t\t: 2903.036763344775\n",
      "MSE \t\t: 23163083.110831186\n",
      "RMSE \t\t: 4812.804079830301\n"
     ]
    }
   ],
   "source": [
    "eval_metrics(y_train, y_train_pred)"
   ]
  },
  {
   "cell_type": "code",
   "execution_count": null,
   "id": "42ecfb52-d032-4bc9-a697-4bf0b60145cc",
   "metadata": {},
   "outputs": [],
   "source": []
  }
 ],
 "metadata": {
  "kernelspec": {
   "display_name": "Python 3 (ipykernel)",
   "language": "python",
   "name": "python3"
  },
  "language_info": {
   "codemirror_mode": {
    "name": "ipython",
    "version": 3
   },
   "file_extension": ".py",
   "mimetype": "text/x-python",
   "name": "python",
   "nbconvert_exporter": "python",
   "pygments_lexer": "ipython3",
   "version": "3.9.7"
  }
 },
 "nbformat": 4,
 "nbformat_minor": 5
}
